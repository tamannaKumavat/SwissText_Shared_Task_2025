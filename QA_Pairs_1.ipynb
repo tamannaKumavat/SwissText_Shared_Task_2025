{
  "nbformat": 4,
  "nbformat_minor": 0,
  "metadata": {
    "colab": {
      "provenance": []
    },
    "kernelspec": {
      "name": "python3",
      "display_name": "Python 3"
    },
    "language_info": {
      "name": "python"
    }
  },
  "cells": [
    {
      "cell_type": "markdown",
      "source": [
        "# Generation of QA Pairs Notebook\n",
        "\n",
        "## Notebook Overview\n",
        "\n",
        "This notebook leverages NLP to generate, evaluate, and refine question–answer (QA) pairs from cleantech media and patent documents, with the goal of advancing retrieval-augmented generation (RAG) systems for cleantech.\n",
        "\n",
        "To achieve this, we employed a series of  NLP techniques and evaluation strategies:\n",
        "\n",
        "1. Data Selection & Preparation:\n",
        "We curated 50–100 relevant paragraphs from cleantech media and patent datasets, ensuring diversity and relevance to key topics..\n",
        "\n",
        "2. QA Pair Generation:\n",
        "Using large language models (LLMs), we generated fact-based QA pairs from the selected paragraphs, ensuring close alignment with the source content.\n",
        "\n",
        "3. QA Pair Classification:\n",
        "QA pairs were classified into categories (e.g., Factual, Comparative) using rule-based and embedding methods based on semantic similarity to predefined prototypes.\n",
        "\n",
        "4. LLM-as-a-Judge Evaluation:\n",
        "Recognizing that not every generated QA pair would be of equal quality, we then evaluated each pair using LLM-based critique agents. These agents assessed three key criteria:\n",
        "  - Groundedness: How clearly can the question be answered based on the given context?\n",
        "  - Relevance: How useful is the question for developing cleantech NLP applications?\n",
        "  - Standalone Clarity: Does the question make sense independently, without needing extra context?\n",
        "      \n",
        "  For each criterion, the LLM provided both a numerical score (1 to 5) and detailed feedback, which helped us identify and filter out lower-quality QA pairs.\n",
        "\n",
        "5. Filtering & Analysis:\n",
        "QA pairs scoring at least 4 out of 5 on all criteria were retained, and the dataset's quality was visualized for further refinement."
      ],
      "metadata": {
        "id": "wWeJAk1PtaMq"
      }
    },
    {
      "cell_type": "markdown",
      "source": [
        "## 1. Introduction & Learning Goals\n",
        "\n",
        "We started with the goal of creating a comprehensive QA dataset from cleantech texts, extracting 50–100 high-quality paragraphs from the Cleantech Media and Google Patent datasets. These paragraphs cover various cleantech topics, ensuring diverse and relevant QA pairs.\n",
        "\n",
        "This notebook walks you through generating high-quality QA pairs, emphasizing the importance of data quality and robust evaluation in NLP applications."
      ],
      "metadata": {
        "id": "4gzckevigGdI"
      }
    },
    {
      "cell_type": "markdown",
      "source": [
        "## 2. Data Preparation & Visualization"
      ],
      "metadata": {
        "id": "Ymd9R2pIgIp9"
      }
    },
    {
      "cell_type": "markdown",
      "source": [
        "### Set the OpenRouter.api Key\n",
        "\n"
      ],
      "metadata": {
        "id": "4C8Qe0fOlda1"
      }
    },
    {
      "cell_type": "code",
      "source": [
        "%%writefile .env\n",
        "\n",
        "api_key = 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"
      ],
      "metadata": {
        "id": "9MXZ74sslq5T",
        "colab": {
          "base_uri": "https://localhost:8080/"
        },
        "outputId": "ded5212a-1853-4435-d524-5ef6806a3557"
      },
      "execution_count": 11,
      "outputs": [
        {
          "output_type": "stream",
          "name": "stdout",
          "text": [
            "Overwriting .env\n"
          ]
        }
      ]
    },
    {
      "cell_type": "markdown",
      "source": [
        "*Python library Installations*"
      ],
      "metadata": {
        "id": "5jJ8RArQnZiy"
      }
    },
    {
      "cell_type": "code",
      "source": [
        "!pip install gensim"
      ],
      "metadata": {
        "colab": {
          "base_uri": "https://localhost:8080/"
        },
        "id": "5SKcvoNPYv8u",
        "outputId": "d861128f-824c-40e2-aa2d-5ecc532099c7"
      },
      "execution_count": 161,
      "outputs": [
        {
          "output_type": "stream",
          "name": "stdout",
          "text": [
            "Requirement already satisfied: gensim in /usr/local/lib/python3.11/dist-packages (4.3.3)\n",
            "Collecting numpy<2.0,>=1.18.5 (from gensim)\n",
            "  Using cached numpy-1.26.4-cp311-cp311-manylinux_2_17_x86_64.manylinux2014_x86_64.whl.metadata (61 kB)\n",
            "Requirement already satisfied: scipy<1.14.0,>=1.7.0 in /usr/local/lib/python3.11/dist-packages (from gensim) (1.13.1)\n",
            "Requirement already satisfied: smart-open>=1.8.1 in /usr/local/lib/python3.11/dist-packages (from gensim) (7.1.0)\n",
            "Requirement already satisfied: wrapt in /usr/local/lib/python3.11/dist-packages (from smart-open>=1.8.1->gensim) (1.17.2)\n",
            "Using cached numpy-1.26.4-cp311-cp311-manylinux_2_17_x86_64.manylinux2014_x86_64.whl (18.3 MB)\n",
            "Installing collected packages: numpy\n",
            "  Attempting uninstall: numpy\n",
            "    Found existing installation: numpy 2.2.4\n",
            "    Uninstalling numpy-2.2.4:\n",
            "      Successfully uninstalled numpy-2.2.4\n",
            "\u001b[31mERROR: pip's dependency resolver does not currently take into account all the packages that are installed. This behaviour is the source of the following dependency conflicts.\n",
            "thinc 8.3.6 requires numpy<3.0.0,>=2.0.0, but you have numpy 1.26.4 which is incompatible.\n",
            "bigframes 1.42.0 requires rich<14,>=12.4.4, but you have rich 14.0.0 which is incompatible.\u001b[0m\u001b[31m\n",
            "\u001b[0mSuccessfully installed numpy-1.26.4\n"
          ]
        }
      ]
    },
    {
      "cell_type": "code",
      "source": [
        "!pip install -q tiktoken pandas numpy seaborn matplotlib spacy langchain tqdm openai sentence-transformers python-dotenv"
      ],
      "metadata": {
        "id": "twzYQTHIMfNK",
        "colab": {
          "base_uri": "https://localhost:8080/"
        },
        "outputId": "cc4df464-25a7-4d3e-c6e6-9e5daa39e284"
      },
      "execution_count": 162,
      "outputs": [
        {
          "output_type": "stream",
          "name": "stdout",
          "text": [
            "\u001b[31mERROR: pip's dependency resolver does not currently take into account all the packages that are installed. This behaviour is the source of the following dependency conflicts.\n",
            "gensim 4.3.3 requires numpy<2.0,>=1.18.5, but you have numpy 2.2.4 which is incompatible.\n",
            "bigframes 1.42.0 requires rich<14,>=12.4.4, but you have rich 14.0.0 which is incompatible.\n",
            "tensorflow 2.18.0 requires numpy<2.1.0,>=1.26.0, but you have numpy 2.2.4 which is incompatible.\n",
            "numba 0.60.0 requires numpy<2.1,>=1.22, but you have numpy 2.2.4 which is incompatible.\u001b[0m\u001b[31m\n",
            "\u001b[0m"
          ]
        }
      ]
    },
    {
      "cell_type": "markdown",
      "source": [
        "### Loading the Dependencies"
      ],
      "metadata": {
        "id": "YTsM14O5oD7B"
      }
    },
    {
      "cell_type": "code",
      "source": [
        "import os\n",
        "from dotenv import load_dotenv\n",
        "import pandas as pd\n",
        "import numpy as np\n",
        "import ast\n",
        "from collections import Counter\n",
        "import seaborn as sns\n",
        "import matplotlib.pyplot as plt\n",
        "import tiktoken\n",
        "import spacy\n",
        "from openai import OpenAI\n",
        "from tqdm.auto import tqdm\n",
        "from typing import Optional, List, Tuple\n",
        "import json\n",
        "import textwrap\n",
        "\n",
        "from langchain.text_splitter import RecursiveCharacterTextSplitter\n",
        "from langchain.docstore.document import Document as LangchainDocument\n",
        "\n",
        "pd.set_option(\"display.max_colwidth\", None)\n",
        "\n",
        "nlp = spacy.load(\"en_core_web_sm\")\n",
        "\n",
        "encoding = tiktoken.encoding_for_model(\"gpt-4\")\n",
        "\n",
        "import nltk\n",
        "import string\n",
        "from nltk.tokenize import word_tokenize\n",
        "from nltk.corpus import stopwords\n",
        "from nltk.stem import WordNetLemmatizer, PorterStemmer\n",
        "\n",
        "nltk.download('punkt_tab')\n",
        "nltk.download('stopwords')\n",
        "nltk.download('wordnet')\n",
        "\n",
        "stop_words = set(stopwords.words('english'))\n",
        "lemmatizer = WordNetLemmatizer()\n",
        "stemmer = PorterStemmer()\n",
        "\n",
        "\n"
      ],
      "metadata": {
        "id": "RSRN3aecoDcD",
        "colab": {
          "base_uri": "https://localhost:8080/"
        },
        "outputId": "3ac3b6e6-04f0-4010-ecd2-c3d1e08f2066"
      },
      "execution_count": 13,
      "outputs": [
        {
          "output_type": "stream",
          "name": "stderr",
          "text": [
            "[nltk_data] Downloading package punkt_tab to /root/nltk_data...\n",
            "[nltk_data]   Package punkt_tab is already up-to-date!\n",
            "[nltk_data] Downloading package stopwords to /root/nltk_data...\n",
            "[nltk_data]   Package stopwords is already up-to-date!\n",
            "[nltk_data] Downloading package wordnet to /root/nltk_data...\n",
            "[nltk_data]   Package wordnet is already up-to-date!\n"
          ]
        }
      ]
    },
    {
      "cell_type": "markdown",
      "source": [
        "### Setting up our LLM"
      ],
      "metadata": {
        "id": "YNEGcvjEmv8t"
      }
    },
    {
      "cell_type": "code",
      "source": [
        "load_dotenv()\n",
        "\n",
        "client = OpenAI(\n",
        "  base_url=\"https://openrouter.ai/api/v1\",\n",
        "  api_key=os.getenv(\"api_key\"),\n",
        ")"
      ],
      "metadata": {
        "id": "tTxJd50Wfrxk"
      },
      "execution_count": 14,
      "outputs": []
    },
    {
      "cell_type": "markdown",
      "source": [
        "### Dataset Download\n",
        "\n",
        "- Cleantech Media Dataset: Contains media articles focused on cleantech topics.\n",
        "\n",
        "- Google Patent Dataset: Provides detailed patent information related to cleantech.\n",
        "\n",
        "If using Colab, you can download these datasets directly from Kaggle (using the Kaggle API) or from provided Google Drive links. Make sure to store them in a designated folder (e.g., data/bronze).\n"
      ],
      "metadata": {
        "id": "P0Aw2-1wnmbh"
      }
    },
    {
      "cell_type": "code",
      "source": [
        "import kagglehub\n",
        "from kagglehub import KaggleDatasetAdapter\n",
        "\n",
        "file_path_media_dataset_v3_2024_10_28 = \"cleantech_media_dataset_v3_2024-10-28.csv\"\n",
        "\n",
        "articles_df  = kagglehub.load_dataset(\n",
        "  KaggleDatasetAdapter.PANDAS,\n",
        "  \"jannalipenkova/cleantech-media-dataset\",\n",
        "  file_path_media_dataset_v3_2024_10_28,\n",
        ")\n",
        "\n",
        "file_path_media_dataset_v3_2024_09_20 = \"cleantech_rag_evaluation_data_2024-09-20.csv\"\n",
        "\n",
        "human_eval = kagglehub.load_dataset(\n",
        "    KaggleDatasetAdapter.PANDAS,\n",
        "    \"jannalipenkova/cleantech-media-dataset\",\n",
        "    file_path_media_dataset_v3_2024_09_20,\n",
        "    pandas_kwargs={\n",
        "        \"sep\": \";\",\n",
        "        \"engine\": \"python\",\n",
        "        \"encoding\": \"latin-1\",\n",
        "    }\n",
        ")\n",
        "\n",
        "# print(\"First 5 records:\", df_media_dataset_v3_2024_09_20.head())\n"
      ],
      "metadata": {
        "colab": {
          "base_uri": "https://localhost:8080/"
        },
        "id": "0JD3tSjaVNf4",
        "outputId": "a8513df6-6160-4ca9-c781-7746cfdb35bc"
      },
      "execution_count": 164,
      "outputs": [
        {
          "output_type": "stream",
          "name": "stderr",
          "text": [
            "<ipython-input-164-8dd5952fdf74>:6: DeprecationWarning: load_dataset is deprecated and will be removed in future version.\n",
            "  articles_df  = kagglehub.load_dataset(\n",
            "<ipython-input-164-8dd5952fdf74>:14: DeprecationWarning: load_dataset is deprecated and will be removed in future version.\n",
            "  human_eval = kagglehub.load_dataset(\n"
          ]
        }
      ]
    },
    {
      "cell_type": "code",
      "source": [
        "\n",
        "file_paths = [\n",
        "    'bq-results-20240124-055833-1706076079048.json',\n",
        "    'CleanTech_22-24.json',\n",
        "    'CleanTech_22-24_updated.json'\n",
        "]\n",
        "\n",
        "dfs = {}\n",
        "\n",
        "for file_path in file_paths:\n",
        "   df = kagglehub.load_dataset(\n",
        "       KaggleDatasetAdapter.PANDAS,\n",
        "        \"prakharbhandari20/cleantech-google-patent-dataset\",\n",
        "        \"bq-results-20240124-055833-1706076079048.json\",\n",
        "        pandas_kwargs={\n",
        "            \"lines\": True,\n",
        "        })\n",
        "   dfs[file_path] = df\n",
        "\n",
        "\n",
        "\n",
        "patent_df = dfs['bq-results-20240124-055833-1706076079048.json']"
      ],
      "metadata": {
        "id": "joUR8ue9i9eQ",
        "colab": {
          "base_uri": "https://localhost:8080/"
        },
        "outputId": "1826686f-981f-47b4-b201-28ca67cf8d81"
      },
      "execution_count": null,
      "outputs": [
        {
          "output_type": "stream",
          "name": "stderr",
          "text": [
            "<ipython-input-165-c1df106e5251>:10: DeprecationWarning: load_dataset is deprecated and will be removed in future version.\n",
            "  df = kagglehub.load_dataset(\n",
            "<ipython-input-165-c1df106e5251>:10: DeprecationWarning: load_dataset is deprecated and will be removed in future version.\n",
            "  df = kagglehub.load_dataset(\n"
          ]
        }
      ]
    },
    {
      "cell_type": "code",
      "source": [
        "# !curl -O https://raw.githubusercontent.com/tamannaKumavat/SwissText_Shared_Task_2025/main/data/merged_media_qa_pairs.csv\n",
        "# !curl -O https://raw.githubusercontent.com/tamannaKumavat/SwissText_Shared_Task_2025/main/data/patent_dataset_qa_pairs.csv\n"
      ],
      "metadata": {
        "id": "0wNLJBxENEOw"
      },
      "execution_count": 17,
      "outputs": []
    },
    {
      "cell_type": "markdown",
      "source": [
        "### Text Preprocessing\n"
      ],
      "metadata": {
        "id": "pJrG8xGmO9_t"
      }
    },
    {
      "cell_type": "code",
      "source": [
        "def preprocess_text(text, apply_stemming=False):\n",
        "    \"\"\"\n",
        "    Preprocess a given text by:\n",
        "      - Converting to lowercase\n",
        "      - Tokenizing\n",
        "      - Removing punctuation and stop words\n",
        "      - Applying lemmatization (and optionally stemming)\n",
        "    \"\"\"\n",
        "    if not isinstance(text, str):\n",
        "        return []\n",
        "\n",
        "    text = text.lower()\n",
        "    tokens = word_tokenize(text)\n",
        "    tokens = [token for token in tokens if token not in string.punctuation]\n",
        "    tokens = [token for token in tokens if token not in stop_words]\n",
        "    tokens = [lemmatizer.lemmatize(token) for token in tokens]\n",
        "\n",
        "    if apply_stemming:\n",
        "        tokens = [stemmer.stem(token) for token in tokens]\n",
        "\n",
        "    return tokens\n"
      ],
      "metadata": {
        "id": "OEcocEpePCIu"
      },
      "execution_count": 18,
      "outputs": []
    },
    {
      "cell_type": "code",
      "source": [
        "articles_df.head(2)"
      ],
      "metadata": {
        "colab": {
          "base_uri": "https://localhost:8080/",
          "height": 1000
        },
        "id": "ZzPr_8EGkvOm",
        "outputId": "525ad9d2-1c48-4371-87fd-529887e8e94b"
      },
      "execution_count": 119,
      "outputs": [
        {
          "output_type": "execute_result",
          "data": {
            "text/plain": [
              "   Unnamed: 0                                          title        date  \\\n",
              "0       93320      XPeng Delivered ~100,000 Vehicles In 2021  2022-01-02   \n",
              "1       93321  Green Hydrogen: Drop In Bucket Or Big Splash?  2022-01-02   \n",
              "\n",
              "   author  \\\n",
              "0     NaN   \n",
              "1     NaN   \n",
              "\n",
              "                                                                                                                                                                                                                                                                                                                                                                                                                                                                                                                                                                                                                                                                                                                                                                                                                                                                                                                                                                                                                                                                                                                                                                                                                                                                                                                                                                                                                                                                                                                                                                                                                                                                                                                                                                                                                                                                                                                                                                                                                                                                                                                                                                                                                                                                                                                                                                                                                                                                                                                                                                                                                                                                                                                                                                                                                                                                                                                                                                                                                                                                                                                                                                                                                                                                                                                                                                                                                                                                                                                                                                                                                                                                                                                                                                                                                                                                                                                                                                                                                                                                                                                                                                                                                                                                                                                                                                                                                                                                                                                                                                                                                                                                                                                                                                                                                                                                                                                                                                                                                                                                                                                                                                                                                                                                                                                                                                                                                                                                                                                                                                                                                                                                                                                                                                                                                                                                                                                                                                                                                                                                                                                                                                                                                                                                                                                                                                                                                                                                                                                                                                                                                                                                                                                                                                                                                                                                                                                                                                                                                                                                                                                                                                                                                                                                                                                                                                                                                                                                                                                                                                                                                                                                                                                                                                                                                                                                                                                                                                                                                                                                                                                                                                                                                                                                                                                                                                                   content  \\\n",
              "0                                                                                                                                                                                                                                                                                                                                                                                                                                                                                                                                                                                                                                                                                                                                                                                                                                                                                                                                                                                                                                                                                                                                                                                                                                                                                                                                                                                                                                                                                                                                                                                                                                                                                                                                                                                                                                                                                                                                                                                                                                                                                                                                                                                                                                                                                                                                                                                                                                                                                                                                                                                                                                                                                                                                                                                                                                                                                                                                                                                                                                                                                                                                                                                                                                                                                                                                                                                                                                                                                                                                                                                                                                                                                                                                                                                                                                                                                                                                                                                                                                                                                                                                                                                                                                                                                                                                                                                                                                                                                                  ['Chinese automotive startup XPeng has shown one of the most dramatic auto production ramp-ups in history, and the good news is it only produces 100% smart electric vehicles ( EVs). At a mere 7 years of age, and just a few years after launching its first vehicle ( the XPeng G3 went on sales in December 2018), XPeng has wrapped up a year of sales totaling almost 100,000. In 2021, XPeng delivered 98,155 smart EVs, a 263% year-over-year increase.', 'In December, 16,000 vehicles were delivered, a 181% year-over-year increase compared to December 2020. There were 41,751 vehicles delivered in Q4 2021, which was a 222% year-over-year increase.', 'Reinforcing how impressive the 98,155 delivery figure for 2021 is, at the end of the year, XPeng reached just 137,953 cumulative deliveries.', 'All the more impressive, XPeng’ s monthly delivery target is 15,000 vehicles, and December was the second month in a row that was surpassed — and that’ s despite the global automotive chip shortage and other supply chain challenges.', 'In the case of the P7, deliveries were up 102%. GS deliveries were up 75%. The P5 was not on the market one year ago, but its sales did increase 134% month over month.', 'XPeng also noted that its broader charging and sales network in China has been growing “ rapidly. ” It had “ 661 branded supercharging stations across 228 cities and 311 physical retail stores in operation across 121 cities as of the end of November 2021. ”', 'All in all, XPeng’ s growth seems to be rolling out as the company hoped and planned, or even better. It’ s quite an uplifting sight to see another pure EV company scaling up production rapidly and achieving great sales success at a young age. Of course, the reference company need not be named, and we need not compare the two or pretend XPeng should exactly follow Tesla’ s ( whoops) path. However, the point is that we are getting more examples of pure EV companies achieving great successes.', \"Zach is tryin ' to help society help itself one word at a time. He spends most of his time here on CleanTechnica as its director, chief editor, and CEO. Zach is recognized globally as an electric vehicle, solar energy, and energy storage expert. He has presented about cleantech at conferences in India, the UAE, Ukraine, Poland, Germany, the Netherlands, the USA, Canada, and Curaçao. Zach has long-term investments in Tesla [ TSLA ], NIO [ NIO ], Xpeng [ XPEV ], Ford [ F ], ChargePoint [ CHPT ], Amazon [ AMZN ], Piedmont Lithium [ PLL ], Lithium Americas [ LAC ], Albemarle Corporation [ ALB ], Nouveau Monde Graphite [ NMGRF ], Talon Metals [ TLOFF ], Arclight Clean Transition Corp [ ACTC ], and Starbucks [ SBUX ]. But he does not offer ( explicitly or implicitly) investment advice of any sort.\", 'Advertise with CleanTechnica to get your company in front of millions of monthly readers.', 'Rethink Energy has made the prediction that some countries’ entire automotive fleets will be electric within the next decade. Policy changes in various countries...', 'Tesla hits the UK with its strongest ever May, helping lift the plugin electric vehicle market share to 23.1%, up from 18.3% year on...', 'The auto market in Germany saw plugin EVs take 22.9% share in May 2023, down from 25.3% year on year. Full electrics gained share,...', 'Recently, we did a story about the 2023 NADA convention and goat roping in Dallas, where Slate correspondent Alexander Sammon got a chance to...', 'Copyright © 2023 CleanTechnica. The content produced by this site is for entertainment purposes only. Opinions and comments published on this site may not be sanctioned by and do not necessarily represent the views of CleanTechnica, its owners, sponsors, affiliates, or subsidiaries.']   \n",
              "1  ['Sinopec has laid plans to build the largest green hydrogen production facility in the world, but interest in fossil-sourced hydrogen continues apace.', 'Skepticism abounds over the green hydrogen field, and yet leading players on the global energy stage seem willing to give it a whirl. In the latest development, Sinopec has lent its financial muscle to the field. The company plans to have the proposed “ Sinopec Xinjiang Kuqa Green Hydrogen Pilot Project ” up and running by 2023, which will add 20,000 tons of annual output to the small but growing supply of sustainable hydrogen in the global economy.', 'In past years, the green hydrogen field has run afoul of the greenwashing matrix. Hydrogen itself is not “ green. ” Hydrogen can serve as a zero emission fuel, whether combusted or used in a fuel cell. However, the primary source of hydrogen today is natural gas, and to some extent coal.', 'The “ green ” in green hydrogen has only appeared in recent years, concurrent with the falling cost of wind and solar energy. The availability of low cost renewable energy has made it possible to lower the carbon footprint of electrolyzer systems, which deploy an electrical current to push hydrogen gas out of water.', 'So, now the issue is not so much whether or not green hydrogen is a real thing. The question is to what extent the interest in green hydrogen will pump up the overall demand for hydrogen too quickly, enabling the supply of fossil sourced hydrogen in the global economy to go up instead of down.', 'That brings us to Sinopec, aka China Petroleum & Chemical Corporation, the well-known Bejing-based energy firm. Though best known for its fossil energy interests, Sinopec has been dabbling in biofuels and it looks like sustainable hydrogen is next in line.', 'Sinopec has a lot of catching up to do if it wants to transition out of fossil-sourced hydrogen. The company currently states its hydrogen output at a total of 3.5 million tons annually. Meanwhile, its newly launched “ Sinopec Xinjiang Kuqa Green Hydrogen Pilot Project ” will only produce 20,000 tons annually.', 'That gap could grow instead of shrinking, if Sinopec follows through on a $ 4.6 billion pivot into natural gas and hydrogen. Also, according to the China Hydrogen Energy Alliance, the annual demand for hydrogen in China alone could grow into the range of 60 million tons annually by 2050.', 'Still, at 20,000 tons the new hydrogen project is nothing to sneeze at. It will be among the biggest such facilities in the world when it commences operations in June 2023, if not the biggest.', 'Actually, it could be the very biggest, by far. The firm Air Liquide has a large-scale electrolyzer facility up and running in Canada, but the output barely scrapes 3,300 tons annually ( 8.2 tonnes daily). Shell has an electrolyzer project under way in Germany that will produce 1,300 tons of hydrogen annually. If you know of any other big projects in the works, drop us a note in the comment thread.', 'If Sinopec calls it quits after a single 20,000-ton project, that would be the end of the story. However, the company has put out signals that the new facility is intended to provide a model for others to follow.', 'One signal is the scale of the company’ s commitment to the sustainable hydrogen infrastructure.', '“ As part of the project, Sinopec will build a new photovoltaic power station with an installed capacity of 300MW and annual power generation of 618 million kilowatt-hours, an electrolyzed water hydrogen plant with an annual capacity of 20,000 tons, a spherical hydrogen storage tank with hydrogen storage capacity of 210,000 standard cubic meters, and hydrogen transmission pipelines with a capacity of 28,000 standard cubic meters per hour ( including supporting power transmission and transformation facilities), ” the company explains.', 'Another hint is the existence of a buyer. According to Sinopec, its Tahe Refining & Chemical division will use green hydrogen from the new facility to decarbonize its hydrogen production.', 'That brings up an interesting point about green hydrogen, which is that refinery operations account for a leading source of demand for hydrogen. So, all things being equal, green hydrogen would be deployed to enable the continued production of petroleum-based fuels and chemicals.', 'Well, that’ s the way the cookie crumbles. If the Tahe deal comes through, it would follow a broader trend of deploying renewable energy to in tandem with fossil sources. Sinopec, for example, is among the energy firms that use solar panels to power their oil fields. Coal mines and other extractive sites are also increasingly turning to renewables.', 'Sinopec also recently signed an agreement with Jinko Solar to build solar canopies at 18 Sinopec filling stations in China. That is just one of Sinopec’ s growing suite of solarization projects, and therein lies another hint about the company’ s green hydrogen intentions.', 'Last week Jinko put out the word that it has inked a major solar power deal with Sinopec Star, which plans to build “ several industrial-scale solar-powered, emission-free, hydrogen production facilities across China. ”', 'The facilities will “ serve as proof of concept for the cost-competitive production of hydrogen from advanced solar technology, ” Jinko added.', 'Earlier in December, Sinopec President Ma Yongsheng also seemed to mark a sharp pivot in Sinopec’ s plans for growth in the hydrogen economy.', 'In recent years, Sinopec and China have been targeting conventional, fossil-sourced hydrogen as a “ clean ” fuel but, during a conference in Bejing, Ma Yongsheng indicated a shift in emphasis for Sinopec, towards so-called “ blue ” hydrogen as well as green hydrogen.', 'In terms of keeping fossilized carbon sequestered underground where it belongs, “ blue ” hydrogen is a public relations gimmick. It refers to producing hydrogen from fossil sources, in combination with a carbon capture system.', 'The green hydrogen track has more potential to make a planet-saving impact, partly because legacy engineering firms are beginning to fall all over themselves in pursuit of new business in the green hydrogen field.', 'Mitsubishi, for example, has introduced a new gas turbine designed to transition into green hydrogen as supplies become available, and Cummins is scaling up its hydrogen electrolyzer technology with a $ 5 million assist from the US Department of Energy. Not to be outdone, GE has embarked on a pilot project that could eventually convert the 1,100 megawatt Cricket Valley gas power plant in upstate New York to run on green hydrogen.', 'The green hydrogen supply chain is also maturing. One good example is Siemens Gamesa, which has hooked up with the thermoplastics firm Strohm to supply piping for a green hydrogen mashup with offshore wind farms.', 'Photo: Sustainable hydrogen site prepping for construction ( courtesy of Sinopec).', 'Tina specializes in military and corporate sustainability, advanced technology, emerging materials, biofuels, and water and wastewater issues. Views expressed are her own. Follow her on Twitter @ TinaMCasey and Spoutible.', 'Advertise with CleanTechnica to get your company in front of millions of monthly readers.', \"Toyota's look-ahead to 2026 has a lot to do with hydrogen – but if you're thinking fuel cells, you're thinking wrong.\", 'A new cargo ship will use 100% wind energy to ferry goods between Europe and the US, without the carbon baggage.', 'The US state of North Dakota is among those not waiting around for the green hydrogen grass to grow under their feet.', 'Rethink Energy has made the prediction that some countries’ entire automotive fleets will be electric within the next decade. Policy changes in various countries...', 'Copyright © 2023 CleanTechnica. The content produced by this site is for entertainment purposes only. Opinions and comments published on this site may not be sanctioned by and do not necessarily represent the views of CleanTechnica, its owners, sponsors, affiliates, or subsidiaries.']   \n",
              "\n",
              "          domain  \\\n",
              "0  cleantechnica   \n",
              "1  cleantechnica   \n",
              "\n",
              "                                                                                                              url  \n",
              "0                                   https://cleantechnica.com/2022/01/02/xpeng-delivered-100000-vehicles-in-2021/  \n",
              "1  https://cleantechnica.com/2022/01/02/its-a-green-hydrogen-drop-in-the-bucket-but-it-could-still-make-a-splash/  "
            ],
            "text/html": [
              "\n",
              "  <div id=\"df-715803f7-c678-4618-aee0-22dd56765493\" class=\"colab-df-container\">\n",
              "    <div>\n",
              "<style scoped>\n",
              "    .dataframe tbody tr th:only-of-type {\n",
              "        vertical-align: middle;\n",
              "    }\n",
              "\n",
              "    .dataframe tbody tr th {\n",
              "        vertical-align: top;\n",
              "    }\n",
              "\n",
              "    .dataframe thead th {\n",
              "        text-align: right;\n",
              "    }\n",
              "</style>\n",
              "<table border=\"1\" class=\"dataframe\">\n",
              "  <thead>\n",
              "    <tr style=\"text-align: right;\">\n",
              "      <th></th>\n",
              "      <th>Unnamed: 0</th>\n",
              "      <th>title</th>\n",
              "      <th>date</th>\n",
              "      <th>author</th>\n",
              "      <th>content</th>\n",
              "      <th>domain</th>\n",
              "      <th>url</th>\n",
              "    </tr>\n",
              "  </thead>\n",
              "  <tbody>\n",
              "    <tr>\n",
              "      <th>0</th>\n",
              "      <td>93320</td>\n",
              "      <td>XPeng Delivered ~100,000 Vehicles In 2021</td>\n",
              "      <td>2022-01-02</td>\n",
              "      <td>NaN</td>\n",
              "      <td>['Chinese automotive startup XPeng has shown one of the most dramatic auto production ramp-ups in history, and the good news is it only produces 100% smart electric vehicles ( EVs). At a mere 7 years of age, and just a few years after launching its first vehicle ( the XPeng G3 went on sales in December 2018), XPeng has wrapped up a year of sales totaling almost 100,000. In 2021, XPeng delivered 98,155 smart EVs, a 263% year-over-year increase.', 'In December, 16,000 vehicles were delivered, a 181% year-over-year increase compared to December 2020. There were 41,751 vehicles delivered in Q4 2021, which was a 222% year-over-year increase.', 'Reinforcing how impressive the 98,155 delivery figure for 2021 is, at the end of the year, XPeng reached just 137,953 cumulative deliveries.', 'All the more impressive, XPeng’ s monthly delivery target is 15,000 vehicles, and December was the second month in a row that was surpassed — and that’ s despite the global automotive chip shortage and other supply chain challenges.', 'In the case of the P7, deliveries were up 102%. GS deliveries were up 75%. The P5 was not on the market one year ago, but its sales did increase 134% month over month.', 'XPeng also noted that its broader charging and sales network in China has been growing “ rapidly. ” It had “ 661 branded supercharging stations across 228 cities and 311 physical retail stores in operation across 121 cities as of the end of November 2021. ”', 'All in all, XPeng’ s growth seems to be rolling out as the company hoped and planned, or even better. It’ s quite an uplifting sight to see another pure EV company scaling up production rapidly and achieving great sales success at a young age. Of course, the reference company need not be named, and we need not compare the two or pretend XPeng should exactly follow Tesla’ s ( whoops) path. However, the point is that we are getting more examples of pure EV companies achieving great successes.', \"Zach is tryin ' to help society help itself one word at a time. He spends most of his time here on CleanTechnica as its director, chief editor, and CEO. Zach is recognized globally as an electric vehicle, solar energy, and energy storage expert. He has presented about cleantech at conferences in India, the UAE, Ukraine, Poland, Germany, the Netherlands, the USA, Canada, and Curaçao. Zach has long-term investments in Tesla [ TSLA ], NIO [ NIO ], Xpeng [ XPEV ], Ford [ F ], ChargePoint [ CHPT ], Amazon [ AMZN ], Piedmont Lithium [ PLL ], Lithium Americas [ LAC ], Albemarle Corporation [ ALB ], Nouveau Monde Graphite [ NMGRF ], Talon Metals [ TLOFF ], Arclight Clean Transition Corp [ ACTC ], and Starbucks [ SBUX ]. But he does not offer ( explicitly or implicitly) investment advice of any sort.\", 'Advertise with CleanTechnica to get your company in front of millions of monthly readers.', 'Rethink Energy has made the prediction that some countries’ entire automotive fleets will be electric within the next decade. Policy changes in various countries...', 'Tesla hits the UK with its strongest ever May, helping lift the plugin electric vehicle market share to 23.1%, up from 18.3% year on...', 'The auto market in Germany saw plugin EVs take 22.9% share in May 2023, down from 25.3% year on year. Full electrics gained share,...', 'Recently, we did a story about the 2023 NADA convention and goat roping in Dallas, where Slate correspondent Alexander Sammon got a chance to...', 'Copyright © 2023 CleanTechnica. The content produced by this site is for entertainment purposes only. Opinions and comments published on this site may not be sanctioned by and do not necessarily represent the views of CleanTechnica, its owners, sponsors, affiliates, or subsidiaries.']</td>\n",
              "      <td>cleantechnica</td>\n",
              "      <td>https://cleantechnica.com/2022/01/02/xpeng-delivered-100000-vehicles-in-2021/</td>\n",
              "    </tr>\n",
              "    <tr>\n",
              "      <th>1</th>\n",
              "      <td>93321</td>\n",
              "      <td>Green Hydrogen: Drop In Bucket Or Big Splash?</td>\n",
              "      <td>2022-01-02</td>\n",
              "      <td>NaN</td>\n",
              "      <td>['Sinopec has laid plans to build the largest green hydrogen production facility in the world, but interest in fossil-sourced hydrogen continues apace.', 'Skepticism abounds over the green hydrogen field, and yet leading players on the global energy stage seem willing to give it a whirl. In the latest development, Sinopec has lent its financial muscle to the field. The company plans to have the proposed “ Sinopec Xinjiang Kuqa Green Hydrogen Pilot Project ” up and running by 2023, which will add 20,000 tons of annual output to the small but growing supply of sustainable hydrogen in the global economy.', 'In past years, the green hydrogen field has run afoul of the greenwashing matrix. Hydrogen itself is not “ green. ” Hydrogen can serve as a zero emission fuel, whether combusted or used in a fuel cell. However, the primary source of hydrogen today is natural gas, and to some extent coal.', 'The “ green ” in green hydrogen has only appeared in recent years, concurrent with the falling cost of wind and solar energy. The availability of low cost renewable energy has made it possible to lower the carbon footprint of electrolyzer systems, which deploy an electrical current to push hydrogen gas out of water.', 'So, now the issue is not so much whether or not green hydrogen is a real thing. The question is to what extent the interest in green hydrogen will pump up the overall demand for hydrogen too quickly, enabling the supply of fossil sourced hydrogen in the global economy to go up instead of down.', 'That brings us to Sinopec, aka China Petroleum &amp; Chemical Corporation, the well-known Bejing-based energy firm. Though best known for its fossil energy interests, Sinopec has been dabbling in biofuels and it looks like sustainable hydrogen is next in line.', 'Sinopec has a lot of catching up to do if it wants to transition out of fossil-sourced hydrogen. The company currently states its hydrogen output at a total of 3.5 million tons annually. Meanwhile, its newly launched “ Sinopec Xinjiang Kuqa Green Hydrogen Pilot Project ” will only produce 20,000 tons annually.', 'That gap could grow instead of shrinking, if Sinopec follows through on a $ 4.6 billion pivot into natural gas and hydrogen. Also, according to the China Hydrogen Energy Alliance, the annual demand for hydrogen in China alone could grow into the range of 60 million tons annually by 2050.', 'Still, at 20,000 tons the new hydrogen project is nothing to sneeze at. It will be among the biggest such facilities in the world when it commences operations in June 2023, if not the biggest.', 'Actually, it could be the very biggest, by far. The firm Air Liquide has a large-scale electrolyzer facility up and running in Canada, but the output barely scrapes 3,300 tons annually ( 8.2 tonnes daily). Shell has an electrolyzer project under way in Germany that will produce 1,300 tons of hydrogen annually. If you know of any other big projects in the works, drop us a note in the comment thread.', 'If Sinopec calls it quits after a single 20,000-ton project, that would be the end of the story. However, the company has put out signals that the new facility is intended to provide a model for others to follow.', 'One signal is the scale of the company’ s commitment to the sustainable hydrogen infrastructure.', '“ As part of the project, Sinopec will build a new photovoltaic power station with an installed capacity of 300MW and annual power generation of 618 million kilowatt-hours, an electrolyzed water hydrogen plant with an annual capacity of 20,000 tons, a spherical hydrogen storage tank with hydrogen storage capacity of 210,000 standard cubic meters, and hydrogen transmission pipelines with a capacity of 28,000 standard cubic meters per hour ( including supporting power transmission and transformation facilities), ” the company explains.', 'Another hint is the existence of a buyer. According to Sinopec, its Tahe Refining &amp; Chemical division will use green hydrogen from the new facility to decarbonize its hydrogen production.', 'That brings up an interesting point about green hydrogen, which is that refinery operations account for a leading source of demand for hydrogen. So, all things being equal, green hydrogen would be deployed to enable the continued production of petroleum-based fuels and chemicals.', 'Well, that’ s the way the cookie crumbles. If the Tahe deal comes through, it would follow a broader trend of deploying renewable energy to in tandem with fossil sources. Sinopec, for example, is among the energy firms that use solar panels to power their oil fields. Coal mines and other extractive sites are also increasingly turning to renewables.', 'Sinopec also recently signed an agreement with Jinko Solar to build solar canopies at 18 Sinopec filling stations in China. That is just one of Sinopec’ s growing suite of solarization projects, and therein lies another hint about the company’ s green hydrogen intentions.', 'Last week Jinko put out the word that it has inked a major solar power deal with Sinopec Star, which plans to build “ several industrial-scale solar-powered, emission-free, hydrogen production facilities across China. ”', 'The facilities will “ serve as proof of concept for the cost-competitive production of hydrogen from advanced solar technology, ” Jinko added.', 'Earlier in December, Sinopec President Ma Yongsheng also seemed to mark a sharp pivot in Sinopec’ s plans for growth in the hydrogen economy.', 'In recent years, Sinopec and China have been targeting conventional, fossil-sourced hydrogen as a “ clean ” fuel but, during a conference in Bejing, Ma Yongsheng indicated a shift in emphasis for Sinopec, towards so-called “ blue ” hydrogen as well as green hydrogen.', 'In terms of keeping fossilized carbon sequestered underground where it belongs, “ blue ” hydrogen is a public relations gimmick. It refers to producing hydrogen from fossil sources, in combination with a carbon capture system.', 'The green hydrogen track has more potential to make a planet-saving impact, partly because legacy engineering firms are beginning to fall all over themselves in pursuit of new business in the green hydrogen field.', 'Mitsubishi, for example, has introduced a new gas turbine designed to transition into green hydrogen as supplies become available, and Cummins is scaling up its hydrogen electrolyzer technology with a $ 5 million assist from the US Department of Energy. Not to be outdone, GE has embarked on a pilot project that could eventually convert the 1,100 megawatt Cricket Valley gas power plant in upstate New York to run on green hydrogen.', 'The green hydrogen supply chain is also maturing. One good example is Siemens Gamesa, which has hooked up with the thermoplastics firm Strohm to supply piping for a green hydrogen mashup with offshore wind farms.', 'Photo: Sustainable hydrogen site prepping for construction ( courtesy of Sinopec).', 'Tina specializes in military and corporate sustainability, advanced technology, emerging materials, biofuels, and water and wastewater issues. Views expressed are her own. Follow her on Twitter @ TinaMCasey and Spoutible.', 'Advertise with CleanTechnica to get your company in front of millions of monthly readers.', \"Toyota's look-ahead to 2026 has a lot to do with hydrogen – but if you're thinking fuel cells, you're thinking wrong.\", 'A new cargo ship will use 100% wind energy to ferry goods between Europe and the US, without the carbon baggage.', 'The US state of North Dakota is among those not waiting around for the green hydrogen grass to grow under their feet.', 'Rethink Energy has made the prediction that some countries’ entire automotive fleets will be electric within the next decade. Policy changes in various countries...', 'Copyright © 2023 CleanTechnica. The content produced by this site is for entertainment purposes only. Opinions and comments published on this site may not be sanctioned by and do not necessarily represent the views of CleanTechnica, its owners, sponsors, affiliates, or subsidiaries.']</td>\n",
              "      <td>cleantechnica</td>\n",
              "      <td>https://cleantechnica.com/2022/01/02/its-a-green-hydrogen-drop-in-the-bucket-but-it-could-still-make-a-splash/</td>\n",
              "    </tr>\n",
              "  </tbody>\n",
              "</table>\n",
              "</div>\n",
              "    <div class=\"colab-df-buttons\">\n",
              "\n",
              "  <div class=\"colab-df-container\">\n",
              "    <button class=\"colab-df-convert\" onclick=\"convertToInteractive('df-715803f7-c678-4618-aee0-22dd56765493')\"\n",
              "            title=\"Convert this dataframe to an interactive table.\"\n",
              "            style=\"display:none;\">\n",
              "\n",
              "  <svg xmlns=\"http://www.w3.org/2000/svg\" height=\"24px\" viewBox=\"0 -960 960 960\">\n",
              "    <path d=\"M120-120v-720h720v720H120Zm60-500h600v-160H180v160Zm220 220h160v-160H400v160Zm0 220h160v-160H400v160ZM180-400h160v-160H180v160Zm440 0h160v-160H620v160ZM180-180h160v-160H180v160Zm440 0h160v-160H620v160Z\"/>\n",
              "  </svg>\n",
              "    </button>\n",
              "\n",
              "  <style>\n",
              "    .colab-df-container {\n",
              "      display:flex;\n",
              "      gap: 12px;\n",
              "    }\n",
              "\n",
              "    .colab-df-convert {\n",
              "      background-color: #E8F0FE;\n",
              "      border: none;\n",
              "      border-radius: 50%;\n",
              "      cursor: pointer;\n",
              "      display: none;\n",
              "      fill: #1967D2;\n",
              "      height: 32px;\n",
              "      padding: 0 0 0 0;\n",
              "      width: 32px;\n",
              "    }\n",
              "\n",
              "    .colab-df-convert:hover {\n",
              "      background-color: #E2EBFA;\n",
              "      box-shadow: 0px 1px 2px rgba(60, 64, 67, 0.3), 0px 1px 3px 1px rgba(60, 64, 67, 0.15);\n",
              "      fill: #174EA6;\n",
              "    }\n",
              "\n",
              "    .colab-df-buttons div {\n",
              "      margin-bottom: 4px;\n",
              "    }\n",
              "\n",
              "    [theme=dark] .colab-df-convert {\n",
              "      background-color: #3B4455;\n",
              "      fill: #D2E3FC;\n",
              "    }\n",
              "\n",
              "    [theme=dark] .colab-df-convert:hover {\n",
              "      background-color: #434B5C;\n",
              "      box-shadow: 0px 1px 3px 1px rgba(0, 0, 0, 0.15);\n",
              "      filter: drop-shadow(0px 1px 2px rgba(0, 0, 0, 0.3));\n",
              "      fill: #FFFFFF;\n",
              "    }\n",
              "  </style>\n",
              "\n",
              "    <script>\n",
              "      const buttonEl =\n",
              "        document.querySelector('#df-715803f7-c678-4618-aee0-22dd56765493 button.colab-df-convert');\n",
              "      buttonEl.style.display =\n",
              "        google.colab.kernel.accessAllowed ? 'block' : 'none';\n",
              "\n",
              "      async function convertToInteractive(key) {\n",
              "        const element = document.querySelector('#df-715803f7-c678-4618-aee0-22dd56765493');\n",
              "        const dataTable =\n",
              "          await google.colab.kernel.invokeFunction('convertToInteractive',\n",
              "                                                    [key], {});\n",
              "        if (!dataTable) return;\n",
              "\n",
              "        const docLinkHtml = 'Like what you see? Visit the ' +\n",
              "          '<a target=\"_blank\" href=https://colab.research.google.com/notebooks/data_table.ipynb>data table notebook</a>'\n",
              "          + ' to learn more about interactive tables.';\n",
              "        element.innerHTML = '';\n",
              "        dataTable['output_type'] = 'display_data';\n",
              "        await google.colab.output.renderOutput(dataTable, element);\n",
              "        const docLink = document.createElement('div');\n",
              "        docLink.innerHTML = docLinkHtml;\n",
              "        element.appendChild(docLink);\n",
              "      }\n",
              "    </script>\n",
              "  </div>\n",
              "\n",
              "\n",
              "<div id=\"df-4604ddcb-7f2f-47d0-bec5-80868af0480f\">\n",
              "  <button class=\"colab-df-quickchart\" onclick=\"quickchart('df-4604ddcb-7f2f-47d0-bec5-80868af0480f')\"\n",
              "            title=\"Suggest charts\"\n",
              "            style=\"display:none;\">\n",
              "\n",
              "<svg xmlns=\"http://www.w3.org/2000/svg\" height=\"24px\"viewBox=\"0 0 24 24\"\n",
              "     width=\"24px\">\n",
              "    <g>\n",
              "        <path d=\"M19 3H5c-1.1 0-2 .9-2 2v14c0 1.1.9 2 2 2h14c1.1 0 2-.9 2-2V5c0-1.1-.9-2-2-2zM9 17H7v-7h2v7zm4 0h-2V7h2v10zm4 0h-2v-4h2v4z\"/>\n",
              "    </g>\n",
              "</svg>\n",
              "  </button>\n",
              "\n",
              "<style>\n",
              "  .colab-df-quickchart {\n",
              "      --bg-color: #E8F0FE;\n",
              "      --fill-color: #1967D2;\n",
              "      --hover-bg-color: #E2EBFA;\n",
              "      --hover-fill-color: #174EA6;\n",
              "      --disabled-fill-color: #AAA;\n",
              "      --disabled-bg-color: #DDD;\n",
              "  }\n",
              "\n",
              "  [theme=dark] .colab-df-quickchart {\n",
              "      --bg-color: #3B4455;\n",
              "      --fill-color: #D2E3FC;\n",
              "      --hover-bg-color: #434B5C;\n",
              "      --hover-fill-color: #FFFFFF;\n",
              "      --disabled-bg-color: #3B4455;\n",
              "      --disabled-fill-color: #666;\n",
              "  }\n",
              "\n",
              "  .colab-df-quickchart {\n",
              "    background-color: var(--bg-color);\n",
              "    border: none;\n",
              "    border-radius: 50%;\n",
              "    cursor: pointer;\n",
              "    display: none;\n",
              "    fill: var(--fill-color);\n",
              "    height: 32px;\n",
              "    padding: 0;\n",
              "    width: 32px;\n",
              "  }\n",
              "\n",
              "  .colab-df-quickchart:hover {\n",
              "    background-color: var(--hover-bg-color);\n",
              "    box-shadow: 0 1px 2px rgba(60, 64, 67, 0.3), 0 1px 3px 1px rgba(60, 64, 67, 0.15);\n",
              "    fill: var(--button-hover-fill-color);\n",
              "  }\n",
              "\n",
              "  .colab-df-quickchart-complete:disabled,\n",
              "  .colab-df-quickchart-complete:disabled:hover {\n",
              "    background-color: var(--disabled-bg-color);\n",
              "    fill: var(--disabled-fill-color);\n",
              "    box-shadow: none;\n",
              "  }\n",
              "\n",
              "  .colab-df-spinner {\n",
              "    border: 2px solid var(--fill-color);\n",
              "    border-color: transparent;\n",
              "    border-bottom-color: var(--fill-color);\n",
              "    animation:\n",
              "      spin 1s steps(1) infinite;\n",
              "  }\n",
              "\n",
              "  @keyframes spin {\n",
              "    0% {\n",
              "      border-color: transparent;\n",
              "      border-bottom-color: var(--fill-color);\n",
              "      border-left-color: var(--fill-color);\n",
              "    }\n",
              "    20% {\n",
              "      border-color: transparent;\n",
              "      border-left-color: var(--fill-color);\n",
              "      border-top-color: var(--fill-color);\n",
              "    }\n",
              "    30% {\n",
              "      border-color: transparent;\n",
              "      border-left-color: var(--fill-color);\n",
              "      border-top-color: var(--fill-color);\n",
              "      border-right-color: var(--fill-color);\n",
              "    }\n",
              "    40% {\n",
              "      border-color: transparent;\n",
              "      border-right-color: var(--fill-color);\n",
              "      border-top-color: var(--fill-color);\n",
              "    }\n",
              "    60% {\n",
              "      border-color: transparent;\n",
              "      border-right-color: var(--fill-color);\n",
              "    }\n",
              "    80% {\n",
              "      border-color: transparent;\n",
              "      border-right-color: var(--fill-color);\n",
              "      border-bottom-color: var(--fill-color);\n",
              "    }\n",
              "    90% {\n",
              "      border-color: transparent;\n",
              "      border-bottom-color: var(--fill-color);\n",
              "    }\n",
              "  }\n",
              "</style>\n",
              "\n",
              "  <script>\n",
              "    async function quickchart(key) {\n",
              "      const quickchartButtonEl =\n",
              "        document.querySelector('#' + key + ' button');\n",
              "      quickchartButtonEl.disabled = true;  // To prevent multiple clicks.\n",
              "      quickchartButtonEl.classList.add('colab-df-spinner');\n",
              "      try {\n",
              "        const charts = await google.colab.kernel.invokeFunction(\n",
              "            'suggestCharts', [key], {});\n",
              "      } catch (error) {\n",
              "        console.error('Error during call to suggestCharts:', error);\n",
              "      }\n",
              "      quickchartButtonEl.classList.remove('colab-df-spinner');\n",
              "      quickchartButtonEl.classList.add('colab-df-quickchart-complete');\n",
              "    }\n",
              "    (() => {\n",
              "      let quickchartButtonEl =\n",
              "        document.querySelector('#df-4604ddcb-7f2f-47d0-bec5-80868af0480f button');\n",
              "      quickchartButtonEl.style.display =\n",
              "        google.colab.kernel.accessAllowed ? 'block' : 'none';\n",
              "    })();\n",
              "  </script>\n",
              "</div>\n",
              "\n",
              "    </div>\n",
              "  </div>\n"
            ],
            "application/vnd.google.colaboratory.intrinsic+json": {
              "type": "dataframe",
              "variable_name": "articles_df",
              "summary": "{\n  \"name\": \"articles_df\",\n  \"rows\": 20111,\n  \"fields\": [\n    {\n      \"column\": \"Unnamed: 0\",\n      \"properties\": {\n        \"dtype\": \"number\",\n        \"std\": 29142,\n        \"min\": 4255,\n        \"max\": 133626,\n        \"num_unique_values\": 20111,\n        \"samples\": [\n          42130,\n          34967,\n          66499\n        ],\n        \"semantic_type\": \"\",\n        \"description\": \"\"\n      }\n    },\n    {\n      \"column\": \"title\",\n      \"properties\": {\n        \"dtype\": \"string\",\n        \"num_unique_values\": 20016,\n        \"samples\": [\n          \"US ROUND-UP: Entergy in Arkansas, Ammper and Elawan in Texas\",\n          \"Changes on Solar Energy Industries Association's Board & Leadership Team\",\n          \"Intersolar: AP Systems presents single-phase hybrid inverter for balcony photovoltaics \\u2013 pv magazine International\"\n        ],\n        \"semantic_type\": \"\",\n        \"description\": \"\"\n      }\n    },\n    {\n      \"column\": \"date\",\n      \"properties\": {\n        \"dtype\": \"object\",\n        \"num_unique_values\": 979,\n        \"samples\": [\n          \"2022-08-03\",\n          \"2023-07-19\",\n          \"2022-07-08\"\n        ],\n        \"semantic_type\": \"\",\n        \"description\": \"\"\n      }\n    },\n    {\n      \"column\": \"author\",\n      \"properties\": {\n        \"dtype\": \"number\",\n        \"std\": null,\n        \"min\": null,\n        \"max\": null,\n        \"num_unique_values\": 0,\n        \"samples\": [],\n        \"semantic_type\": \"\",\n        \"description\": \"\"\n      }\n    },\n    {\n      \"column\": \"content\",\n      \"properties\": {\n        \"dtype\": \"string\",\n        \"num_unique_values\": 20068,\n        \"samples\": [],\n        \"semantic_type\": \"\",\n        \"description\": \"\"\n      }\n    },\n    {\n      \"column\": \"domain\",\n      \"properties\": {\n        \"dtype\": \"category\",\n        \"num_unique_values\": 25,\n        \"samples\": [],\n        \"semantic_type\": \"\",\n        \"description\": \"\"\n      }\n    },\n    {\n      \"column\": \"url\",\n      \"properties\": {\n        \"dtype\": \"string\",\n        \"num_unique_values\": 20111,\n        \"samples\": [],\n        \"semantic_type\": \"\",\n        \"description\": \"\"\n      }\n    }\n  ]\n}"
            }
          },
          "metadata": {},
          "execution_count": 119
        }
      ]
    },
    {
      "cell_type": "code",
      "source": [
        "patent_df.head(2)"
      ],
      "metadata": {
        "colab": {
          "base_uri": "https://localhost:8080/",
          "height": 685
        },
        "id": "jo2R49pnku-V",
        "outputId": "48dc64b1-44bc-4fbf-b47e-bae6dba62f27"
      },
      "execution_count": 156,
      "outputs": [
        {
          "output_type": "execute_result",
          "data": {
            "text/plain": [
              "  publication_number application_number country_code  \\\n",
              "0   US-2022239235-A1  US-202217717397-A           US   \n",
              "1   US-2022239251-A1  US-202217580956-A           US   \n",
              "\n",
              "                                                                                                                                                        title_localized  \\\n",
              "0                                                               [{'text': 'Adaptable DC-AC Inverter Drive System and Operation', 'language': 'en', 'truncated': False}]   \n",
              "1  [{'text': 'System for providing the energy from a single contiguous solar energy structure to at least two different meters', 'language': 'en', 'truncated': False}]   \n",
              "\n",
              "                                                                                                                                                                                                                                                                                                                                                                                                                                                                                                                                                                                                                                                 abstract_localized  \\\n",
              "0                                                                                                                                                                                      [{'text': 'Disclosed is an adaptable DC-AC inverter system and its operation. The system includes multiple DC input sources as input to provide a stable operation under various conditions. DC input sources may be added to the system or removed from the system without impacting the functionality of the system. The disclosed system is suited for solar energy harvesting in grid-connected or off-grid modes of operation.', 'language': 'en', 'truncated': False}]   \n",
              "1  [{'text': 'In accordance with an example embodiment, a solar energy system comprises: a solar energy structure comprising photovoltaic solar panels contiguously covering an area; a first inverter configured to receive power from a first string of photovoltaic solar panels, wherein the first inverter is configured to provide the power received at the first inverter to a first meter; and a second inverter configured to receive power from a second string of photovoltaic solar panels, wherein the second inverter is configured to provide the power received at the second inverter to a second meter.', 'language': 'en', 'truncated': False}]   \n",
              "\n",
              "   publication_date inventor  \\\n",
              "0          20220728       []   \n",
              "1          20220728       []   \n",
              "\n",
              "                                                                                                                                                                                                                                                                                                                                                                                                                                                                                                                                                                                    cpc  \n",
              "0  [{'code': 'H02M7/5395', 'inventive': True, 'first': False, 'tree': []}, {'code': 'H02J3/32', 'inventive': False, 'first': False, 'tree': []}, {'code': 'H02M1/32', 'inventive': True, 'first': False, 'tree': []}, {'code': 'H02J1/10', 'inventive': True, 'first': False, 'tree': []}, {'code': 'H02J3/381', 'inventive': True, 'first': False, 'tree': []}, {'code': 'H02M7/493', 'inventive': True, 'first': True, 'tree': []}, {'code': 'H02J2300/24', 'inventive': False, 'first': False, 'tree': []}, {'code': 'H02J2300/30', 'inventive': False, 'first': False, 'tree': []}]  \n",
              "1                                                                                                                                                                                                                                                                                              [{'code': 'H02S40/38', 'inventive': True, 'first': False, 'tree': []}, {'code': 'G01R22/061', 'inventive': True, 'first': False, 'tree': []}, {'code': 'B60L53/51', 'inventive': True, 'first': False, 'tree': []}, {'code': 'H02S40/32', 'inventive': True, 'first': True, 'tree': []}]  "
            ],
            "text/html": [
              "\n",
              "  <div id=\"df-736c7220-11c1-4022-9d72-f9fbe896bc27\" class=\"colab-df-container\">\n",
              "    <div>\n",
              "<style scoped>\n",
              "    .dataframe tbody tr th:only-of-type {\n",
              "        vertical-align: middle;\n",
              "    }\n",
              "\n",
              "    .dataframe tbody tr th {\n",
              "        vertical-align: top;\n",
              "    }\n",
              "\n",
              "    .dataframe thead th {\n",
              "        text-align: right;\n",
              "    }\n",
              "</style>\n",
              "<table border=\"1\" class=\"dataframe\">\n",
              "  <thead>\n",
              "    <tr style=\"text-align: right;\">\n",
              "      <th></th>\n",
              "      <th>publication_number</th>\n",
              "      <th>application_number</th>\n",
              "      <th>country_code</th>\n",
              "      <th>title_localized</th>\n",
              "      <th>abstract_localized</th>\n",
              "      <th>publication_date</th>\n",
              "      <th>inventor</th>\n",
              "      <th>cpc</th>\n",
              "    </tr>\n",
              "  </thead>\n",
              "  <tbody>\n",
              "    <tr>\n",
              "      <th>0</th>\n",
              "      <td>US-2022239235-A1</td>\n",
              "      <td>US-202217717397-A</td>\n",
              "      <td>US</td>\n",
              "      <td>[{'text': 'Adaptable DC-AC Inverter Drive System and Operation', 'language': 'en', 'truncated': False}]</td>\n",
              "      <td>[{'text': 'Disclosed is an adaptable DC-AC inverter system and its operation. The system includes multiple DC input sources as input to provide a stable operation under various conditions. DC input sources may be added to the system or removed from the system without impacting the functionality of the system. The disclosed system is suited for solar energy harvesting in grid-connected or off-grid modes of operation.', 'language': 'en', 'truncated': False}]</td>\n",
              "      <td>20220728</td>\n",
              "      <td>[]</td>\n",
              "      <td>[{'code': 'H02M7/5395', 'inventive': True, 'first': False, 'tree': []}, {'code': 'H02J3/32', 'inventive': False, 'first': False, 'tree': []}, {'code': 'H02M1/32', 'inventive': True, 'first': False, 'tree': []}, {'code': 'H02J1/10', 'inventive': True, 'first': False, 'tree': []}, {'code': 'H02J3/381', 'inventive': True, 'first': False, 'tree': []}, {'code': 'H02M7/493', 'inventive': True, 'first': True, 'tree': []}, {'code': 'H02J2300/24', 'inventive': False, 'first': False, 'tree': []}, {'code': 'H02J2300/30', 'inventive': False, 'first': False, 'tree': []}]</td>\n",
              "    </tr>\n",
              "    <tr>\n",
              "      <th>1</th>\n",
              "      <td>US-2022239251-A1</td>\n",
              "      <td>US-202217580956-A</td>\n",
              "      <td>US</td>\n",
              "      <td>[{'text': 'System for providing the energy from a single contiguous solar energy structure to at least two different meters', 'language': 'en', 'truncated': False}]</td>\n",
              "      <td>[{'text': 'In accordance with an example embodiment, a solar energy system comprises: a solar energy structure comprising photovoltaic solar panels contiguously covering an area; a first inverter configured to receive power from a first string of photovoltaic solar panels, wherein the first inverter is configured to provide the power received at the first inverter to a first meter; and a second inverter configured to receive power from a second string of photovoltaic solar panels, wherein the second inverter is configured to provide the power received at the second inverter to a second meter.', 'language': 'en', 'truncated': False}]</td>\n",
              "      <td>20220728</td>\n",
              "      <td>[]</td>\n",
              "      <td>[{'code': 'H02S40/38', 'inventive': True, 'first': False, 'tree': []}, {'code': 'G01R22/061', 'inventive': True, 'first': False, 'tree': []}, {'code': 'B60L53/51', 'inventive': True, 'first': False, 'tree': []}, {'code': 'H02S40/32', 'inventive': True, 'first': True, 'tree': []}]</td>\n",
              "    </tr>\n",
              "  </tbody>\n",
              "</table>\n",
              "</div>\n",
              "    <div class=\"colab-df-buttons\">\n",
              "\n",
              "  <div class=\"colab-df-container\">\n",
              "    <button class=\"colab-df-convert\" onclick=\"convertToInteractive('df-736c7220-11c1-4022-9d72-f9fbe896bc27')\"\n",
              "            title=\"Convert this dataframe to an interactive table.\"\n",
              "            style=\"display:none;\">\n",
              "\n",
              "  <svg xmlns=\"http://www.w3.org/2000/svg\" height=\"24px\" viewBox=\"0 -960 960 960\">\n",
              "    <path d=\"M120-120v-720h720v720H120Zm60-500h600v-160H180v160Zm220 220h160v-160H400v160Zm0 220h160v-160H400v160ZM180-400h160v-160H180v160Zm440 0h160v-160H620v160ZM180-180h160v-160H180v160Zm440 0h160v-160H620v160Z\"/>\n",
              "  </svg>\n",
              "    </button>\n",
              "\n",
              "  <style>\n",
              "    .colab-df-container {\n",
              "      display:flex;\n",
              "      gap: 12px;\n",
              "    }\n",
              "\n",
              "    .colab-df-convert {\n",
              "      background-color: #E8F0FE;\n",
              "      border: none;\n",
              "      border-radius: 50%;\n",
              "      cursor: pointer;\n",
              "      display: none;\n",
              "      fill: #1967D2;\n",
              "      height: 32px;\n",
              "      padding: 0 0 0 0;\n",
              "      width: 32px;\n",
              "    }\n",
              "\n",
              "    .colab-df-convert:hover {\n",
              "      background-color: #E2EBFA;\n",
              "      box-shadow: 0px 1px 2px rgba(60, 64, 67, 0.3), 0px 1px 3px 1px rgba(60, 64, 67, 0.15);\n",
              "      fill: #174EA6;\n",
              "    }\n",
              "\n",
              "    .colab-df-buttons div {\n",
              "      margin-bottom: 4px;\n",
              "    }\n",
              "\n",
              "    [theme=dark] .colab-df-convert {\n",
              "      background-color: #3B4455;\n",
              "      fill: #D2E3FC;\n",
              "    }\n",
              "\n",
              "    [theme=dark] .colab-df-convert:hover {\n",
              "      background-color: #434B5C;\n",
              "      box-shadow: 0px 1px 3px 1px rgba(0, 0, 0, 0.15);\n",
              "      filter: drop-shadow(0px 1px 2px rgba(0, 0, 0, 0.3));\n",
              "      fill: #FFFFFF;\n",
              "    }\n",
              "  </style>\n",
              "\n",
              "    <script>\n",
              "      const buttonEl =\n",
              "        document.querySelector('#df-736c7220-11c1-4022-9d72-f9fbe896bc27 button.colab-df-convert');\n",
              "      buttonEl.style.display =\n",
              "        google.colab.kernel.accessAllowed ? 'block' : 'none';\n",
              "\n",
              "      async function convertToInteractive(key) {\n",
              "        const element = document.querySelector('#df-736c7220-11c1-4022-9d72-f9fbe896bc27');\n",
              "        const dataTable =\n",
              "          await google.colab.kernel.invokeFunction('convertToInteractive',\n",
              "                                                    [key], {});\n",
              "        if (!dataTable) return;\n",
              "\n",
              "        const docLinkHtml = 'Like what you see? Visit the ' +\n",
              "          '<a target=\"_blank\" href=https://colab.research.google.com/notebooks/data_table.ipynb>data table notebook</a>'\n",
              "          + ' to learn more about interactive tables.';\n",
              "        element.innerHTML = '';\n",
              "        dataTable['output_type'] = 'display_data';\n",
              "        await google.colab.output.renderOutput(dataTable, element);\n",
              "        const docLink = document.createElement('div');\n",
              "        docLink.innerHTML = docLinkHtml;\n",
              "        element.appendChild(docLink);\n",
              "      }\n",
              "    </script>\n",
              "  </div>\n",
              "\n",
              "\n",
              "<div id=\"df-b61261af-e222-45d1-8f8e-5790f6deff43\">\n",
              "  <button class=\"colab-df-quickchart\" onclick=\"quickchart('df-b61261af-e222-45d1-8f8e-5790f6deff43')\"\n",
              "            title=\"Suggest charts\"\n",
              "            style=\"display:none;\">\n",
              "\n",
              "<svg xmlns=\"http://www.w3.org/2000/svg\" height=\"24px\"viewBox=\"0 0 24 24\"\n",
              "     width=\"24px\">\n",
              "    <g>\n",
              "        <path d=\"M19 3H5c-1.1 0-2 .9-2 2v14c0 1.1.9 2 2 2h14c1.1 0 2-.9 2-2V5c0-1.1-.9-2-2-2zM9 17H7v-7h2v7zm4 0h-2V7h2v10zm4 0h-2v-4h2v4z\"/>\n",
              "    </g>\n",
              "</svg>\n",
              "  </button>\n",
              "\n",
              "<style>\n",
              "  .colab-df-quickchart {\n",
              "      --bg-color: #E8F0FE;\n",
              "      --fill-color: #1967D2;\n",
              "      --hover-bg-color: #E2EBFA;\n",
              "      --hover-fill-color: #174EA6;\n",
              "      --disabled-fill-color: #AAA;\n",
              "      --disabled-bg-color: #DDD;\n",
              "  }\n",
              "\n",
              "  [theme=dark] .colab-df-quickchart {\n",
              "      --bg-color: #3B4455;\n",
              "      --fill-color: #D2E3FC;\n",
              "      --hover-bg-color: #434B5C;\n",
              "      --hover-fill-color: #FFFFFF;\n",
              "      --disabled-bg-color: #3B4455;\n",
              "      --disabled-fill-color: #666;\n",
              "  }\n",
              "\n",
              "  .colab-df-quickchart {\n",
              "    background-color: var(--bg-color);\n",
              "    border: none;\n",
              "    border-radius: 50%;\n",
              "    cursor: pointer;\n",
              "    display: none;\n",
              "    fill: var(--fill-color);\n",
              "    height: 32px;\n",
              "    padding: 0;\n",
              "    width: 32px;\n",
              "  }\n",
              "\n",
              "  .colab-df-quickchart:hover {\n",
              "    background-color: var(--hover-bg-color);\n",
              "    box-shadow: 0 1px 2px rgba(60, 64, 67, 0.3), 0 1px 3px 1px rgba(60, 64, 67, 0.15);\n",
              "    fill: var(--button-hover-fill-color);\n",
              "  }\n",
              "\n",
              "  .colab-df-quickchart-complete:disabled,\n",
              "  .colab-df-quickchart-complete:disabled:hover {\n",
              "    background-color: var(--disabled-bg-color);\n",
              "    fill: var(--disabled-fill-color);\n",
              "    box-shadow: none;\n",
              "  }\n",
              "\n",
              "  .colab-df-spinner {\n",
              "    border: 2px solid var(--fill-color);\n",
              "    border-color: transparent;\n",
              "    border-bottom-color: var(--fill-color);\n",
              "    animation:\n",
              "      spin 1s steps(1) infinite;\n",
              "  }\n",
              "\n",
              "  @keyframes spin {\n",
              "    0% {\n",
              "      border-color: transparent;\n",
              "      border-bottom-color: var(--fill-color);\n",
              "      border-left-color: var(--fill-color);\n",
              "    }\n",
              "    20% {\n",
              "      border-color: transparent;\n",
              "      border-left-color: var(--fill-color);\n",
              "      border-top-color: var(--fill-color);\n",
              "    }\n",
              "    30% {\n",
              "      border-color: transparent;\n",
              "      border-left-color: var(--fill-color);\n",
              "      border-top-color: var(--fill-color);\n",
              "      border-right-color: var(--fill-color);\n",
              "    }\n",
              "    40% {\n",
              "      border-color: transparent;\n",
              "      border-right-color: var(--fill-color);\n",
              "      border-top-color: var(--fill-color);\n",
              "    }\n",
              "    60% {\n",
              "      border-color: transparent;\n",
              "      border-right-color: var(--fill-color);\n",
              "    }\n",
              "    80% {\n",
              "      border-color: transparent;\n",
              "      border-right-color: var(--fill-color);\n",
              "      border-bottom-color: var(--fill-color);\n",
              "    }\n",
              "    90% {\n",
              "      border-color: transparent;\n",
              "      border-bottom-color: var(--fill-color);\n",
              "    }\n",
              "  }\n",
              "</style>\n",
              "\n",
              "  <script>\n",
              "    async function quickchart(key) {\n",
              "      const quickchartButtonEl =\n",
              "        document.querySelector('#' + key + ' button');\n",
              "      quickchartButtonEl.disabled = true;  // To prevent multiple clicks.\n",
              "      quickchartButtonEl.classList.add('colab-df-spinner');\n",
              "      try {\n",
              "        const charts = await google.colab.kernel.invokeFunction(\n",
              "            'suggestCharts', [key], {});\n",
              "      } catch (error) {\n",
              "        console.error('Error during call to suggestCharts:', error);\n",
              "      }\n",
              "      quickchartButtonEl.classList.remove('colab-df-spinner');\n",
              "      quickchartButtonEl.classList.add('colab-df-quickchart-complete');\n",
              "    }\n",
              "    (() => {\n",
              "      let quickchartButtonEl =\n",
              "        document.querySelector('#df-b61261af-e222-45d1-8f8e-5790f6deff43 button');\n",
              "      quickchartButtonEl.style.display =\n",
              "        google.colab.kernel.accessAllowed ? 'block' : 'none';\n",
              "    })();\n",
              "  </script>\n",
              "</div>\n",
              "\n",
              "    </div>\n",
              "  </div>\n"
            ],
            "application/vnd.google.colaboratory.intrinsic+json": {
              "type": "dataframe",
              "variable_name": "patent_df",
              "summary": "{\n  \"name\": \"patent_df\",\n  \"rows\": 30000,\n  \"fields\": [\n    {\n      \"column\": \"publication_number\",\n      \"properties\": {\n        \"dtype\": \"category\",\n        \"num_unique_values\": 13412,\n        \"samples\": [\n          \"CN-113735123-A\",\n          \"CN-216142930-U\",\n          \"CN-114169088-A\"\n        ],\n        \"semantic_type\": \"\",\n        \"description\": \"\"\n      }\n    },\n    {\n      \"column\": \"application_number\",\n      \"properties\": {\n        \"dtype\": \"category\",\n        \"num_unique_values\": 13285,\n        \"samples\": [\n          \"CN-202111026634-A\",\n          \"CN-202121971914-U\",\n          \"CN-202121614181-U\"\n        ],\n        \"semantic_type\": \"\",\n        \"description\": \"\"\n      }\n    },\n    {\n      \"column\": \"country_code\",\n      \"properties\": {\n        \"dtype\": \"category\",\n        \"num_unique_values\": 32,\n        \"samples\": [\n          \"TN\",\n          \"NZ\",\n          \"TW\"\n        ],\n        \"semantic_type\": \"\",\n        \"description\": \"\"\n      }\n    },\n    {\n      \"column\": \"title_localized\",\n      \"properties\": {\n        \"dtype\": \"object\",\n        \"semantic_type\": \"\",\n        \"description\": \"\"\n      }\n    },\n    {\n      \"column\": \"abstract_localized\",\n      \"properties\": {\n        \"dtype\": \"object\",\n        \"semantic_type\": \"\",\n        \"description\": \"\"\n      }\n    },\n    {\n      \"column\": \"publication_date\",\n      \"properties\": {\n        \"dtype\": \"number\",\n        \"std\": 3783,\n        \"min\": 20211123,\n        \"max\": 20220728,\n        \"num_unique_values\": 165,\n        \"samples\": [\n          20220101,\n          20220129,\n          20220107\n        ],\n        \"semantic_type\": \"\",\n        \"description\": \"\"\n      }\n    },\n    {\n      \"column\": \"inventor\",\n      \"properties\": {\n        \"dtype\": \"object\",\n        \"semantic_type\": \"\",\n        \"description\": \"\"\n      }\n    },\n    {\n      \"column\": \"cpc\",\n      \"properties\": {\n        \"dtype\": \"object\",\n        \"semantic_type\": \"\",\n        \"description\": \"\"\n      }\n    }\n  ]\n}"
            }
          },
          "metadata": {},
          "execution_count": 156
        }
      ]
    },
    {
      "cell_type": "code",
      "source": [
        "from google.colab import drive\n",
        "drive.mount('/content/drive')\n"
      ],
      "metadata": {
        "id": "mLJ0Dnqknpzq",
        "colab": {
          "base_uri": "https://localhost:8080/"
        },
        "outputId": "bfffd193-7b1d-42b1-eda9-20e4a14f377c"
      },
      "execution_count": 8,
      "outputs": [
        {
          "output_type": "stream",
          "name": "stdout",
          "text": [
            "Mounted at /content/drive\n"
          ]
        }
      ]
    },
    {
      "cell_type": "markdown",
      "source": [
        "#### Tokenize the Title and the Context of the datasets"
      ],
      "metadata": {
        "id": "9UTFh41ioUh5"
      }
    },
    {
      "cell_type": "code",
      "source": [
        "articles_df['tokens_title'] = articles_df['title'].apply(preprocess_text)\n",
        "articles_df['tokens_content'] = articles_df['content'].apply(preprocess_text)"
      ],
      "metadata": {
        "id": "wYQAZK4BPYei"
      },
      "execution_count": 125,
      "outputs": []
    },
    {
      "cell_type": "code",
      "source": [
        "patent_df['tokens_title'] = patent_df['title_localized'].apply(\n",
        "    lambda lst: preprocess_text(lst[0]['text']) if isinstance(lst, list) and lst and 'text' in lst[0] else []\n",
        ")\n",
        "\n",
        "patent_df['tokens_abstract'] = patent_df['abstract_localized'].apply(\n",
        "    lambda lst: preprocess_text(lst[0]['text']) if isinstance(lst, list) and lst and 'text' in lst[0] else []\n",
        ")"
      ],
      "metadata": {
        "id": "lUFxP7mZPjiY"
      },
      "execution_count": 126,
      "outputs": []
    },
    {
      "cell_type": "markdown",
      "source": [
        "### Functions Definitions\n",
        "\n",
        "In this section, we conduct exploratory data analysis to understand our dataset. Our goals include:\n",
        "\n",
        "**Overview:**\n",
        "\n",
        "*   Check for missing values and duplicates.\n",
        "\n",
        "*   Inspect key columns, like the author column, for non-null entries.\n",
        "\n",
        "*   Ensure proper dataset structure before advancing.\n",
        "\n",
        "**Domain Analysis:**\n",
        "\n",
        "* Identify top content publishers.\n",
        "\n",
        "* Analyze publication trends, including article counts per domain.\n",
        "\n",
        "* Visualize article distribution across publishers.\n",
        "\n",
        "**Cleaning:**\n",
        "\n",
        "* Normalize URLs for consistency.\n",
        "\n",
        "* Remove duplicate articles.\n",
        "\n",
        "* Standardize article formats, removing common introductions.\n",
        "\n",
        "These steps ensure the dataset is clean and ready for QA pair generation and analysis.\n",
        "\n",
        "We also implemented custom plotting functions to visualize the dataset:\n",
        "\n",
        "**show_questions**: Displays the first n questions from a list for quick inspection.\n",
        "\n",
        "**gpt4_tokenizer**: Tokenizes text with GPT-4 to analyze token distribution.\n",
        "\n",
        "**plot_character_distribution**: Visualizes character length distribution of questions.\n",
        "\n",
        "**plot_word_distribution**: Plots the word count distribution for questions.\n",
        "\n",
        "**plot_gpt4_token_distribution**: Displays common tokens from questions.\n",
        "\n",
        "**plot_non_stopword_token_distribution**: Shows non-stopword tokens to highlight subject-specific vocabulary.\n",
        "\n",
        "**printwrap**: A helper function for better text readability in output."
      ],
      "metadata": {
        "id": "yC1y7TtjjoGO"
      }
    },
    {
      "cell_type": "code",
      "source": [
        "# plot functions\n",
        "\n",
        "def show_questions(title: str, questions: list, n: int = 6) -> None:\n",
        "    \"\"\"\n",
        "    Display the first n questions from the given list with a title.\n",
        "\n",
        "    Parameters:\n",
        "    - title: A string to display as the category title.\n",
        "    - questions: A list of questions.\n",
        "    - n: The maximum number of questions to display (default is 6).\n",
        "    \"\"\"\n",
        "    print(title)\n",
        "    print(\"-\" * len(title))\n",
        "    for idx, question in enumerate(questions[:n], start=1):\n",
        "        print(f\"{idx}. {question}\")\n",
        "    print()\n",
        "\n",
        "\n",
        "\n",
        "def gpt4_tokenizer(text: str):\n",
        "    \"\"\"\n",
        "    Tokenizes the text using the GPT-4 tokenizer from tiktoken.\n",
        "    Returns a list of token strings.\n",
        "    \"\"\"\n",
        "    token_ids = encoding.encode(text)\n",
        "    tokens = [encoding.decode([tid]) for tid in token_ids]\n",
        "    return tokens\n",
        "\n",
        "def plot_character_distribution(df):\n",
        "    \"\"\"\n",
        "    Plots a histogram (with KDE) of the character lengths in the 'question' column.\n",
        "    Displays vertical lines for the median and mean character counts.\n",
        "    \"\"\"\n",
        "    char_lengths = df[\"question\"].map(len)\n",
        "    sns.histplot(char_lengths, kde=True)\n",
        "    plt.title(\"Amount of characters in questions\")\n",
        "    plt.xlabel(\"Amount of characters\")\n",
        "    plt.ylabel(\"Number of questions\")\n",
        "\n",
        "    median_char_len = char_lengths.median()\n",
        "    mean_char_len = char_lengths.mean()\n",
        "    plt.axvline(median_char_len, color='r', linestyle='--', label=f\"Median: {median_char_len:.2f}\")\n",
        "    plt.axvline(mean_char_len, color='g', linestyle='--', label=f\"Mean: {mean_char_len:.2f}\")\n",
        "    plt.legend()\n",
        "    plt.show()\n",
        "\n",
        "def plot_word_distribution(df):\n",
        "    \"\"\"\n",
        "    Plots a histogram (with KDE) of the word counts in the 'question' column.\n",
        "    Displays vertical lines for the median and mean word counts.\n",
        "    \"\"\"\n",
        "    word_counts = df[\"question\"].map(lambda x: len(x.split()))\n",
        "    sns.histplot(word_counts, kde=True)\n",
        "    plt.title(\"Amount of words in questions\")\n",
        "    plt.xlabel(\"Amount of words\")\n",
        "    plt.ylabel(\"Number of questions\")\n",
        "\n",
        "    median_word_count = word_counts.median()\n",
        "    mean_word_count = word_counts.mean()\n",
        "    plt.axvline(median_word_count, color='r', linestyle='--', label=f\"Median: {median_word_count:.2f}\")\n",
        "    plt.axvline(mean_word_count, color='g', linestyle='--', label=f\"Mean: {mean_word_count:.2f}\")\n",
        "    plt.legend()\n",
        "    plt.show()\n",
        "\n",
        "def plot_gpt4_token_distribution(df):\n",
        "    \"\"\"\n",
        "    Uses the GPT-4 tokenizer to tokenize the 'question' column,\n",
        "    filters out non-alphabetic tokens, counts the top 20 most common tokens,\n",
        "    and displays a horizontal barplot.\n",
        "    \"\"\"\n",
        "    questions = df['question'].tolist()\n",
        "\n",
        "    all_tokens = [token for question in questions for token in gpt4_tokenizer(question)]\n",
        "\n",
        "    alpha_tokens = [token.strip().lower() for token in all_tokens if token.strip().isalpha()]\n",
        "\n",
        "    alpha_token_counts = Counter(alpha_tokens)\n",
        "    top_tokens = alpha_token_counts.most_common(20)\n",
        "\n",
        "    if top_tokens:\n",
        "        tokens, counts = zip(*top_tokens)\n",
        "        sns.barplot(x=list(counts), y=list(tokens))\n",
        "        plt.title(\"Most common alphabetic tokens\")\n",
        "        plt.xlabel(\"Count\")\n",
        "        plt.ylabel(\"Token\")\n",
        "        plt.show()\n",
        "    else:\n",
        "        print(\"No tokens found after filtering.\")\n",
        "\n",
        "def plot_non_stopword_token_distribution(df):\n",
        "    \"\"\"\n",
        "    Uses the GPT-4 tokenizer to tokenize the 'question' column,\n",
        "    filters out non-alphabetic tokens and then filters out stopwords using spaCy.\n",
        "    It then counts the top 20 most common non-stopword tokens and displays a horizontal barplot.\n",
        "    \"\"\"\n",
        "    questions = df['question'].tolist()\n",
        "\n",
        "    all_tokens = [token for question in questions for token in gpt4_tokenizer(question)]\n",
        "    alpha_tokens = [token.strip().lower() for token in all_tokens if token.strip().isalpha()]\n",
        "    non_stop_tokens = [token for token in alpha_tokens if not nlp.vocab[token].is_stop]\n",
        "    non_stop_token_counts = Counter(non_stop_tokens)\n",
        "    top_tokens = non_stop_token_counts.most_common(20)\n",
        "\n",
        "    if top_tokens:\n",
        "        tokens, counts = zip(*top_tokens)\n",
        "        sns.barplot(x=list(counts), y=list(tokens))\n",
        "        plt.title(\"Most common non-stopword tokens\")\n",
        "        plt.xlabel(\"Count\")\n",
        "        plt.ylabel(\"Token\")\n",
        "        plt.show()\n",
        "    else:\n",
        "        print(\"No non-stop tokens found after filtering.\")\n",
        "\n",
        "def printwrap(text, wrap_lenght = 80):\n",
        "  wrapped_text = textwrap.fill(text,wrap_lenght)\n",
        "  return wrapped_text"
      ],
      "metadata": {
        "id": "1-kmJ0FuOYIN"
      },
      "execution_count": 21,
      "outputs": []
    },
    {
      "cell_type": "markdown",
      "source": [
        "**Overview:**\n",
        "We examine the dataset for missing values and duplicates, identifying problematic columns such as sparsely populated author fields.\n",
        "\n",
        "**Domain Analysis:**\n",
        "We analyze the distribution of articles across publishers to understand domain dominance, which aids in decisions like stratified subsampling.\n",
        "\n",
        "**Cleaning:**\n",
        "We normalize URLs, remove duplicates, and standardize article formats by removing redundant sections from web scraping.\n",
        "\n",
        "**Plotting Functions:**\n",
        "Custom plots visualize:\n",
        "\n",
        "- The length of questions in terms of characters and words.\n",
        "- The most common tokens overall and non-stopword tokens using the GPT-4 tokenizer.\n"
      ],
      "metadata": {
        "id": "VvPPP_jwncoV"
      }
    },
    {
      "cell_type": "markdown",
      "source": [
        "### Selection of Important Paragraphs\n",
        "To generate robust QA pairs, we first identified key paragraphs in our dataset. We selected paragraphs based on relevance, informativeness, and their potential to generate high-quality questions and answers.\n",
        "\n",
        "***Process Overview:***\n",
        "\n",
        "  - **Domain Filtering:**\n",
        "    We separated the data into 5 domains: \"azocleantech\", \"solarindustrymag\", \"cleantechnica\", \"pv-magazine\", and \"energyvoice\", ensuring relevance to our project.\n",
        "\n",
        "  - **Manual Selection by Index:**\n",
        "    After filtering by domain, we manually selected high-quality paragraphs based on content. For example, we selected 7 paragraphs from \"azocleantech\" and 8 from \"solarindustrymag\", saving them in a CSV file. These selections cover diverse cleantech topics to ensure varied input for QA generation.\n",
        "\n",
        "  - **Language Filter:**\n",
        "    We focused exclusively on English examples for consistency with the tutorial's approach. For more details, refer to the [Cleantech RAG Tutorial](https://github.com/LuciferUchiha/Cleantech-RAG/blob/main/cleantech_rag.ipynb).\n"
      ],
      "metadata": {
        "id": "76_RPhP0m96y"
      }
    },
    {
      "cell_type": "code",
      "source": [
        "azocleantech_df = articles_df[articles_df['domain']=='azocleantech']"
      ],
      "metadata": {
        "id": "uu-s4JJf6whK"
      },
      "execution_count": 22,
      "outputs": []
    },
    {
      "cell_type": "code",
      "source": [
        "solarindustrymag_df = articles_df[articles_df['domain']=='solarindustrymag']"
      ],
      "metadata": {
        "id": "y3xrCK027FqW"
      },
      "execution_count": 23,
      "outputs": []
    },
    {
      "cell_type": "code",
      "source": [
        "pv_magazine_df = articles_df[articles_df['domain']=='pv-magazine']"
      ],
      "metadata": {
        "id": "8orZTHfib9Au"
      },
      "execution_count": 112,
      "outputs": []
    },
    {
      "cell_type": "code",
      "source": [
        "energyvoice_df = articles_df[articles_df['domain']=='energyvoice']"
      ],
      "metadata": {
        "id": "31S8N86DcEB1"
      },
      "execution_count": 25,
      "outputs": []
    },
    {
      "cell_type": "code",
      "source": [
        "cleantechnica_df = articles_df[articles_df['domain']=='cleantechnica']"
      ],
      "metadata": {
        "id": "U-n6EkMrcJh6"
      },
      "execution_count": 26,
      "outputs": []
    },
    {
      "cell_type": "markdown",
      "source": [
        "###Paragraphs for azocleantech domain"
      ],
      "metadata": {
        "id": "PYMvYJwDcOzY"
      }
    },
    {
      "cell_type": "code",
      "source": [
        "# 7 paragraphs of azocleantech_df\n",
        "selected_indices = [17690, 17915, 18349, 17715, 19247, 15788, 2195]\n",
        "paragraphs_azocleantech_df = azocleantech_df.loc[selected_indices]"
      ],
      "metadata": {
        "id": "y1aZ1FUm7JcI"
      },
      "execution_count": 27,
      "outputs": []
    },
    {
      "cell_type": "markdown",
      "source": [
        "###Paragraphs for solarindustrymag domain"
      ],
      "metadata": {
        "id": "hF65Unbaceq8"
      }
    },
    {
      "cell_type": "code",
      "source": [
        "# 8 paragraphs of solarindustrymag_df\n",
        "\n",
        "selected_indices = [14,4307,1513,2216,13545,13382,2344,1578]\n",
        "paragraphs_solarindustrymag_df = solarindustrymag_df.loc[selected_indices]"
      ],
      "metadata": {
        "id": "I5L_Ib0KAJ8Q"
      },
      "execution_count": 30,
      "outputs": []
    },
    {
      "cell_type": "markdown",
      "source": [
        "###Paragraphs for pv-magzine domain"
      ],
      "metadata": {
        "id": "saSrE2uAc3rA"
      }
    },
    {
      "cell_type": "code",
      "source": [
        "pv_magazine_indices=[1311, 1416, 14590, 16840, 17599, 17643, 18321, 18854, 18906, 19194]\n",
        "paragraphs_pv_magazine_df = pv_magazine_df.loc[pv_magazine_indices]\n"
      ],
      "metadata": {
        "colab": {
          "base_uri": "https://localhost:8080/"
        },
        "id": "I32-Nq5gc6JD",
        "outputId": "f2ac8a1f-64ab-4524-946e-4bbee2bf9fe6"
      },
      "execution_count": 115,
      "outputs": [
        {
          "output_type": "execute_result",
          "data": {
            "text/plain": [
              "[1311, 1416, 14590, 16840, 17599, 17643, 18321, 18854, 18906, 19194]"
            ]
          },
          "metadata": {},
          "execution_count": 115
        }
      ]
    },
    {
      "cell_type": "markdown",
      "source": [
        "###Paragraphs for energyvoice domain"
      ],
      "metadata": {
        "id": "2mbvhNW8dIte"
      }
    },
    {
      "cell_type": "code",
      "source": [
        "energyvoice_indices=[870, 2204, 2979, 3255, 4605, 5268, 6320, 12599, 12647, 18538]\n",
        "paragraphs_energyvoice_df = energyvoice_df.loc[energyvoice_indices]"
      ],
      "metadata": {
        "id": "E4OyhAYYdG1g"
      },
      "execution_count": 116,
      "outputs": []
    },
    {
      "cell_type": "markdown",
      "source": [
        "###Paragraphs for cleantechnica domain"
      ],
      "metadata": {
        "id": "uHXVjqdPdYgK"
      }
    },
    {
      "cell_type": "code",
      "source": [
        "filtered_indices = cleantechnica_df.index[cleantechnica_df[\"Unnamed: 0\"].isin(\n",
        "    [95438, 95392, 95363, 95261, 95173, 95163, 95133, 95106,\n",
        "     95074, 94927, 94925, 94662, 94668, 94645, 95411]\n",
        ")].tolist()"
      ],
      "metadata": {
        "id": "Pjp2_mT_dgQX"
      },
      "execution_count": 118,
      "outputs": []
    },
    {
      "cell_type": "code",
      "source": [
        "paragraphs_cleantechnica_df = cleantechnica_df.loc[filtered_indices]"
      ],
      "metadata": {
        "id": "aXlwLXEKdizx"
      },
      "execution_count": 35,
      "outputs": []
    },
    {
      "cell_type": "code",
      "source": [
        "combined_df = pd.concat([paragraphs_azocleantech_df,\n",
        "                         paragraphs_solarindustrymag_df,\n",
        "                         paragraphs_pv_magazine_df,\n",
        "                         paragraphs_energyvoice_df,\n",
        "                         paragraphs_cleantechnica_df],\n",
        "                        ignore_index=True)"
      ],
      "metadata": {
        "id": "iengh4YDgmpx"
      },
      "execution_count": 36,
      "outputs": []
    },
    {
      "cell_type": "code",
      "source": [
        "combined_df.to_csv(\"/content/drive/MyDrive/SwissText_SharedTask/paragraphs_media_dataset.csv\")"
      ],
      "metadata": {
        "id": "aV5ncT4zgsHQ"
      },
      "execution_count": 37,
      "outputs": []
    },
    {
      "cell_type": "code",
      "source": [
        "combined_df.head()"
      ],
      "metadata": {
        "colab": {
          "base_uri": "https://localhost:8080/",
          "height": 1000
        },
        "collapsed": true,
        "id": "YQAZoptDL5Zm",
        "outputId": "e1215d5a-8fe5-421f-e4ff-b817ddc4388e"
      },
      "execution_count": 104,
      "outputs": [
        {
          "output_type": "execute_result",
          "data": {
            "text/plain": [
              "   Unnamed: 0.1  Unnamed: 0  \\\n",
              "0             0       23302   \n",
              "1             1       23338   \n",
              "2             2       23355   \n",
              "3             3       23307   \n",
              "4             4       23380   \n",
              "\n",
              "                                                                           title  \\\n",
              "0                      Renewable Energy Partnerships: Green Hydrogen Integration   \n",
              "1  Asahi Kasei Starts Operation of Multi-Module Hydrogen Pilot Plant in Kawasaki   \n",
              "2                                Global Warming Threatens Hudson Bay Polar Bears   \n",
              "3                              Efficient Recycling Key to Widespread EV Adoption   \n",
              "4              Multi-Junction Solar Cells Offer a New Path to Sustainable Energy   \n",
              "\n",
              "         date  author  \\\n",
              "0  2024-05-01     NaN   \n",
              "1  2024-05-15     NaN   \n",
              "2  2024-06-14     NaN   \n",
              "3  2024-05-02     NaN   \n",
              "4  2024-08-12     NaN   \n",
              "\n",
              "                                                                                                                                                                                                                                                                                                                                                                                                                                                                                                                                                                                                                                                                                                                                                                                                                                                                                                                                                                                                                                                                                                                                                                                                                                                                                                                                                                                                                                                                                                                                                                                                                                                                                                                                                                                                                                                                                                                                                                                                                                                                                                                                                                                                                                                                                                                                                                                                                                                                                                                                                                                                                                                                                                                                                                                                                                                                                                                                                                                                                                                                                                                                                                                                                                                                                                                                                                                                                                                                                                                                                                                                                                                                                                                                                                                                                                                                                                                                                                                                                                                                                                                                                                                                                                                                                                                                                                                                                                                                                                                                                                                                                                                                                                                                                                                                                                                                                                                                                                                                                                                                                                                                                                                                                                                                                                                                                                                                                                                                                                                                                                                                                                                                                                                                                                                                                                                                                                                                                                                                                                                                                                                                                                                                                                                                                                                                                                                                                                                                                                                                                                                                                                                                                                                                                                                                                                                                                                                                                                                                                                                                                                                                                                                                                                                                                                                                                                                                                                                                                                                                                                                                                                                                                                                                                                                                                                                                                                                                                                                                                                                                                                                                                                                                                                                                                                                                                                                                                                                                                                                                                                                                                                                                                                                                                                                                                                                                                                                                                                                                                                                                                                                                                                                                                                                                                                                                                                                                                                                                                                                                                                                                                                                                                                                                                                                                                                                                                                                                                                                                                                                                                                                                                                                                                                                                                                                                                                                                                                                                                                                                                                                                                                                                                                                                                                                                                                                                                                                                                                                                                                                                                                                                                                                                                                                                                                                                                                                                                                                                                                                                                                                                                                                                                                                                                                                                                                                                                                                                                                                                                                                                                                                                                                                                                                                                                                                                                                                                                                                                                                                                                                                                                                                                                                                                                                                                                                                                                                                                                                                                                                                                                                                                                                                                                                                                                                                                                                                                                                                                                                                                                                                                                                                                                                                                                                                                                                                                                                                                                                                                                                                                                                                                                                                                                                                                          content  \\\n",
              "0  ['As we move toward a sustainable future, green hydrogen is a significant player in the renewable energy landscape. This article discusses how integrating green hydrogen into the grid through strategic partnerships can significantly advance carbon neutrality and energy security. It explores the innovation, infrastructure, and collaborative efforts essential for this transformation, leading toward a cleaner, more resilient energy system.', 'Image Credit: Deemerwha studio/Shutterstock.com', 'Green hydrogen, produced by water electrolysis using renewable energy sources, is at the forefront of the transition to sustainable energy systems. This process ensures that the production of hydrogen, a versatile energy carrier, does not emit carbon dioxide, aligning with global efforts toward carbon neutrality and bolstering energy security.', 'As nations grapple with the urgent need to decarbonize their economies, green hydrogen has garnered significant attention worldwide from government bodies, industries, and environmental organizations.', 'Various international strategies and agreements recognize its potential to serve as a key enabler of the energy transition, reflecting a collective commitment to sustainable, clean energy solutions as a pathway to mitigating climate change and ensuring a resilient energy future ( International Energy Agency, 2020; United Nations Environment Programme, 2021).', 'The advancement of green hydrogen as a sustainable energy source significantly relies on multifaceted partnerships encompassing government, the private sector, and academia. These collaborative efforts are instrumental in overcoming the technological and economic hurdles associated with green hydrogen production and integration.', 'For instance, the Hydrogen Council, a global initiative, exemplifies how over 80 energy, transport, and industrial companies worldwide have united to foster the hydrogen economy through shared investments and technology exchange ( Hydrogen Council, 2020).', 'Government policies and regulatory frameworks also play a vital role in facilitating these partnerships by providing financial incentives and research funding and establishing clear hydrogen production, storage, and distribution standards.', 'The European Union’ s Hydrogen Strategy, launched in 2020, outlines an ambitious roadmap for investments, infrastructure development, and research. It aims to significantly ramp up green hydrogen production by 2030 ( European Commission, 2020).', 'Integrating green hydrogen into the existing energy grid necessitates significant technological innovations and the development of specialized infrastructure.', 'Recent advancements in electrolyzer technology, crucial for green hydrogen production, have improved efficiency and reduced costs. Innovations in renewable energy capture, particularly from solar and wind sources, further bolster the feasibility of green hydrogen as a cost-effective energy solution ( International Renewable Energy Agency, 2022).', 'However, the volatile nature of hydrogen requires the development of specialized storage and transportation infrastructure to handle and distribute it safely. Retrofitting the current energy grids to accommodate hydrogen energy presents a complex challenge, necessitating solutions for compatibility and safety.', 'Strategies include developing hybrid systems that can manage both hydrogen and traditional energy forms, ensuring a smooth transition toward a hydrogen-based energy system ( Energy Transitions Commission, 2021).', \"One notable example of green hydrogen integration is the project in Neom, Saudi Arabia, which, upon completion, will become the world's largest green hydrogen plant. This ambitious project, a partnership between ACWA Power, Air Products, and NEOM, harnesses solar and wind energy to produce up to 650 tons of green hydrogen daily.\", 'The project benefits from substantial financial investment, cutting-edge technology, and strong policy support from the Saudi government, aiming to position the kingdom as a leader in green hydrogen production ( Nereim, 2022).', 'In Europe, the HyGreen Provence Project in France exemplifies regional collaboration for green hydrogen production involving ENGIE, the local government, and various technology providers. Scheduled for completion by 2028, the project aims to generate green hydrogen using solar power, highlighting the role of public-private partnerships in advancing the hydrogen economy.', \"This initiative is expected to significantly contribute to France's energy transition efforts, reducing carbon emissions and creating jobs while providing a scalable model for green hydrogen integration across Europe ( ENGIE, 2021).\", \"Integrating green hydrogen into the energy grid faces several significant challenges, spanning technical, economic, and regulatory spheres. Technically, the lower energy efficiency of hydrogen production through electrolysis, compared to the direct use of electricity, poses a challenge, as does the need for safe storage and transportation solutions due to hydrogen's highly flammable nature ( Calabrese et al., 2024).\", 'Economically, the high initial costs of electrolyzer installations and the hydrogen storage and distribution infrastructure necessitate substantial and sustained investment. Policy and regulatory hurdles can impede its adoption, including the lack of global hydrogen production and use standards. To address these challenges, ongoing research is dedicated to improving electrolyzer efficiency and developing robust safety protocols.', \"Pilot projects are testing hydrogen's viability in various energy systems. At the same time, international cooperation, as seen in the European Union’ s Hydrogen Strategy, seeks to harmonize regulations and encourage investment in green hydrogen technologies ( European Commission, 2020).\", \"Companies and academic institutions worldwide are pioneering green hydrogen technology, driving forward the energy sector's transition to sustainability.\", 'Siemens Energy and ITM Power exemplify corporate leadership in this field. They collaborate to enhance electrolyzer technology for more efficient hydrogen production. Their efforts aim to scale up production capacities, reduce costs, and make green hydrogen viable for a broader range of applications ( Siemens Energy, 2020).', \"Within academia, the Massachusetts Institute of Technology ( MIT) is at the forefront of green hydrogen research, developing novel methods to improve electrolysis efficiency and exploring innovative materials for hydrogen storage ( O'Neill, 2021).\", 'Then, there are startups like H2Pro that are pushing the boundaries with unique electrolysis technology, which promises higher efficiency and lower costs. This showcases the vital role of emerging companies in this sector ( H2Pro, 2021).', 'Universities and industries often collaborate, bridging the gap between research and practical application. These partnerships facilitate technology transfer and provide workforce training, ensuring the next generation is equipped with the skills needed for a green hydrogen economy. Such collaborative efforts are crucial for accelerating the adoption of green hydrogen technologies and integrating them into our energy systems.', 'The transformative potential of green hydrogen and renewable energy partnerships is a positive indicator for the global energy grid.', \"Collaborative efforts across sectors are paramount in surmounting green hydrogen's challenges, emphasizing the need for increased investment, research, and supportive policies.\", 'As we advance, the collective endeavor to integrate green hydrogen into our energy systems is not just a pathway to sustainability but a cornerstone for securing a resilient and sustainable energy future for generations to come.', 'Calabrese M, Portarapillo M, Di Nardo A, Venezia V, Turco M, Luciani G, Di Benedetto A. Hydrogen Safety Challenges: A Comprehensive Review on Production, Storage, Transport, Utilization, and CFD-Based Consequence and Risk Assessment. Energies. 2024; 17 ( 6):1350. https: //doi.org/10.3390/en17061350', 'Energy Transitions Commission. ( 2021). Making Clean Electrification Possible: 30 Years to Electrify the Global Economy. [ Online ] Available at: https: //www.energy-transitions.org/wp-content/uploads/2021/04/ETC-Global-Power-Report-.pdf ( Accessed on 24 March 2024).', 'ENGIE. ( 2021). ENGIE x HyGreen Provence: Building a Green Hydrogen Ecosystem. [ Online ] ENGIE. Available at: https: //www.engie.com/en/business-case/engie-x-hygreen ( Accessed 24 March 2024).', 'European Commission. ( 2020). A hydrogen strategy for a climate-neutral Europe. https: //ec.europa.eu/energy/sites/ener/files/hydrogen strategy.pdf ( Accessed on 24 March 2024).', 'H2Pro. ( 2021). Our technology. [ Online ] H2Pro. Available at: https: //www.h2pro.co/technology ( Accessed 24 March 2024).', 'Hydrogen Council. ( 2020). Path to Hydrogen Competitiveness: A Cost Perspective. [ Online ] Available at: https: //hydrogencouncil.com/wp-content/uploads/2020/01/Path-to-Hydrogen-Competitiveness Full-Study-1.pdf ( Accessed on 24 March 2024).', 'International Energy Agency ( IEA). ( 2020). Energy Technology Perspectives 2020. [ Online ] Available at: https: //www.iea.org/reports/energy-technology-perspectives-2020 ( Accessed on 24 March 2024).', 'International Renewable Energy Agency. ( 2022). Geopolitics of the Energy Transformation. [ Online ] Available at: https: //www.irena.org/Digital-Report/Geopolitics-of-the-Energy-Transformation ( Accessed on 24 March 2024).', 'Nereim, V. ( 2022). Saudi Arabia to Start Building Green Hydrogen Plant in Neom. [ Online ] Bloomberg. Available at: https: //www.bloomberg.com/news/articles/2022-03-17/saudi-arabia-to-start-building-green-hydrogen-plant-in-neom ( Accessed on 24 March 2024).', \"O'Neill, K. M. ( 2021). MITEI researchers build supply chain model to support hydrogen economy. [ Online ] MIT News. Available at: https: //news.mit.edu/2021/mitei-researchers-build-supply-chain-model-support-hydrogen-economy-0608 ( Accessed on 24 March 2024).\", 'Siemens Energy. ( 2020). Hydrogen solutions. [ Online ] Siemens Energy. Available at: https: //www.siemens-energy.com/global/en/home/products-services/product-offerings/hydrogen-solutions.html ( Accessed 24 March 2024).', 'United Nations Environment Programme ( UNEP). ( 2021). UNEP Annual Report 2021. [ Online ] Available at: https: //www.unep.org/annualreport/2021/ ( Accessed on 24 March 2024).', 'Disclaimer: The views expressed here are those of the author expressed in their private capacity and do not necessarily represent the views of AZoM.com Limited T/A AZoNetwork the owner and operator of this website. This disclaimer forms part of the Terms and conditions of use of this website.', 'Rachael Jones, a freelance writer with an MSc in Earth Science and a PGDip in Environmental Management, merges her extensive academic background with years of publishing and editing experience. Focused on digital marketing within the science and technology sectors, Rachael excels in creating compelling narratives that connect intricate scientific ideas with a wider online audience.', 'Jones, Rachael. ( 2024, May 01). Renewable Energy Partnerships: Integrating Green Hydrogen into the Grid. AZoCleantech. Retrieved on May 07, 2024 from https: //www.azocleantech.com/article.aspx? ArticleID=1823.', \"Jones, Rachael. `` Renewable Energy Partnerships: Integrating Green Hydrogen into the Grid ''. AZoCleantech. 07 May 2024. < https: //www.azocleantech.com/article.aspx? ArticleID=1823 >.\", \"Jones, Rachael. `` Renewable Energy Partnerships: Integrating Green Hydrogen into the Grid ''. AZoCleantech. https: //www.azocleantech.com/article.aspx? ArticleID=1823. ( accessed May 07, 2024).\", 'Jones, Rachael. 2024. Renewable Energy Partnerships: Integrating Green Hydrogen into the Grid. AZoCleantech, viewed 07 May 2024, https: //www.azocleantech.com/article.aspx? ArticleID=1823.', 'This product profile summarizes the MAX-iR FTIR Gas Analyzer from Thermo Fisher Scientific.', 'The FT4 Powder Rheometer is a universal powder flow tester for measuring powder flow properties and powder behavior.', 'The GeoPyc 1365 measured the envelope density of formed pieces without the use of hazardous materials.', \"Laurence Molke, CEO of CycleØ, discusses the company's role in sustainable biomethane production and advancing decarbonization efforts.\", \"In this interview, Ieda Gomes Yell discusses the Isle of Man's Innovation Challenge and how it is fostering cleantech, AI, and FinTech solutions for sustainability and net-zero goals.\", \"This interview explores the intersection of policy, innovation, and commercialization within the UK's cleantech sector, with a focus on the initiatives and strategies being pursued by Cleantech for UK under Sarah Mackintosh's leadership.\", \"Hi, I 'm Azthena, you can trust me to find commercial scientific answers from AZoNetwork.com.\", 'A few things you need to know before we start. Please read and accept to continue.', 'Azthena may occasionally provide inaccurate responses. Read the full terms.', 'While we only use edited and approved content for Azthena answers, it may on occasions provide incorrect responses. Please confirm any data provided with the related suppliers or authors. We do not provide medical advice, if you search for medical information you must always consult a medical professional before acting on any information provided.', 'Your questions, but not your email details will be shared with OpenAI and retained for 30 days in accordance with their privacy principles.', 'Please do not ask questions that use sensitive or confidential information.']   \n",
              "1                                                                                                                                                                                                                                                                                                                                                                                                                                                                                                                                                                                                                                                                                                                                                                                                                                                                                                                                                                                                                                                                                                                                                                                                                                                                                                                                                                                                                                                                                                                                                                                                                                                                                                                                                                                                                                                                                                                                                                                                                                                                                                                                                                                                                                                                                                                                                                                                                                                                                                                                                                                                                                                                                                                                                                                                                                                                                                                                                                                                                                                                                                                                                                                                                                                                                                                                                                                                                                                                                                                                                                                                                                                                                                                                                                                                                                                                                                                                                                                                                                                                                                                                                                                                                                                                                                                                                                                                                                                                                                                                                                                                                                                                                                                                                                                                                                                                                                                                                                                                                                                                                                                                                                                                                                                                                                                                                                                                                                                                                                                                                                                                                                                                                                                                                                                                                                                                                                                                                                                                                                                                                                                                                                                                                                                                                                                                                                                                                                                                                                                                                                                                                                                                                                                                                                                                                                                                                                                                                                                                                                                                                                                                                                                                                                                                                                                                                                                                                                                                                                                                                                                                                                                                                                                                                                                                                                                                                                                                                                                                                                                                                                                                                                                                                                                                                                                                                                                                                                                                                                                                                                                                                                       ['The Japanese technology company Asahi Kasei is further accelerating its hydrogen business activities. On May 13, company representatives and partners including the Japanese government celebrated the official opening of a new hydrogen pilot plant in Kawasaki, Japan. Operation start of this commercial-scale facility was in March 2024. The trial operation of four 0.8 MW modules is another milestone towards the realization of a commercial multi-module 100 MW-class alkaline water electrolysis system for green hydrogen production.', 'The hydrogen market is going to expand rapidly in the coming years. According to the Hydrogen Council, cumulative global installed capacity of water electrolyzers forecasted to reach approximately 300 GW by 2030. To meet this increasing demand, Asahi Kasei is currently developing the Aqualyzer™ alkaline water electrolyzer optimized for the production of green hydrogen.', 'In order to test this new system under realistic conditions in a multi-module setup, the company started constructing a pilot plant at its manufacturing site in Kawasaki in November 2022. The new facility started operation in March 2024, and on May 13, company representatives and partners gathered in Kawasaki to celebrate its official opening.', 'Masami Takenaka, Lead Executive Officer at Asahi Kasei and responsible for the company’ s hydrogen business, said, “ This pilot facility is milestone not only for Asahi Kasei, but also for the global hydrogen business in general. We believe that successfully operating our equipment in this test facility will be a door opener for commercial large-scale multi-module alkaline water electrolyzers and eventually the realization of a hydrogen society ”.', 'For the production of green hydrogen, electrolysis systems need to respond to fluctuating power supply from renewable energy sources such as wind or solar. In the pilot plant, four 0.8 MW Aqualyzer™ modules are being operated under realistic conditions, including operation during maintenance and low power supply during nighttime. In addition, the equipment is designed to simulate fluctuating power input from solar or wind power. By utilizing the data obtained from these trials, Asahi Kasei will further optimize the equipment design, operation methods, and control technology of the electrolysis system. With its multi-module approach, Asahi Kasei aims to combine up to ten modules with a capacity of 10 MW each, enabling commercial large-scale electrolysis systems with a capacity of up to 100 MW.', 'Asahi Kasei’ s hydrogen business is based on more than four decades of large-scale and long-term experience in the field of chlor-alkali electrolysis. Aiming for a total sales volume of ¥100 billion ( €600 million) by 2030, the company plans to start commercial business activities for its alkaline water electrolyzers in 2025.', 'The pilot plant in Kawasaki is an important step toward achieving this goal, after the successful long-term tests of its 10 MW single-stack alkaline-water electrolysis system at the Fukushima Energy Research Field ( FH2R) 1 in Namie, Fukushima, Japan, since 2020. The practical experience gained in Namie and the trial operation at the pilot plant in Kawasaki will further underpin Asahi Kasei’ s market entry with large-scale and highly reliable multi-module alkaline water electrolysis equipment. This experience will also be leveraged for the joint feasibility study with Gentari and JGC for a 60 MW-class electrolyzer in Malaysia targeted for 2027, as announced in November 2023.', 'Construction and operation of the pilot plant is supported by the “ Green Innovation Fund2 ” of Japan’ s New Energy and Industrial Technology Development Organization ( NEDO).', 'This product profile summarizes the MAX-iR FTIR Gas Analyzer from Thermo Fisher Scientific.', 'The FT4 Powder Rheometer is a universal powder flow tester for measuring powder flow properties and powder behavior.', 'The TriStar III Plus is a high throughput surface area and porosity analzyer.', \"Laurence Molke, CEO of CycleØ, discusses the company's role in sustainable biomethane production and advancing decarbonization efforts.\", \"In this interview, Ieda Gomes Yell discusses the Isle of Man's Innovation Challenge and how it is fostering cleantech, AI, and FinTech solutions for sustainability and net-zero goals.\", \"This interview explores the intersection of policy, innovation, and commercialization within the UK's cleantech sector, with a focus on the initiatives and strategies being pursued by Cleantech for UK under Sarah Mackintosh's leadership.\", \"Hi, I 'm Azthena, you can trust me to find commercial scientific answers from AZoNetwork.com.\", 'A few things you need to know before we start. Please read and accept to continue.', 'Azthena may occasionally provide inaccurate responses. Read the full terms.', 'While we only use edited and approved content for Azthena answers, it may on occasions provide incorrect responses. Please confirm any data provided with the related suppliers or authors. We do not provide medical advice, if you search for medical information you must always consult a medical professional before acting on any information provided.', 'Your questions, but not your email details will be shared with OpenAI and retained for 30 days in accordance with their privacy principles.', 'Please do not ask questions that use sensitive or confidential information.']   \n",
              "2                                                                                                                                                                                                                                                                                                                                                                                                                                                                                                                                                                                                                                                                                                                                                                                                                                                                                                                                                                                                                                                                                                                                                                                                                                                                                                                                                                                                                                                                                                                                                                                                                                                                                                                                                                                                                                                                                                                                                                                                                                                                                                                                                                                                                                                                                                                                                                                                                                                                                                                                                                                                                                                                                                                                                                                                                                                                                                                                                                                                                                                                                                                                                                                                                                                                                                                                                                                                                                                                                                                                                                                                                                                                                                                                                                                                                                                                                                                                                                                                                                                                                                                                                                                                                                                                                                                                                                                                                                                                                                                                                                                                                                                                                                                                                                                                                                                                                                                                                                                                                                                                                                                                                                                                                                                                                                                                                                                                                                                                                                                                                                                                                                                                                                                                                                                                                                                                                                                                                                                                                                                                                                                                                                                                                                                                                                                                                                                                                                                                                                                                                                                                                                                                                                                                                                                                                                                                                                                                                                                                                                                                                                                                                                                                                                                                                                                                                                                                                                                                                                                                                                                                                                                                                                                                                                                                                                                                                                                                                                                                                                                                                                                                                                                                                                                                                                                                                                                                                                                                                                                                                                                                                                                                                                                                                                                                                                                                                                                                                                                                                                                                                                                                                                                                                                                                                                                                                                                                                                                                                                                                                                                                                                                                                                                                                                  ['Recent research by Julienne Stroeve and colleagues, published in Communications Earth & Environment, projects that global warming would extend the Hudson Bay’ s ice-free period, shortening the resident polar bears’ hunting season.', 'Image Credit: outdoorsman/Shutterstock.com', 'The authors indicate that if temperatures rise by more than 2.1 degrees Celsius, the ice-free period in most of Hudson Bay may exceed the maximum fasting time that adult polar bears can tolerate.', 'Hudson Bay, located in the Arctic Ocean off the coast of northern Canada, is covered in sea ice during the season and is home to roughly 1,700 polar bears. Polar bears spend the winter on the sea ice, hunting seals, their preferred prey. When the ice melts in the spring, they come ashore and fast during the ice-free summer before returning to the sea ice in the melts.', 'Over the last three decades, the Hudson Bay area has warmed by more than one degree Celsius, extending the ice-free period from around 120 to 150 days. Polar bears in the bay rely on sea ice to hunt. Therefore, an extending ice-free period could affect both their survival rate during the fasting period and their reproductive success during the following hunting season.', \"In the western and southern Hudson Bay regions, where losses in polar bear populations have already been noted, Julienne Stroeve and colleagues estimated projected changes to the ice-free time by analyzing predictions from the IPCC's Coupled Model Intercomparison Project 6 ( CMIP6) models. It is believed that polar bears could comfortably endure 183–218 days of ice-free time.\", 'The authors calculated that if global warming surpasses 2.1 degrees Celsius and 2.6 degrees Celsius, respectively, the ice-free period might last longer than the 183-day limit in the western and southern Hudson Bay regions.', \"Furthermore, they predict that seasonal ice melt will probably happen sooner in the spring. Since cubs are usually born between November and January, this might decrease the bears ' nursing time, which could lower their reproductive success.\", 'The scientists emphasize that if global warming is kept to 2 degrees Celsius over pre-industrial levels, the Hudson Bay polar bear population has a strong chance of survival.', 'Stroeve, J., et al. ( 2024) Ice-free period too long for Southern and Western Hudson Bay polar bear populations if global warming exceeds 1.6 to 2.6 °C. Communications Earth & Environment. doi:10.1038/s43247-024-01430-7', 'The Hedgehog™ Mid-IR Laser delivers advanced performance with a broad tuning range; this laser can tune hundreds of cm1 at 1000 cm1/s.', 'This product features enhanced micro-cellular polyurethane foam solutions designed for optimal battery pack efficiency, with PF45 and PF47 available in thicknesses up to 10 mm, tailored for various EV projects.', 'This product profile summarizes the MAX-iR FTIR Gas Analyzer from Thermo Fisher Scientific.', \"Laurence Molke, CEO of CycleØ, discusses the company's role in sustainable biomethane production and advancing decarbonization efforts.\", \"In this interview, Ieda Gomes Yell discusses the Isle of Man's Innovation Challenge and how it is fostering cleantech, AI, and FinTech solutions for sustainability and net-zero goals.\", \"This interview explores the intersection of policy, innovation, and commercialization within the UK's cleantech sector, with a focus on the initiatives and strategies being pursued by Cleantech for UK under Sarah Mackintosh's leadership.\", \"Hi, I 'm Azthena, you can trust me to find commercial scientific answers from AZoNetwork.com.\", 'A few things you need to know before we start. Please read and accept to continue.', 'Azthena may occasionally provide inaccurate responses. Read the full terms.', 'While we only use edited and approved content for Azthena answers, it may on occasions provide incorrect responses. Please confirm any data provided with the related suppliers or authors. We do not provide medical advice, if you search for medical information you must always consult a medical professional before acting on any information provided.', 'Your questions, but not your email details will be shared with OpenAI and retained for 30 days in accordance with their privacy principles.', 'Please do not ask questions that use sensitive or confidential information.']   \n",
              "3                                                                                                                                                                                                                                                                                                                                                                                                                                                                                                                                                                                                                                                                                                                                                                                                                                                                                                                                                                                                                                                                                                                                                                                                                                                                                                                                                                                                                                                                                                                                                                                                                                                                                                                                                                                                                                                                                                                                                                                                                                                                                                                                                                                                                                                                                                                                                                                                                                                                                                                                                                                                                                                                                                                                                                                                                                                                                                                                                                                                                                                                                                                                                                                                                                                                                                                                                                                                                                                                                                                                                                                                                                                                                                                                                                                                                                                                                                                                                                                                                                                                                                                                                                                                                                                                                                                                                                                                                                                                                                                                                                                                                                                                                                                                                                                                                                                                                                                                                                                                                                                                                                                                                                                                                                                                                                                                                                                                                                                                                                                                                                                                                                                                                                                                                                                                                                                                                                                                                                                                                                                                                                                                                                                                                                                                                                                                                                                                                                                                                                                                                                                                                                                                                                                                                                                                                                                                                                                                                                                                                                                                                                                                                                                                                                                                                                                                                                                                                                                                                                                                                                                                                                                                                                                                                                                                                                                                                                                                                                                                                                                                                                                                                                                  ['A new collaboration between the US Department of Energy’ s ( DOE) Argonne National Laboratory and Toyota Motor North America is exploring a method for recycling battery components directly, reducing waste and reliance on foreign materials.', 'To ensure a successful transition to clean energy in the US, the production of electric vehicle ( EV) batteries must be significantly expanded. However, the US depends heavily on other countries for the materials required for these batteries, making it vulnerable to supply chain disruptions.', \"Argonne, Toyota Research Institute of North America, and Toyota's Battery Lifecycle Solutions group are investigating novel approaches to recycling battery components. If successful, this endeavor could strengthen and improve the circularity of domestic battery supply chains, allowing the United States to deploy EVs quickly.\", 'Most battery recycling involves chemically disassembling end-of-life battery components to produce the raw materials needed for manufacture. In contrast to this conventional method, a process known as direct recycling carefully separates the constituent parts of spent batteries. Manufacturers can reuse the components if they preserve their original structure effectively.', \"Batteries ' positive electrodes, or cathodes, have intricate chemical compositions. Their manufacturing procedures are, therefore, expensive and wasteful.\", 'Direct recycling can effectively minimize waste and manufacturing expenses by preserving the cathodes from batteries nearing their end of life. It may also reduce the requirement for pure raw materials.', 'Direct recycling is cutting-edge in the battery industry, there are a few startup companies with small-scale pilot projects underway. But implementation at commercial scale is still in need of innovations.', 'Argonne and Toyota Motor North America have signed a cooperative research and development agreement to create a direct recycling method for the cathodes in lithium-ion batteries, which are common in electric vehicles. The group focuses on cobalt, manganese, and nickel cathodes.', \"The partnership uses a successful, patent-pending direct recycling method created by the ReCell Center in Argonne. Batteries ' cathodes and anodes, or negative electrodes, are separated using a magnet.\", 'Toyota is supplying Argonne with both end-of-life and new plug-in hybrid EV batteries.', 'Besides recycling end-of-life batteries, we are also interested in recycling new batteries, manufacturers produce some battery cells that fail quality testing. We can potentially demonstrate that manufacturers can take cathodes out of failed cells and put them back into their production process. This capability could translate into huge cost savings.', \"At Argonne’ s Materials Engineering Research Facility ( MERF), researchers will use ReCell’ s direct recycling process on Toyota’ s battery cells to extract and regenerate the cathode material. Using coin cells, the team will evaluate different facets of the cathodes ' performance, such as capacity, lifespan, and impedance ( a form of resistance to electric current).\", \"Researchers at MERF plan to increase the recycling process if the cells function well. Then, using the extracted cathodes, Argonne's Cell Analysis, Modeling, and Prototyping Facility will construct larger pouch cells and evaluate the functionality of the cells. At the same time, Toyota will construct and test cells at its research facilities.\", 'The team will assess the performance of the recycled cathodes against that of new, pristine cathodes. They will also utilize Argonne’ s EverBatt model to analyze the costs and environmental impacts of implementing the direct recycling process for Toyota’ s batteries.', 'Albert Lipson concludes, “ Our goal is to prove that the process can make high-performing cathodes cost-effectively while reducing energy use and emissions, if we are successful, EV and battery manufacturers can potentially commercialize the process. ”', 'The research project is a component of the ReCell Center, which receives support from the DOE’ s Vehicle Technologies Office.', 'This product profile summarizes the MAX-iR FTIR Gas Analyzer from Thermo Fisher Scientific.', 'The FT4 Powder Rheometer is a universal powder flow tester for measuring powder flow properties and powder behavior.', 'The GeoPyc 1365 measured the envelope density of formed pieces without the use of hazardous materials.', \"Laurence Molke, CEO of CycleØ, discusses the company's role in sustainable biomethane production and advancing decarbonization efforts.\", \"In this interview, Ieda Gomes Yell discusses the Isle of Man's Innovation Challenge and how it is fostering cleantech, AI, and FinTech solutions for sustainability and net-zero goals.\", \"This interview explores the intersection of policy, innovation, and commercialization within the UK's cleantech sector, with a focus on the initiatives and strategies being pursued by Cleantech for UK under Sarah Mackintosh's leadership.\", \"Hi, I 'm Azthena, you can trust me to find commercial scientific answers from AZoNetwork.com.\", 'A few things you need to know before we start. Please read and accept to continue.', 'Azthena may occasionally provide inaccurate responses. Read the full terms.', 'While we only use edited and approved content for Azthena answers, it may on occasions provide incorrect responses. Please confirm any data provided with the related suppliers or authors. We do not provide medical advice, if you search for medical information you must always consult a medical professional before acting on any information provided.', 'Your questions, but not your email details will be shared with OpenAI and retained for 30 days in accordance with their privacy principles.', 'Please do not ask questions that use sensitive or confidential information.']   \n",
              "4                                                                                                                                                                                                                                                                                                                                                                                                                                                                                                                                                                                                                                                                                                                                                                                                                                                                                                                                                                                                                                                                                                                                                                                                                                                                                                                                                                                                                                                                                                                                                                                                                                                                                                                                                                                                                                                                                                                                                                                                                                                                                                                                                                                                                                                                                                                                                                                                                                                                                                                                                                                                                                                                                                                                                                                                                                                                                                                                                                                                                                                                                                                                                                                                                                                                                                                                                                                                                                                                                                                                                                                                                                                                                                                                                                                                                                                                                                                                                                                                                                                                                                                                                                                                                                                                                                                                                                                                                                                                                                                                                                                                                                                                                                                                                                                                                                                                                                                                                                                                                                                                                                                                                                                                                                                                                                                                                                                                                                                                                                                                                                                                                                                                                                                                                                                                                                                                                                                                                                                                                                                                                                                                                                                                                                                                                                                                                                                                                                                                                                                                                                                                                                                                                                                                                                                                                                                                                                                                                                                                                                                       ['Researchers at the Physics Department of Oxford University have developed a ground-breaking method to generate more solar power without relying on silicon-based solar panels. Their innovation involves using a novel material that can generate electricity on the surfaces of everyday items such as cell phones, cars, and backpacks.', 'This novel light-absorbing material is thin and flexible enough to be applied to the surface of almost any building or everyday object. Using an innovative technique developed at Oxford, which layers multiple light-absorbing materials within a single solar cell, the researchers have captured a broader range of the light spectrum, enabling greater power generation from the same amount of sunlight.', 'This ultra-thin material, utilizing the multi-junction method, has now received independent certification for achieving over 27% energy efficiency. This efficiency matches that of conventional silicon photovoltaics, which typically use single-layer, energy-generating materials.', \"Japan's National Institute of Advanced Industrial Science and Technology ( AIST) granted the certification ahead of the scientific study's publication later this year.\", 'During just five years experimenting with our stacking or multi-junction approach, we have raised power conversion efficiency from around 6% to over 27%, close to the limits of what single-layer photovoltaics can achieve today. We believe that, over time, this approach could enable the photovoltaic devices to achieve far greater efficiencies, exceeding 45%.', 'Dr. Shuaifeng Hu, Post Doctoral Fellow, Physics Department, University of Oxford', 'With an energy efficiency of over 27%, this new material compares favorably with the approximately 22% efficiency of current solar panels, which convert about 22% of sunlight into energy. The versatility of this ultra-thin and flexible material is also crucial. It is nearly 150 times thinner than a silicon wafer at just over one micron thick. Unlike traditional photovoltaics, which are typically applied to silicon panels, this new material can be applied to almost any surface.', 'By using new materials which can be applied as a coating, we have shown we can replicate and out-perform silicon whilst also gaining flexibility. This is important because it promises more solar power without the need for so many silicon-based panels or specially-built solar farms.', 'Dr. Junke Wang, Marie Skłodowska Curie Actions Postdoc Fellow, Physics Department, University of Oxford', 'The researchers believe that this method could make solar energy the most sustainable renewable energy source while continuing to drive down costs. Since 2010, the global average price of solar electricity has decreased by about 90%, making it nearly a third less expensive than electricity generated from fossil fuels.', 'As new materials like thin-film perovskite reduce the reliance on silicon panels and specialized solar farms, these innovations promise even greater cost savings in the future.', '“ We can envisage perovskite coatings being applied to broader types of surface to generate cheap solar power, such as the roof of cars and buildings and even the backs of mobile phones. If more solar energy can be generated in this way, we can foresee less need in the longer term to use silicon panels or build more and more solar farms, ” Dr. Wang added.', 'Around 30 experts, including the researchers, are working on photovoltaics under the direction of Oxford University Physics Department Professor of Renewable Energy Henry Snaith. Their groundbreaking work in photovoltaics, which has benefited from a customized robotic laboratory, began about ten years ago. They specialize in the application of thin-film perovskite.', '“ The latest innovations in solar materials and techniques demonstrated in our labs could become a platform for a new industry, manufacturing materials to generate solar energy more sustainably and cheaply by using existing buildings, vehicles, and objects, ” Henry Snaith adds.', 'Their work has already begun to find applications in the construction, utilities, and auto manufacturing sectors, demonstrating its strong commercial potential.', \"Oxford PV, a UK company founded in 2010 by Professor Henry Snaith, the Co-Founder and Chief Scientific Officer, to commercialize perovskite photovoltaics, has recently begun large-scale manufacturing of these solar cells at its factory in Brandenburg-an-der-Havel, near Berlin, Germany. This is the world's first “ perovskite-on-silicon ” tandem solar cell production line.\", 'The latest innovations in solar materials and techniques demonstrated in our labs could become a platform for a new industry, manufacturing materials to generate solar energy more sustainably and cheaply by using existing buildings, vehicles, and objects.', '“ Supplying these materials will be a fast-growth new industry in the global green economy, and we have shown that the UK is innovating and leading the way scientifically. However, without new incentives and a better pathway to convert this innovation into manufacturing, the UK will miss the opportunity to lead this new global industry, ” Professor Snaith added.', 'The Thermo Scientific™ MAX-iAQ™ is a fully automated ambient air monitoring solution with 20 detection points, specifically designed for the accurate detection of trace compounds in environments with high humidity.', 'The LInspector Edge In-line Mass Profilometer is a cutting-edge electrode mass loading inspection machine.', 'Discover IGA Ecosorp from Hiden Isochema: a state-of-the-art analyzer for dynamic gas and vapor sorption analysis.', \"AZoCleantech interviews Carbon Limit's Founder and CEO about the company's mission to reduce one billion tons of CO2 with CaptureCrete, an innovative concrete technology.\", \"Giampiero Frisio of ABB discusses AI's impact on data center sustainability and the integration of renewable energy for efficiency.\", 'In this interview, AZoCleantech talks to Trevor Tilman and Kelly McPartland about carbon capture and storage, analysis of CO2 purity and more.', \"Hi, I 'm Azthena, you can trust me to find commercial scientific answers from AZoNetwork.com.\", 'A few things you need to know before we start. Please read and accept to continue.', 'Azthena may occasionally provide inaccurate responses. Read the full terms.', 'While we only use edited and approved content for Azthena answers, it may on occasions provide incorrect responses. Please confirm any data provided with the related suppliers or authors. We do not provide medical advice, if you search for medical information you must always consult a medical professional before acting on any information provided.', 'Your questions, but not your email details will be shared with OpenAI and retained for 30 days in accordance with their privacy principles.', 'Please do not ask questions that use sensitive or confidential information.']   \n",
              "\n",
              "         domain                                                       url  \n",
              "0  azocleantech  https://www.azocleantech.com/article.aspx?ArticleID=1823  \n",
              "1  azocleantech       https://www.azocleantech.com/news.aspx?newsID=34871  \n",
              "2  azocleantech       https://www.azocleantech.com/news.aspx?newsID=34952  \n",
              "3  azocleantech       https://www.azocleantech.com/news.aspx?NewsID=34837  \n",
              "4  azocleantech       https://www.azocleantech.com/news.aspx?newsID=35073  "
            ],
            "text/html": [
              "\n",
              "  <div id=\"df-a7903e5f-ce91-4d39-8f50-0b4811957905\" class=\"colab-df-container\">\n",
              "    <div>\n",
              "<style scoped>\n",
              "    .dataframe tbody tr th:only-of-type {\n",
              "        vertical-align: middle;\n",
              "    }\n",
              "\n",
              "    .dataframe tbody tr th {\n",
              "        vertical-align: top;\n",
              "    }\n",
              "\n",
              "    .dataframe thead th {\n",
              "        text-align: right;\n",
              "    }\n",
              "</style>\n",
              "<table border=\"1\" class=\"dataframe\">\n",
              "  <thead>\n",
              "    <tr style=\"text-align: right;\">\n",
              "      <th></th>\n",
              "      <th>Unnamed: 0.1</th>\n",
              "      <th>Unnamed: 0</th>\n",
              "      <th>title</th>\n",
              "      <th>date</th>\n",
              "      <th>author</th>\n",
              "      <th>content</th>\n",
              "      <th>domain</th>\n",
              "      <th>url</th>\n",
              "    </tr>\n",
              "  </thead>\n",
              "  <tbody>\n",
              "    <tr>\n",
              "      <th>0</th>\n",
              "      <td>0</td>\n",
              "      <td>23302</td>\n",
              "      <td>Renewable Energy Partnerships: Green Hydrogen Integration</td>\n",
              "      <td>2024-05-01</td>\n",
              "      <td>NaN</td>\n",
              "      <td>['As we move toward a sustainable future, green hydrogen is a significant player in the renewable energy landscape. This article discusses how integrating green hydrogen into the grid through strategic partnerships can significantly advance carbon neutrality and energy security. It explores the innovation, infrastructure, and collaborative efforts essential for this transformation, leading toward a cleaner, more resilient energy system.', 'Image Credit: Deemerwha studio/Shutterstock.com', 'Green hydrogen, produced by water electrolysis using renewable energy sources, is at the forefront of the transition to sustainable energy systems. This process ensures that the production of hydrogen, a versatile energy carrier, does not emit carbon dioxide, aligning with global efforts toward carbon neutrality and bolstering energy security.', 'As nations grapple with the urgent need to decarbonize their economies, green hydrogen has garnered significant attention worldwide from government bodies, industries, and environmental organizations.', 'Various international strategies and agreements recognize its potential to serve as a key enabler of the energy transition, reflecting a collective commitment to sustainable, clean energy solutions as a pathway to mitigating climate change and ensuring a resilient energy future ( International Energy Agency, 2020; United Nations Environment Programme, 2021).', 'The advancement of green hydrogen as a sustainable energy source significantly relies on multifaceted partnerships encompassing government, the private sector, and academia. These collaborative efforts are instrumental in overcoming the technological and economic hurdles associated with green hydrogen production and integration.', 'For instance, the Hydrogen Council, a global initiative, exemplifies how over 80 energy, transport, and industrial companies worldwide have united to foster the hydrogen economy through shared investments and technology exchange ( Hydrogen Council, 2020).', 'Government policies and regulatory frameworks also play a vital role in facilitating these partnerships by providing financial incentives and research funding and establishing clear hydrogen production, storage, and distribution standards.', 'The European Union’ s Hydrogen Strategy, launched in 2020, outlines an ambitious roadmap for investments, infrastructure development, and research. It aims to significantly ramp up green hydrogen production by 2030 ( European Commission, 2020).', 'Integrating green hydrogen into the existing energy grid necessitates significant technological innovations and the development of specialized infrastructure.', 'Recent advancements in electrolyzer technology, crucial for green hydrogen production, have improved efficiency and reduced costs. Innovations in renewable energy capture, particularly from solar and wind sources, further bolster the feasibility of green hydrogen as a cost-effective energy solution ( International Renewable Energy Agency, 2022).', 'However, the volatile nature of hydrogen requires the development of specialized storage and transportation infrastructure to handle and distribute it safely. Retrofitting the current energy grids to accommodate hydrogen energy presents a complex challenge, necessitating solutions for compatibility and safety.', 'Strategies include developing hybrid systems that can manage both hydrogen and traditional energy forms, ensuring a smooth transition toward a hydrogen-based energy system ( Energy Transitions Commission, 2021).', \"One notable example of green hydrogen integration is the project in Neom, Saudi Arabia, which, upon completion, will become the world's largest green hydrogen plant. This ambitious project, a partnership between ACWA Power, Air Products, and NEOM, harnesses solar and wind energy to produce up to 650 tons of green hydrogen daily.\", 'The project benefits from substantial financial investment, cutting-edge technology, and strong policy support from the Saudi government, aiming to position the kingdom as a leader in green hydrogen production ( Nereim, 2022).', 'In Europe, the HyGreen Provence Project in France exemplifies regional collaboration for green hydrogen production involving ENGIE, the local government, and various technology providers. Scheduled for completion by 2028, the project aims to generate green hydrogen using solar power, highlighting the role of public-private partnerships in advancing the hydrogen economy.', \"This initiative is expected to significantly contribute to France's energy transition efforts, reducing carbon emissions and creating jobs while providing a scalable model for green hydrogen integration across Europe ( ENGIE, 2021).\", \"Integrating green hydrogen into the energy grid faces several significant challenges, spanning technical, economic, and regulatory spheres. Technically, the lower energy efficiency of hydrogen production through electrolysis, compared to the direct use of electricity, poses a challenge, as does the need for safe storage and transportation solutions due to hydrogen's highly flammable nature ( Calabrese et al., 2024).\", 'Economically, the high initial costs of electrolyzer installations and the hydrogen storage and distribution infrastructure necessitate substantial and sustained investment. Policy and regulatory hurdles can impede its adoption, including the lack of global hydrogen production and use standards. To address these challenges, ongoing research is dedicated to improving electrolyzer efficiency and developing robust safety protocols.', \"Pilot projects are testing hydrogen's viability in various energy systems. At the same time, international cooperation, as seen in the European Union’ s Hydrogen Strategy, seeks to harmonize regulations and encourage investment in green hydrogen technologies ( European Commission, 2020).\", \"Companies and academic institutions worldwide are pioneering green hydrogen technology, driving forward the energy sector's transition to sustainability.\", 'Siemens Energy and ITM Power exemplify corporate leadership in this field. They collaborate to enhance electrolyzer technology for more efficient hydrogen production. Their efforts aim to scale up production capacities, reduce costs, and make green hydrogen viable for a broader range of applications ( Siemens Energy, 2020).', \"Within academia, the Massachusetts Institute of Technology ( MIT) is at the forefront of green hydrogen research, developing novel methods to improve electrolysis efficiency and exploring innovative materials for hydrogen storage ( O'Neill, 2021).\", 'Then, there are startups like H2Pro that are pushing the boundaries with unique electrolysis technology, which promises higher efficiency and lower costs. This showcases the vital role of emerging companies in this sector ( H2Pro, 2021).', 'Universities and industries often collaborate, bridging the gap between research and practical application. These partnerships facilitate technology transfer and provide workforce training, ensuring the next generation is equipped with the skills needed for a green hydrogen economy. Such collaborative efforts are crucial for accelerating the adoption of green hydrogen technologies and integrating them into our energy systems.', 'The transformative potential of green hydrogen and renewable energy partnerships is a positive indicator for the global energy grid.', \"Collaborative efforts across sectors are paramount in surmounting green hydrogen's challenges, emphasizing the need for increased investment, research, and supportive policies.\", 'As we advance, the collective endeavor to integrate green hydrogen into our energy systems is not just a pathway to sustainability but a cornerstone for securing a resilient and sustainable energy future for generations to come.', 'Calabrese M, Portarapillo M, Di Nardo A, Venezia V, Turco M, Luciani G, Di Benedetto A. Hydrogen Safety Challenges: A Comprehensive Review on Production, Storage, Transport, Utilization, and CFD-Based Consequence and Risk Assessment. Energies. 2024; 17 ( 6):1350. https: //doi.org/10.3390/en17061350', 'Energy Transitions Commission. ( 2021). Making Clean Electrification Possible: 30 Years to Electrify the Global Economy. [ Online ] Available at: https: //www.energy-transitions.org/wp-content/uploads/2021/04/ETC-Global-Power-Report-.pdf ( Accessed on 24 March 2024).', 'ENGIE. ( 2021). ENGIE x HyGreen Provence: Building a Green Hydrogen Ecosystem. [ Online ] ENGIE. Available at: https: //www.engie.com/en/business-case/engie-x-hygreen ( Accessed 24 March 2024).', 'European Commission. ( 2020). A hydrogen strategy for a climate-neutral Europe. https: //ec.europa.eu/energy/sites/ener/files/hydrogen strategy.pdf ( Accessed on 24 March 2024).', 'H2Pro. ( 2021). Our technology. [ Online ] H2Pro. Available at: https: //www.h2pro.co/technology ( Accessed 24 March 2024).', 'Hydrogen Council. ( 2020). Path to Hydrogen Competitiveness: A Cost Perspective. [ Online ] Available at: https: //hydrogencouncil.com/wp-content/uploads/2020/01/Path-to-Hydrogen-Competitiveness Full-Study-1.pdf ( Accessed on 24 March 2024).', 'International Energy Agency ( IEA). ( 2020). Energy Technology Perspectives 2020. [ Online ] Available at: https: //www.iea.org/reports/energy-technology-perspectives-2020 ( Accessed on 24 March 2024).', 'International Renewable Energy Agency. ( 2022). Geopolitics of the Energy Transformation. [ Online ] Available at: https: //www.irena.org/Digital-Report/Geopolitics-of-the-Energy-Transformation ( Accessed on 24 March 2024).', 'Nereim, V. ( 2022). Saudi Arabia to Start Building Green Hydrogen Plant in Neom. [ Online ] Bloomberg. Available at: https: //www.bloomberg.com/news/articles/2022-03-17/saudi-arabia-to-start-building-green-hydrogen-plant-in-neom ( Accessed on 24 March 2024).', \"O'Neill, K. M. ( 2021). MITEI researchers build supply chain model to support hydrogen economy. [ Online ] MIT News. Available at: https: //news.mit.edu/2021/mitei-researchers-build-supply-chain-model-support-hydrogen-economy-0608 ( Accessed on 24 March 2024).\", 'Siemens Energy. ( 2020). Hydrogen solutions. [ Online ] Siemens Energy. Available at: https: //www.siemens-energy.com/global/en/home/products-services/product-offerings/hydrogen-solutions.html ( Accessed 24 March 2024).', 'United Nations Environment Programme ( UNEP). ( 2021). UNEP Annual Report 2021. [ Online ] Available at: https: //www.unep.org/annualreport/2021/ ( Accessed on 24 March 2024).', 'Disclaimer: The views expressed here are those of the author expressed in their private capacity and do not necessarily represent the views of AZoM.com Limited T/A AZoNetwork the owner and operator of this website. This disclaimer forms part of the Terms and conditions of use of this website.', 'Rachael Jones, a freelance writer with an MSc in Earth Science and a PGDip in Environmental Management, merges her extensive academic background with years of publishing and editing experience. Focused on digital marketing within the science and technology sectors, Rachael excels in creating compelling narratives that connect intricate scientific ideas with a wider online audience.', 'Jones, Rachael. ( 2024, May 01). Renewable Energy Partnerships: Integrating Green Hydrogen into the Grid. AZoCleantech. Retrieved on May 07, 2024 from https: //www.azocleantech.com/article.aspx? ArticleID=1823.', \"Jones, Rachael. `` Renewable Energy Partnerships: Integrating Green Hydrogen into the Grid ''. AZoCleantech. 07 May 2024. &lt; https: //www.azocleantech.com/article.aspx? ArticleID=1823 &gt;.\", \"Jones, Rachael. `` Renewable Energy Partnerships: Integrating Green Hydrogen into the Grid ''. AZoCleantech. https: //www.azocleantech.com/article.aspx? ArticleID=1823. ( accessed May 07, 2024).\", 'Jones, Rachael. 2024. Renewable Energy Partnerships: Integrating Green Hydrogen into the Grid. AZoCleantech, viewed 07 May 2024, https: //www.azocleantech.com/article.aspx? ArticleID=1823.', 'This product profile summarizes the MAX-iR FTIR Gas Analyzer from Thermo Fisher Scientific.', 'The FT4 Powder Rheometer is a universal powder flow tester for measuring powder flow properties and powder behavior.', 'The GeoPyc 1365 measured the envelope density of formed pieces without the use of hazardous materials.', \"Laurence Molke, CEO of CycleØ, discusses the company's role in sustainable biomethane production and advancing decarbonization efforts.\", \"In this interview, Ieda Gomes Yell discusses the Isle of Man's Innovation Challenge and how it is fostering cleantech, AI, and FinTech solutions for sustainability and net-zero goals.\", \"This interview explores the intersection of policy, innovation, and commercialization within the UK's cleantech sector, with a focus on the initiatives and strategies being pursued by Cleantech for UK under Sarah Mackintosh's leadership.\", \"Hi, I 'm Azthena, you can trust me to find commercial scientific answers from AZoNetwork.com.\", 'A few things you need to know before we start. Please read and accept to continue.', 'Azthena may occasionally provide inaccurate responses. Read the full terms.', 'While we only use edited and approved content for Azthena answers, it may on occasions provide incorrect responses. Please confirm any data provided with the related suppliers or authors. We do not provide medical advice, if you search for medical information you must always consult a medical professional before acting on any information provided.', 'Your questions, but not your email details will be shared with OpenAI and retained for 30 days in accordance with their privacy principles.', 'Please do not ask questions that use sensitive or confidential information.']</td>\n",
              "      <td>azocleantech</td>\n",
              "      <td>https://www.azocleantech.com/article.aspx?ArticleID=1823</td>\n",
              "    </tr>\n",
              "    <tr>\n",
              "      <th>1</th>\n",
              "      <td>1</td>\n",
              "      <td>23338</td>\n",
              "      <td>Asahi Kasei Starts Operation of Multi-Module Hydrogen Pilot Plant in Kawasaki</td>\n",
              "      <td>2024-05-15</td>\n",
              "      <td>NaN</td>\n",
              "      <td>['The Japanese technology company Asahi Kasei is further accelerating its hydrogen business activities. On May 13, company representatives and partners including the Japanese government celebrated the official opening of a new hydrogen pilot plant in Kawasaki, Japan. Operation start of this commercial-scale facility was in March 2024. The trial operation of four 0.8 MW modules is another milestone towards the realization of a commercial multi-module 100 MW-class alkaline water electrolysis system for green hydrogen production.', 'The hydrogen market is going to expand rapidly in the coming years. According to the Hydrogen Council, cumulative global installed capacity of water electrolyzers forecasted to reach approximately 300 GW by 2030. To meet this increasing demand, Asahi Kasei is currently developing the Aqualyzer™ alkaline water electrolyzer optimized for the production of green hydrogen.', 'In order to test this new system under realistic conditions in a multi-module setup, the company started constructing a pilot plant at its manufacturing site in Kawasaki in November 2022. The new facility started operation in March 2024, and on May 13, company representatives and partners gathered in Kawasaki to celebrate its official opening.', 'Masami Takenaka, Lead Executive Officer at Asahi Kasei and responsible for the company’ s hydrogen business, said, “ This pilot facility is milestone not only for Asahi Kasei, but also for the global hydrogen business in general. We believe that successfully operating our equipment in this test facility will be a door opener for commercial large-scale multi-module alkaline water electrolyzers and eventually the realization of a hydrogen society ”.', 'For the production of green hydrogen, electrolysis systems need to respond to fluctuating power supply from renewable energy sources such as wind or solar. In the pilot plant, four 0.8 MW Aqualyzer™ modules are being operated under realistic conditions, including operation during maintenance and low power supply during nighttime. In addition, the equipment is designed to simulate fluctuating power input from solar or wind power. By utilizing the data obtained from these trials, Asahi Kasei will further optimize the equipment design, operation methods, and control technology of the electrolysis system. With its multi-module approach, Asahi Kasei aims to combine up to ten modules with a capacity of 10 MW each, enabling commercial large-scale electrolysis systems with a capacity of up to 100 MW.', 'Asahi Kasei’ s hydrogen business is based on more than four decades of large-scale and long-term experience in the field of chlor-alkali electrolysis. Aiming for a total sales volume of ¥100 billion ( €600 million) by 2030, the company plans to start commercial business activities for its alkaline water electrolyzers in 2025.', 'The pilot plant in Kawasaki is an important step toward achieving this goal, after the successful long-term tests of its 10 MW single-stack alkaline-water electrolysis system at the Fukushima Energy Research Field ( FH2R) 1 in Namie, Fukushima, Japan, since 2020. The practical experience gained in Namie and the trial operation at the pilot plant in Kawasaki will further underpin Asahi Kasei’ s market entry with large-scale and highly reliable multi-module alkaline water electrolysis equipment. This experience will also be leveraged for the joint feasibility study with Gentari and JGC for a 60 MW-class electrolyzer in Malaysia targeted for 2027, as announced in November 2023.', 'Construction and operation of the pilot plant is supported by the “ Green Innovation Fund2 ” of Japan’ s New Energy and Industrial Technology Development Organization ( NEDO).', 'This product profile summarizes the MAX-iR FTIR Gas Analyzer from Thermo Fisher Scientific.', 'The FT4 Powder Rheometer is a universal powder flow tester for measuring powder flow properties and powder behavior.', 'The TriStar III Plus is a high throughput surface area and porosity analzyer.', \"Laurence Molke, CEO of CycleØ, discusses the company's role in sustainable biomethane production and advancing decarbonization efforts.\", \"In this interview, Ieda Gomes Yell discusses the Isle of Man's Innovation Challenge and how it is fostering cleantech, AI, and FinTech solutions for sustainability and net-zero goals.\", \"This interview explores the intersection of policy, innovation, and commercialization within the UK's cleantech sector, with a focus on the initiatives and strategies being pursued by Cleantech for UK under Sarah Mackintosh's leadership.\", \"Hi, I 'm Azthena, you can trust me to find commercial scientific answers from AZoNetwork.com.\", 'A few things you need to know before we start. Please read and accept to continue.', 'Azthena may occasionally provide inaccurate responses. Read the full terms.', 'While we only use edited and approved content for Azthena answers, it may on occasions provide incorrect responses. Please confirm any data provided with the related suppliers or authors. We do not provide medical advice, if you search for medical information you must always consult a medical professional before acting on any information provided.', 'Your questions, but not your email details will be shared with OpenAI and retained for 30 days in accordance with their privacy principles.', 'Please do not ask questions that use sensitive or confidential information.']</td>\n",
              "      <td>azocleantech</td>\n",
              "      <td>https://www.azocleantech.com/news.aspx?newsID=34871</td>\n",
              "    </tr>\n",
              "    <tr>\n",
              "      <th>2</th>\n",
              "      <td>2</td>\n",
              "      <td>23355</td>\n",
              "      <td>Global Warming Threatens Hudson Bay Polar Bears</td>\n",
              "      <td>2024-06-14</td>\n",
              "      <td>NaN</td>\n",
              "      <td>['Recent research by Julienne Stroeve and colleagues, published in Communications Earth &amp; Environment, projects that global warming would extend the Hudson Bay’ s ice-free period, shortening the resident polar bears’ hunting season.', 'Image Credit: outdoorsman/Shutterstock.com', 'The authors indicate that if temperatures rise by more than 2.1 degrees Celsius, the ice-free period in most of Hudson Bay may exceed the maximum fasting time that adult polar bears can tolerate.', 'Hudson Bay, located in the Arctic Ocean off the coast of northern Canada, is covered in sea ice during the season and is home to roughly 1,700 polar bears. Polar bears spend the winter on the sea ice, hunting seals, their preferred prey. When the ice melts in the spring, they come ashore and fast during the ice-free summer before returning to the sea ice in the melts.', 'Over the last three decades, the Hudson Bay area has warmed by more than one degree Celsius, extending the ice-free period from around 120 to 150 days. Polar bears in the bay rely on sea ice to hunt. Therefore, an extending ice-free period could affect both their survival rate during the fasting period and their reproductive success during the following hunting season.', \"In the western and southern Hudson Bay regions, where losses in polar bear populations have already been noted, Julienne Stroeve and colleagues estimated projected changes to the ice-free time by analyzing predictions from the IPCC's Coupled Model Intercomparison Project 6 ( CMIP6) models. It is believed that polar bears could comfortably endure 183–218 days of ice-free time.\", 'The authors calculated that if global warming surpasses 2.1 degrees Celsius and 2.6 degrees Celsius, respectively, the ice-free period might last longer than the 183-day limit in the western and southern Hudson Bay regions.', \"Furthermore, they predict that seasonal ice melt will probably happen sooner in the spring. Since cubs are usually born between November and January, this might decrease the bears ' nursing time, which could lower their reproductive success.\", 'The scientists emphasize that if global warming is kept to 2 degrees Celsius over pre-industrial levels, the Hudson Bay polar bear population has a strong chance of survival.', 'Stroeve, J., et al. ( 2024) Ice-free period too long for Southern and Western Hudson Bay polar bear populations if global warming exceeds 1.6 to 2.6 °C. Communications Earth &amp; Environment. doi:10.1038/s43247-024-01430-7', 'The Hedgehog™ Mid-IR Laser delivers advanced performance with a broad tuning range; this laser can tune hundreds of cm1 at 1000 cm1/s.', 'This product features enhanced micro-cellular polyurethane foam solutions designed for optimal battery pack efficiency, with PF45 and PF47 available in thicknesses up to 10 mm, tailored for various EV projects.', 'This product profile summarizes the MAX-iR FTIR Gas Analyzer from Thermo Fisher Scientific.', \"Laurence Molke, CEO of CycleØ, discusses the company's role in sustainable biomethane production and advancing decarbonization efforts.\", \"In this interview, Ieda Gomes Yell discusses the Isle of Man's Innovation Challenge and how it is fostering cleantech, AI, and FinTech solutions for sustainability and net-zero goals.\", \"This interview explores the intersection of policy, innovation, and commercialization within the UK's cleantech sector, with a focus on the initiatives and strategies being pursued by Cleantech for UK under Sarah Mackintosh's leadership.\", \"Hi, I 'm Azthena, you can trust me to find commercial scientific answers from AZoNetwork.com.\", 'A few things you need to know before we start. Please read and accept to continue.', 'Azthena may occasionally provide inaccurate responses. Read the full terms.', 'While we only use edited and approved content for Azthena answers, it may on occasions provide incorrect responses. Please confirm any data provided with the related suppliers or authors. We do not provide medical advice, if you search for medical information you must always consult a medical professional before acting on any information provided.', 'Your questions, but not your email details will be shared with OpenAI and retained for 30 days in accordance with their privacy principles.', 'Please do not ask questions that use sensitive or confidential information.']</td>\n",
              "      <td>azocleantech</td>\n",
              "      <td>https://www.azocleantech.com/news.aspx?newsID=34952</td>\n",
              "    </tr>\n",
              "    <tr>\n",
              "      <th>3</th>\n",
              "      <td>3</td>\n",
              "      <td>23307</td>\n",
              "      <td>Efficient Recycling Key to Widespread EV Adoption</td>\n",
              "      <td>2024-05-02</td>\n",
              "      <td>NaN</td>\n",
              "      <td>['A new collaboration between the US Department of Energy’ s ( DOE) Argonne National Laboratory and Toyota Motor North America is exploring a method for recycling battery components directly, reducing waste and reliance on foreign materials.', 'To ensure a successful transition to clean energy in the US, the production of electric vehicle ( EV) batteries must be significantly expanded. However, the US depends heavily on other countries for the materials required for these batteries, making it vulnerable to supply chain disruptions.', \"Argonne, Toyota Research Institute of North America, and Toyota's Battery Lifecycle Solutions group are investigating novel approaches to recycling battery components. If successful, this endeavor could strengthen and improve the circularity of domestic battery supply chains, allowing the United States to deploy EVs quickly.\", 'Most battery recycling involves chemically disassembling end-of-life battery components to produce the raw materials needed for manufacture. In contrast to this conventional method, a process known as direct recycling carefully separates the constituent parts of spent batteries. Manufacturers can reuse the components if they preserve their original structure effectively.', \"Batteries ' positive electrodes, or cathodes, have intricate chemical compositions. Their manufacturing procedures are, therefore, expensive and wasteful.\", 'Direct recycling can effectively minimize waste and manufacturing expenses by preserving the cathodes from batteries nearing their end of life. It may also reduce the requirement for pure raw materials.', 'Direct recycling is cutting-edge in the battery industry, there are a few startup companies with small-scale pilot projects underway. But implementation at commercial scale is still in need of innovations.', 'Argonne and Toyota Motor North America have signed a cooperative research and development agreement to create a direct recycling method for the cathodes in lithium-ion batteries, which are common in electric vehicles. The group focuses on cobalt, manganese, and nickel cathodes.', \"The partnership uses a successful, patent-pending direct recycling method created by the ReCell Center in Argonne. Batteries ' cathodes and anodes, or negative electrodes, are separated using a magnet.\", 'Toyota is supplying Argonne with both end-of-life and new plug-in hybrid EV batteries.', 'Besides recycling end-of-life batteries, we are also interested in recycling new batteries, manufacturers produce some battery cells that fail quality testing. We can potentially demonstrate that manufacturers can take cathodes out of failed cells and put them back into their production process. This capability could translate into huge cost savings.', \"At Argonne’ s Materials Engineering Research Facility ( MERF), researchers will use ReCell’ s direct recycling process on Toyota’ s battery cells to extract and regenerate the cathode material. Using coin cells, the team will evaluate different facets of the cathodes ' performance, such as capacity, lifespan, and impedance ( a form of resistance to electric current).\", \"Researchers at MERF plan to increase the recycling process if the cells function well. Then, using the extracted cathodes, Argonne's Cell Analysis, Modeling, and Prototyping Facility will construct larger pouch cells and evaluate the functionality of the cells. At the same time, Toyota will construct and test cells at its research facilities.\", 'The team will assess the performance of the recycled cathodes against that of new, pristine cathodes. They will also utilize Argonne’ s EverBatt model to analyze the costs and environmental impacts of implementing the direct recycling process for Toyota’ s batteries.', 'Albert Lipson concludes, “ Our goal is to prove that the process can make high-performing cathodes cost-effectively while reducing energy use and emissions, if we are successful, EV and battery manufacturers can potentially commercialize the process. ”', 'The research project is a component of the ReCell Center, which receives support from the DOE’ s Vehicle Technologies Office.', 'This product profile summarizes the MAX-iR FTIR Gas Analyzer from Thermo Fisher Scientific.', 'The FT4 Powder Rheometer is a universal powder flow tester for measuring powder flow properties and powder behavior.', 'The GeoPyc 1365 measured the envelope density of formed pieces without the use of hazardous materials.', \"Laurence Molke, CEO of CycleØ, discusses the company's role in sustainable biomethane production and advancing decarbonization efforts.\", \"In this interview, Ieda Gomes Yell discusses the Isle of Man's Innovation Challenge and how it is fostering cleantech, AI, and FinTech solutions for sustainability and net-zero goals.\", \"This interview explores the intersection of policy, innovation, and commercialization within the UK's cleantech sector, with a focus on the initiatives and strategies being pursued by Cleantech for UK under Sarah Mackintosh's leadership.\", \"Hi, I 'm Azthena, you can trust me to find commercial scientific answers from AZoNetwork.com.\", 'A few things you need to know before we start. Please read and accept to continue.', 'Azthena may occasionally provide inaccurate responses. Read the full terms.', 'While we only use edited and approved content for Azthena answers, it may on occasions provide incorrect responses. Please confirm any data provided with the related suppliers or authors. We do not provide medical advice, if you search for medical information you must always consult a medical professional before acting on any information provided.', 'Your questions, but not your email details will be shared with OpenAI and retained for 30 days in accordance with their privacy principles.', 'Please do not ask questions that use sensitive or confidential information.']</td>\n",
              "      <td>azocleantech</td>\n",
              "      <td>https://www.azocleantech.com/news.aspx?NewsID=34837</td>\n",
              "    </tr>\n",
              "    <tr>\n",
              "      <th>4</th>\n",
              "      <td>4</td>\n",
              "      <td>23380</td>\n",
              "      <td>Multi-Junction Solar Cells Offer a New Path to Sustainable Energy</td>\n",
              "      <td>2024-08-12</td>\n",
              "      <td>NaN</td>\n",
              "      <td>['Researchers at the Physics Department of Oxford University have developed a ground-breaking method to generate more solar power without relying on silicon-based solar panels. Their innovation involves using a novel material that can generate electricity on the surfaces of everyday items such as cell phones, cars, and backpacks.', 'This novel light-absorbing material is thin and flexible enough to be applied to the surface of almost any building or everyday object. Using an innovative technique developed at Oxford, which layers multiple light-absorbing materials within a single solar cell, the researchers have captured a broader range of the light spectrum, enabling greater power generation from the same amount of sunlight.', 'This ultra-thin material, utilizing the multi-junction method, has now received independent certification for achieving over 27% energy efficiency. This efficiency matches that of conventional silicon photovoltaics, which typically use single-layer, energy-generating materials.', \"Japan's National Institute of Advanced Industrial Science and Technology ( AIST) granted the certification ahead of the scientific study's publication later this year.\", 'During just five years experimenting with our stacking or multi-junction approach, we have raised power conversion efficiency from around 6% to over 27%, close to the limits of what single-layer photovoltaics can achieve today. We believe that, over time, this approach could enable the photovoltaic devices to achieve far greater efficiencies, exceeding 45%.', 'Dr. Shuaifeng Hu, Post Doctoral Fellow, Physics Department, University of Oxford', 'With an energy efficiency of over 27%, this new material compares favorably with the approximately 22% efficiency of current solar panels, which convert about 22% of sunlight into energy. The versatility of this ultra-thin and flexible material is also crucial. It is nearly 150 times thinner than a silicon wafer at just over one micron thick. Unlike traditional photovoltaics, which are typically applied to silicon panels, this new material can be applied to almost any surface.', 'By using new materials which can be applied as a coating, we have shown we can replicate and out-perform silicon whilst also gaining flexibility. This is important because it promises more solar power without the need for so many silicon-based panels or specially-built solar farms.', 'Dr. Junke Wang, Marie Skłodowska Curie Actions Postdoc Fellow, Physics Department, University of Oxford', 'The researchers believe that this method could make solar energy the most sustainable renewable energy source while continuing to drive down costs. Since 2010, the global average price of solar electricity has decreased by about 90%, making it nearly a third less expensive than electricity generated from fossil fuels.', 'As new materials like thin-film perovskite reduce the reliance on silicon panels and specialized solar farms, these innovations promise even greater cost savings in the future.', '“ We can envisage perovskite coatings being applied to broader types of surface to generate cheap solar power, such as the roof of cars and buildings and even the backs of mobile phones. If more solar energy can be generated in this way, we can foresee less need in the longer term to use silicon panels or build more and more solar farms, ” Dr. Wang added.', 'Around 30 experts, including the researchers, are working on photovoltaics under the direction of Oxford University Physics Department Professor of Renewable Energy Henry Snaith. Their groundbreaking work in photovoltaics, which has benefited from a customized robotic laboratory, began about ten years ago. They specialize in the application of thin-film perovskite.', '“ The latest innovations in solar materials and techniques demonstrated in our labs could become a platform for a new industry, manufacturing materials to generate solar energy more sustainably and cheaply by using existing buildings, vehicles, and objects, ” Henry Snaith adds.', 'Their work has already begun to find applications in the construction, utilities, and auto manufacturing sectors, demonstrating its strong commercial potential.', \"Oxford PV, a UK company founded in 2010 by Professor Henry Snaith, the Co-Founder and Chief Scientific Officer, to commercialize perovskite photovoltaics, has recently begun large-scale manufacturing of these solar cells at its factory in Brandenburg-an-der-Havel, near Berlin, Germany. This is the world's first “ perovskite-on-silicon ” tandem solar cell production line.\", 'The latest innovations in solar materials and techniques demonstrated in our labs could become a platform for a new industry, manufacturing materials to generate solar energy more sustainably and cheaply by using existing buildings, vehicles, and objects.', '“ Supplying these materials will be a fast-growth new industry in the global green economy, and we have shown that the UK is innovating and leading the way scientifically. However, without new incentives and a better pathway to convert this innovation into manufacturing, the UK will miss the opportunity to lead this new global industry, ” Professor Snaith added.', 'The Thermo Scientific™ MAX-iAQ™ is a fully automated ambient air monitoring solution with 20 detection points, specifically designed for the accurate detection of trace compounds in environments with high humidity.', 'The LInspector Edge In-line Mass Profilometer is a cutting-edge electrode mass loading inspection machine.', 'Discover IGA Ecosorp from Hiden Isochema: a state-of-the-art analyzer for dynamic gas and vapor sorption analysis.', \"AZoCleantech interviews Carbon Limit's Founder and CEO about the company's mission to reduce one billion tons of CO2 with CaptureCrete, an innovative concrete technology.\", \"Giampiero Frisio of ABB discusses AI's impact on data center sustainability and the integration of renewable energy for efficiency.\", 'In this interview, AZoCleantech talks to Trevor Tilman and Kelly McPartland about carbon capture and storage, analysis of CO2 purity and more.', \"Hi, I 'm Azthena, you can trust me to find commercial scientific answers from AZoNetwork.com.\", 'A few things you need to know before we start. Please read and accept to continue.', 'Azthena may occasionally provide inaccurate responses. Read the full terms.', 'While we only use edited and approved content for Azthena answers, it may on occasions provide incorrect responses. Please confirm any data provided with the related suppliers or authors. We do not provide medical advice, if you search for medical information you must always consult a medical professional before acting on any information provided.', 'Your questions, but not your email details will be shared with OpenAI and retained for 30 days in accordance with their privacy principles.', 'Please do not ask questions that use sensitive or confidential information.']</td>\n",
              "      <td>azocleantech</td>\n",
              "      <td>https://www.azocleantech.com/news.aspx?newsID=35073</td>\n",
              "    </tr>\n",
              "  </tbody>\n",
              "</table>\n",
              "</div>\n",
              "    <div class=\"colab-df-buttons\">\n",
              "\n",
              "  <div class=\"colab-df-container\">\n",
              "    <button class=\"colab-df-convert\" onclick=\"convertToInteractive('df-a7903e5f-ce91-4d39-8f50-0b4811957905')\"\n",
              "            title=\"Convert this dataframe to an interactive table.\"\n",
              "            style=\"display:none;\">\n",
              "\n",
              "  <svg xmlns=\"http://www.w3.org/2000/svg\" height=\"24px\" viewBox=\"0 -960 960 960\">\n",
              "    <path d=\"M120-120v-720h720v720H120Zm60-500h600v-160H180v160Zm220 220h160v-160H400v160Zm0 220h160v-160H400v160ZM180-400h160v-160H180v160Zm440 0h160v-160H620v160ZM180-180h160v-160H180v160Zm440 0h160v-160H620v160Z\"/>\n",
              "  </svg>\n",
              "    </button>\n",
              "\n",
              "  <style>\n",
              "    .colab-df-container {\n",
              "      display:flex;\n",
              "      gap: 12px;\n",
              "    }\n",
              "\n",
              "    .colab-df-convert {\n",
              "      background-color: #E8F0FE;\n",
              "      border: none;\n",
              "      border-radius: 50%;\n",
              "      cursor: pointer;\n",
              "      display: none;\n",
              "      fill: #1967D2;\n",
              "      height: 32px;\n",
              "      padding: 0 0 0 0;\n",
              "      width: 32px;\n",
              "    }\n",
              "\n",
              "    .colab-df-convert:hover {\n",
              "      background-color: #E2EBFA;\n",
              "      box-shadow: 0px 1px 2px rgba(60, 64, 67, 0.3), 0px 1px 3px 1px rgba(60, 64, 67, 0.15);\n",
              "      fill: #174EA6;\n",
              "    }\n",
              "\n",
              "    .colab-df-buttons div {\n",
              "      margin-bottom: 4px;\n",
              "    }\n",
              "\n",
              "    [theme=dark] .colab-df-convert {\n",
              "      background-color: #3B4455;\n",
              "      fill: #D2E3FC;\n",
              "    }\n",
              "\n",
              "    [theme=dark] .colab-df-convert:hover {\n",
              "      background-color: #434B5C;\n",
              "      box-shadow: 0px 1px 3px 1px rgba(0, 0, 0, 0.15);\n",
              "      filter: drop-shadow(0px 1px 2px rgba(0, 0, 0, 0.3));\n",
              "      fill: #FFFFFF;\n",
              "    }\n",
              "  </style>\n",
              "\n",
              "    <script>\n",
              "      const buttonEl =\n",
              "        document.querySelector('#df-a7903e5f-ce91-4d39-8f50-0b4811957905 button.colab-df-convert');\n",
              "      buttonEl.style.display =\n",
              "        google.colab.kernel.accessAllowed ? 'block' : 'none';\n",
              "\n",
              "      async function convertToInteractive(key) {\n",
              "        const element = document.querySelector('#df-a7903e5f-ce91-4d39-8f50-0b4811957905');\n",
              "        const dataTable =\n",
              "          await google.colab.kernel.invokeFunction('convertToInteractive',\n",
              "                                                    [key], {});\n",
              "        if (!dataTable) return;\n",
              "\n",
              "        const docLinkHtml = 'Like what you see? Visit the ' +\n",
              "          '<a target=\"_blank\" href=https://colab.research.google.com/notebooks/data_table.ipynb>data table notebook</a>'\n",
              "          + ' to learn more about interactive tables.';\n",
              "        element.innerHTML = '';\n",
              "        dataTable['output_type'] = 'display_data';\n",
              "        await google.colab.output.renderOutput(dataTable, element);\n",
              "        const docLink = document.createElement('div');\n",
              "        docLink.innerHTML = docLinkHtml;\n",
              "        element.appendChild(docLink);\n",
              "      }\n",
              "    </script>\n",
              "  </div>\n",
              "\n",
              "\n",
              "<div id=\"df-3ecc2667-339d-44ef-b408-e1d7b54c80d9\">\n",
              "  <button class=\"colab-df-quickchart\" onclick=\"quickchart('df-3ecc2667-339d-44ef-b408-e1d7b54c80d9')\"\n",
              "            title=\"Suggest charts\"\n",
              "            style=\"display:none;\">\n",
              "\n",
              "<svg xmlns=\"http://www.w3.org/2000/svg\" height=\"24px\"viewBox=\"0 0 24 24\"\n",
              "     width=\"24px\">\n",
              "    <g>\n",
              "        <path d=\"M19 3H5c-1.1 0-2 .9-2 2v14c0 1.1.9 2 2 2h14c1.1 0 2-.9 2-2V5c0-1.1-.9-2-2-2zM9 17H7v-7h2v7zm4 0h-2V7h2v10zm4 0h-2v-4h2v4z\"/>\n",
              "    </g>\n",
              "</svg>\n",
              "  </button>\n",
              "\n",
              "<style>\n",
              "  .colab-df-quickchart {\n",
              "      --bg-color: #E8F0FE;\n",
              "      --fill-color: #1967D2;\n",
              "      --hover-bg-color: #E2EBFA;\n",
              "      --hover-fill-color: #174EA6;\n",
              "      --disabled-fill-color: #AAA;\n",
              "      --disabled-bg-color: #DDD;\n",
              "  }\n",
              "\n",
              "  [theme=dark] .colab-df-quickchart {\n",
              "      --bg-color: #3B4455;\n",
              "      --fill-color: #D2E3FC;\n",
              "      --hover-bg-color: #434B5C;\n",
              "      --hover-fill-color: #FFFFFF;\n",
              "      --disabled-bg-color: #3B4455;\n",
              "      --disabled-fill-color: #666;\n",
              "  }\n",
              "\n",
              "  .colab-df-quickchart {\n",
              "    background-color: var(--bg-color);\n",
              "    border: none;\n",
              "    border-radius: 50%;\n",
              "    cursor: pointer;\n",
              "    display: none;\n",
              "    fill: var(--fill-color);\n",
              "    height: 32px;\n",
              "    padding: 0;\n",
              "    width: 32px;\n",
              "  }\n",
              "\n",
              "  .colab-df-quickchart:hover {\n",
              "    background-color: var(--hover-bg-color);\n",
              "    box-shadow: 0 1px 2px rgba(60, 64, 67, 0.3), 0 1px 3px 1px rgba(60, 64, 67, 0.15);\n",
              "    fill: var(--button-hover-fill-color);\n",
              "  }\n",
              "\n",
              "  .colab-df-quickchart-complete:disabled,\n",
              "  .colab-df-quickchart-complete:disabled:hover {\n",
              "    background-color: var(--disabled-bg-color);\n",
              "    fill: var(--disabled-fill-color);\n",
              "    box-shadow: none;\n",
              "  }\n",
              "\n",
              "  .colab-df-spinner {\n",
              "    border: 2px solid var(--fill-color);\n",
              "    border-color: transparent;\n",
              "    border-bottom-color: var(--fill-color);\n",
              "    animation:\n",
              "      spin 1s steps(1) infinite;\n",
              "  }\n",
              "\n",
              "  @keyframes spin {\n",
              "    0% {\n",
              "      border-color: transparent;\n",
              "      border-bottom-color: var(--fill-color);\n",
              "      border-left-color: var(--fill-color);\n",
              "    }\n",
              "    20% {\n",
              "      border-color: transparent;\n",
              "      border-left-color: var(--fill-color);\n",
              "      border-top-color: var(--fill-color);\n",
              "    }\n",
              "    30% {\n",
              "      border-color: transparent;\n",
              "      border-left-color: var(--fill-color);\n",
              "      border-top-color: var(--fill-color);\n",
              "      border-right-color: var(--fill-color);\n",
              "    }\n",
              "    40% {\n",
              "      border-color: transparent;\n",
              "      border-right-color: var(--fill-color);\n",
              "      border-top-color: var(--fill-color);\n",
              "    }\n",
              "    60% {\n",
              "      border-color: transparent;\n",
              "      border-right-color: var(--fill-color);\n",
              "    }\n",
              "    80% {\n",
              "      border-color: transparent;\n",
              "      border-right-color: var(--fill-color);\n",
              "      border-bottom-color: var(--fill-color);\n",
              "    }\n",
              "    90% {\n",
              "      border-color: transparent;\n",
              "      border-bottom-color: var(--fill-color);\n",
              "    }\n",
              "  }\n",
              "</style>\n",
              "\n",
              "  <script>\n",
              "    async function quickchart(key) {\n",
              "      const quickchartButtonEl =\n",
              "        document.querySelector('#' + key + ' button');\n",
              "      quickchartButtonEl.disabled = true;  // To prevent multiple clicks.\n",
              "      quickchartButtonEl.classList.add('colab-df-spinner');\n",
              "      try {\n",
              "        const charts = await google.colab.kernel.invokeFunction(\n",
              "            'suggestCharts', [key], {});\n",
              "      } catch (error) {\n",
              "        console.error('Error during call to suggestCharts:', error);\n",
              "      }\n",
              "      quickchartButtonEl.classList.remove('colab-df-spinner');\n",
              "      quickchartButtonEl.classList.add('colab-df-quickchart-complete');\n",
              "    }\n",
              "    (() => {\n",
              "      let quickchartButtonEl =\n",
              "        document.querySelector('#df-3ecc2667-339d-44ef-b408-e1d7b54c80d9 button');\n",
              "      quickchartButtonEl.style.display =\n",
              "        google.colab.kernel.accessAllowed ? 'block' : 'none';\n",
              "    })();\n",
              "  </script>\n",
              "</div>\n",
              "\n",
              "    </div>\n",
              "  </div>\n"
            ],
            "application/vnd.google.colaboratory.intrinsic+json": {
              "type": "dataframe",
              "variable_name": "combined_df",
              "summary": "{\n  \"name\": \"combined_df\",\n  \"rows\": 50,\n  \"fields\": [\n    {\n      \"column\": \"Unnamed: 0.1\",\n      \"properties\": {\n        \"dtype\": \"number\",\n        \"std\": 14,\n        \"min\": 0,\n        \"max\": 49,\n        \"num_unique_values\": 50,\n        \"samples\": [\n          13,\n          39,\n          30\n        ],\n        \"semantic_type\": \"\",\n        \"description\": \"\"\n      }\n    },\n    {\n      \"column\": \"Unnamed: 0\",\n      \"properties\": {\n        \"dtype\": \"number\",\n        \"std\": 29096,\n        \"min\": 21281,\n        \"max\": 101058,\n        \"num_unique_values\": 50,\n        \"samples\": [\n          63344,\n          94927,\n          43492\n        ],\n        \"semantic_type\": \"\",\n        \"description\": \"\"\n      }\n    },\n    {\n      \"column\": \"title\",\n      \"properties\": {\n        \"dtype\": \"string\",\n        \"num_unique_values\": 50,\n        \"samples\": [\n          \"New Jersey Surpasses 4 GW of Solar Installations\",\n          \"Volkswagen EV Sales Growing 50% In 2023\",\n          \"EGL2: Hitachi wins work on major Scotland-England grid link\"\n        ],\n        \"semantic_type\": \"\",\n        \"description\": \"\"\n      }\n    },\n    {\n      \"column\": \"date\",\n      \"properties\": {\n        \"dtype\": \"object\",\n        \"num_unique_values\": 48,\n        \"samples\": [\n          \"2023-02-13\",\n          \"2023-09-05\",\n          \"2022-09-28\"\n        ],\n        \"semantic_type\": \"\",\n        \"description\": \"\"\n      }\n    },\n    {\n      \"column\": \"author\",\n      \"properties\": {\n        \"dtype\": \"number\",\n        \"std\": null,\n        \"min\": null,\n        \"max\": null,\n        \"num_unique_values\": 0,\n        \"samples\": [],\n        \"semantic_type\": \"\",\n        \"description\": \"\"\n      }\n    },\n    {\n      \"column\": \"content\",\n      \"properties\": {\n        \"dtype\": \"string\",\n        \"num_unique_values\": 50,\n        \"samples\": [],\n        \"semantic_type\": \"\",\n        \"description\": \"\"\n      }\n    },\n    {\n      \"column\": \"domain\",\n      \"properties\": {\n        \"dtype\": \"category\",\n        \"num_unique_values\": 5,\n        \"samples\": [],\n        \"semantic_type\": \"\",\n        \"description\": \"\"\n      }\n    },\n    {\n      \"column\": \"url\",\n      \"properties\": {\n        \"dtype\": \"string\",\n        \"num_unique_values\": 50,\n        \"samples\": [],\n        \"semantic_type\": \"\",\n        \"description\": \"\"\n      }\n    }\n  ]\n}"
            }
          },
          "metadata": {},
          "execution_count": 104
        }
      ]
    },
    {
      "cell_type": "markdown",
      "source": [
        "## 3. QA Pair Generation"
      ],
      "metadata": {
        "id": "OHmgSrBVbk3t"
      }
    },
    {
      "cell_type": "markdown",
      "source": [
        "We use the Llama 3.2 Instruct model to generate QA pairs from selected paragraphs. Each generated question and answer is tied to specific cleantech-related content, providing context for later analysis.\n",
        "\n",
        "For the **media dataset**, the QA pairs include:\n",
        "\n",
        "  - **question**: The generated question.\n",
        "  - **relevant_text**: The text (paragraph) used as context.\n",
        "  - **answer**: The generated answer.\n",
        "  - **article_url**: The URL of the source article.\n",
        "\n",
        "For the **patent dataset**, the QA pairs contain additional metadata:\n",
        "\n",
        "  - **question**: The generated question.\n",
        "  - **relevant_text**: The abstract used as context.\n",
        "  - **answer**: The generated answer.\n",
        "  - **title**: The patent title.\n",
        "  - **publication_date**: The patent publication date.\n",
        "  - **inventor**: The inventor(s) associated with the patent.\n",
        "\n",
        "Below is the updated function. It accepts an additional argument `dataset_type`, specifying whether the DataFrame is from the media dataset (\"media\") or from the patent dataset (\"patent\"). Depending on the value, the function appends the appropriate metadata to each QA pair.\n"
      ],
      "metadata": {
        "id": "pIoJ5EfLhVYc"
      }
    },
    {
      "cell_type": "code",
      "source": [
        "from openai import OpenAI\n",
        "import pandas as pd\n",
        "import re\n",
        "\n",
        "def generate_qa_pairs(df, target_qa_pairs=43, dataset_type=\"media\"):\n",
        "    \"\"\"\n",
        "    Generates QA pairs from a given DataFrame using Llama 3.2 Instruct.\n",
        "\n",
        "    Parameters:\n",
        "      df (pd.DataFrame): DataFrame containing the reference texts.\n",
        "         For the media dataset, it is expected to have a 'content' column and 'url'.\n",
        "         For the patent dataset, it is expected to have an 'abstract' column, 'title',\n",
        "         'publication_date', and 'inventor'.\n",
        "      target_qa_pairs (int): The target number of QA pairs to generate.\n",
        "      dataset_type (str): Specifies the dataset type. Use \"media\" for the media dataset,\n",
        "         and \"patent\" for the patent dataset.\n",
        "\n",
        "    Returns:\n",
        "      pd.DataFrame: DataFrame containing the generated QA pairs and the associated metadata.\n",
        "    \"\"\"\n",
        "    qa_pairs = []\n",
        "\n",
        "    for _, row in df.iterrows():\n",
        "        if dataset_type.lower() == \"media\":\n",
        "            context_text = row['content']\n",
        "        elif dataset_type.lower() == \"patent\":\n",
        "            context_text = row['abstract']\n",
        "        else:\n",
        "            raise ValueError(\"dataset_type must be either 'media' or 'patent'.\")\n",
        "\n",
        "        paragraphs = context_text.split(\"\\n\\n\")\n",
        "\n",
        "        for paragraph in paragraphs:\n",
        "            if not paragraph.strip():\n",
        "                continue\n",
        "\n",
        "            prompt = (\n",
        "            \"Using the following text, generate 15 unique and meaningful question–answer pairs.\\n\\n\"\n",
        "            \"Instructions:\\n\"\n",
        "            \"1. Questions should be varied: include what, who, when, where, why, and how as appropriate.\\n\"\n",
        "            \"2. Focus on important details, facts, or concepts mentioned in the text.\\n\"\n",
        "            \"3. Provide clear answers that explain the key idea without being overly brief or too long.\\n\"\n",
        "            \"4. Format each pair as follows:\\n\"\n",
        "            \"Q: [Your question here]\\n\"\n",
        "            \"A: [Your answer here]\\n\\n\"\n",
        "            \"Separate each Q&A pair with a blank line.\\n\\n\"\n",
        "            f\"Text:\\n{paragraph.strip()}\"\n",
        "        )\n",
        "\n",
        "\n",
        "            try:\n",
        "                completion = client.chat.completions.create(\n",
        "                    model=\"meta-llama/llama-3.2-3b-instruct\",\n",
        "                    messages=[{\"role\": \"user\", \"content\": prompt}],\n",
        "                )\n",
        "\n",
        "                response = completion.choices[0].message.content.strip()\n",
        "\n",
        "                # Extract Q&A pairs from the response\n",
        "                qa_text = re.findall(r\"Q:\\s*(.*?)\\s*A:\\s*(.*?)(?=\\nQ:|\\Z)\", response, re.DOTALL)\n",
        "\n",
        "                for question, answer in qa_text:\n",
        "                    if not any(existing[\"question\"] == question for existing in qa_pairs):\n",
        "                        if dataset_type.lower() == \"media\":\n",
        "                            qa_pair = {\n",
        "                                \"question\": question.strip(),\n",
        "                                \"relevant_text\": paragraph.strip(),\n",
        "                                \"answer\": answer.strip(),\n",
        "                                \"article_url\": row.get('url', '')\n",
        "                            }\n",
        "                        else:\n",
        "                            qa_pair = {\n",
        "                                \"question\": question.strip(),\n",
        "                                \"relevant_text\": paragraph.strip(),\n",
        "                                \"answer\": answer.strip(),\n",
        "                                \"title\": row.get('title', ''),\n",
        "                                \"publication_date\": row.get('publication_date', ''),\n",
        "                                \"inventor\": row.get('inventor', '')\n",
        "                            }\n",
        "\n",
        "                        qa_pairs.append(qa_pair)\n",
        "\n",
        "                    if len(qa_pairs) >= target_qa_pairs:\n",
        "                        break\n",
        "\n",
        "            except Exception as e:\n",
        "                print(f\"Error: {e}\")\n",
        "                continue\n",
        "\n",
        "        if len(qa_pairs) >= target_qa_pairs:\n",
        "            break\n",
        "\n",
        "    return pd.DataFrame(qa_pairs)\n"
      ],
      "metadata": {
        "id": "mGWAc3BsanSb"
      },
      "execution_count": 73,
      "outputs": []
    },
    {
      "cell_type": "code",
      "source": [
        "combined_qa_df = generate_qa_pairs(combined_df, target_qa_pairs=800, dataset_type=\"media\")\n",
        "combined_qa_df.to_csv(\"/content/drive/MyDrive/SwissText_SharedTask/combined_media_qa_pairs.csv\", index= False)\n",
        "combined_qa_df.head()"
      ],
      "metadata": {
        "id": "mb3ZP7Z6bH0H"
      },
      "execution_count": null,
      "outputs": []
    },
    {
      "cell_type": "code",
      "source": [
        "combined_qa_df.head(2)"
      ],
      "metadata": {
        "colab": {
          "base_uri": "https://localhost:8080/",
          "height": 1000
        },
        "id": "9N65KFbmRJMv",
        "outputId": "01a1e3ab-7eae-40a8-af8d-75fee6799033"
      },
      "execution_count": 122,
      "outputs": [
        {
          "output_type": "execute_result",
          "data": {
            "text/plain": [
              "                                                                                      question  \\\n",
              "0                                              What is green hydrogen, and how is it produced?   \n",
              "1  Who are some of the key players involved in the development and adoption of green hydrogen?   \n",
              "\n",
              "                                                                                                                                                                                                                                                                                                                                                                                                                                                                                                                                                                                                                                                                                                                                                                                                                                                                                                                                                                                                                                                                                                                                                                                                                                                                                                                                                                                                                                                                                                                                                                                                                                                                                                                                                                                                                                                                                                                                                                                                                                                                                                                                                                                                                                                                                                                                                                                                                                                                                                                                                                                                                                                                                                                                                                                                                                                                                                                                                                                                                                                                                                                                                                                                                                                                                                                                                                                                                                                                                                                                                                                                                                                                                                                                                                                                                                                                                                                                                                                                                                                                                                                                                                                                                                                                                                                                                                                                                                                                                                                                                                                                                                                                                                                                                                                                                                                                                                                                                                                                                                                                                                                                                                                                                                                                                                                                                                                                                                                                                                                                                                                                                                                                                                                                                                                                                                                                                                                                                                                                                                                                                                                                                                                                                                                                                                                                                                                                                                                                                                                                                                                                                                                                                                                                                                                                                                                                                                                                                                                                                                                                                                                                                                                                                                                                                                                                                                                                                                                                                                                                                                                                                                                                                                                                                                                                                                                                                                                                                                                                                                                                                                                                                                                                                                                                                                                                                                                                                                                                                                                                                                                                                                                                                                                                                                                                                                                                                                                                                                                                                                                                                                                                                                                                                                                                                                                                                                                                                                                                                                                                                                                                                                                                                                                                                                                                                                                                                                                                                                                                                                                                                                                                                                                                                                                                                                                                                                                                                                                                                                                                                                                                                                                                                                                                                                                                                                                                                                                                                                                                                                                                                                                                                                                                                                                                                                                                                                                                                                                                                                                                                                                                                                                                                                                                                                                                                                                                                                                                                                                                                                                                                                                                                                                                                                                                                                                                                                                                                                                                                                                                                                                                                                                                                                                                                                                                                                                                                                                                                                                                                                                                                                                                                                                                                                                                                                                                                                                                                                                                                                                                                                                                                                                                                                                                                                                                                                                                                                                                                                                                                                                                                     relevant_text  \\\n",
              "0  As we move toward a sustainable future, green hydrogen is a significant player in the renewable energy landscape. This article discusses how integrating green hydrogen into the grid through strategic partnerships can significantly advance carbon neutrality and energy security. It explores the innovation, infrastructure, and collaborative efforts essential for this transformation, leading toward a cleaner, more resilient energy system. Image Credit: Deemerwha studio/Shutterstock.com Green hydrogen, produced by water electrolysis using renewable energy sources, is at the forefront of the transition to sustainable energy systems. This process ensures that the production of hydrogen, a versatile energy carrier, does not emit carbon dioxide, aligning with global efforts toward carbon neutrality and bolstering energy security. As nations grapple with the urgent need to decarbonize their economies, green hydrogen has garnered significant attention worldwide from government bodies, industries, and environmental organizations. Various international strategies and agreements recognize its potential to serve as a key enabler of the energy transition, reflecting a collective commitment to sustainable, clean energy solutions as a pathway to mitigating climate change and ensuring a resilient energy future ( International Energy Agency, 2020; United Nations Environment Programme, 2021). The advancement of green hydrogen as a sustainable energy source significantly relies on multifaceted partnerships encompassing government, the private sector, and academia. These collaborative efforts are instrumental in overcoming the technological and economic hurdles associated with green hydrogen production and integration. For instance, the Hydrogen Council, a global initiative, exemplifies how over 80 energy, transport, and industrial companies worldwide have united to foster the hydrogen economy through shared investments and technology exchange ( Hydrogen Council, 2020). Government policies and regulatory frameworks also play a vital role in facilitating these partnerships by providing financial incentives and research funding and establishing clear hydrogen production, storage, and distribution standards. The European Union’ s Hydrogen Strategy, launched in 2020, outlines an ambitious roadmap for investments, infrastructure development, and research. It aims to significantly ramp up green hydrogen production by 2030 ( European Commission, 2020). Integrating green hydrogen into the existing energy grid necessitates significant technological innovations and the development of specialized infrastructure. Recent advancements in electrolyzer technology, crucial for green hydrogen production, have improved efficiency and reduced costs. Innovations in renewable energy capture, particularly from solar and wind sources, further bolster the feasibility of green hydrogen as a cost-effective energy solution ( International Renewable Energy Agency, 2022). However, the volatile nature of hydrogen requires the development of specialized storage and transportation infrastructure to handle and distribute it safely. Retrofitting the current energy grids to accommodate hydrogen energy presents a complex challenge, necessitating solutions for compatibility and safety. Strategies include developing hybrid systems that can manage both hydrogen and traditional energy forms, ensuring a smooth transition toward a hydrogen-based energy system ( Energy Transitions Commission, 2021). One notable example of green hydrogen integration is the project in Neom, Saudi Arabia, which, upon completion, will become the world's largest green hydrogen plant. This ambitious project, a partnership between ACWA Power, Air Products, and NEOM, harnesses solar and wind energy to produce up to 650 tons of green hydrogen daily. The project benefits from substantial financial investment, cutting-edge technology, and strong policy support from the Saudi government, aiming to position the kingdom as a leader in green hydrogen production ( Nereim, 2022). In Europe, the HyGreen Provence Project in France exemplifies regional collaboration for green hydrogen production involving ENGIE, the local government, and various technology providers. Scheduled for completion by 2028, the project aims to generate green hydrogen using solar power, highlighting the role of public-private partnerships in advancing the hydrogen economy. This initiative is expected to significantly contribute to France's energy transition efforts, reducing carbon emissions and creating jobs while providing a scalable model for green hydrogen integration across Europe ( ENGIE, 2021). Integrating green hydrogen into the energy grid faces several significant challenges, spanning technical, economic, and regulatory spheres. Technically, the lower energy efficiency of hydrogen production through electrolysis, compared to the direct use of electricity, poses a challenge, as does the need for safe storage and transportation solutions due to hydrogen's highly flammable nature ( Calabrese et al., 2024). Economically, the high initial costs of electrolyzer installations and the hydrogen storage and distribution infrastructure necessitate substantial and sustained investment. Policy and regulatory hurdles can impede its adoption, including the lack of global hydrogen production and use standards. To address these challenges, ongoing research is dedicated to improving electrolyzer efficiency and developing robust safety protocols. Pilot projects are testing hydrogen's viability in various energy systems. At the same time, international cooperation, as seen in the European Union’ s Hydrogen Strategy, seeks to harmonize regulations and encourage investment in green hydrogen technologies ( European Commission, 2020). Companies and academic institutions worldwide are pioneering green hydrogen technology, driving forward the energy sector's transition to sustainability. Siemens Energy and ITM Power exemplify corporate leadership in this field. They collaborate to enhance electrolyzer technology for more efficient hydrogen production. Their efforts aim to scale up production capacities, reduce costs, and make green hydrogen viable for a broader range of applications ( Siemens Energy, 2020). Within academia, the Massachusetts Institute of Technology ( MIT) is at the forefront of green hydrogen research, developing novel methods to improve electrolysis efficiency and exploring innovative materials for hydrogen storage ( O'Neill, 2021). Then, there are startups like H2Pro that are pushing the boundaries with unique electrolysis technology, which promises higher efficiency and lower costs. This showcases the vital role of emerging companies in this sector ( H2Pro, 2021). Universities and industries often collaborate, bridging the gap between research and practical application. These partnerships facilitate technology transfer and provide workforce training, ensuring the next generation is equipped with the skills needed for a green hydrogen economy. Such collaborative efforts are crucial for accelerating the adoption of green hydrogen technologies and integrating them into our energy systems. The transformative potential of green hydrogen and renewable energy partnerships is a positive indicator for the global energy grid. Collaborative efforts across sectors are paramount in surmounting green hydrogen's challenges, emphasizing the need for increased investment, research, and supportive policies. As we advance, the collective endeavor to integrate green hydrogen into our energy systems is not just a pathway to sustainability but a cornerstone for securing a resilient and sustainable energy future for generations to come. Calabrese M, Portarapillo M, Di Nardo A, Venezia V, Turco M, Luciani G, Di Benedetto A. Hydrogen Safety Challenges: A Comprehensive Review on Production, Storage, Transport, Utilization, and CFD-Based Consequence and Risk Assessment. Energies. 2024; 17 ( 6):1350. https: //doi.org/10.3390/en17061350 Energy Transitions Commission. ( 2021). Making Clean Electrification Possible: 30 Years to Electrify the Global Economy. [ Online ] Available at: https: //www.energy-transitions.org/wp-content/uploads/2021/04/ETC-Global-Power-Report-.pdf ( Accessed on 24 March 2024). ENGIE. ( 2021). ENGIE x HyGreen Provence: Building a Green Hydrogen Ecosystem. [ Online ] ENGIE. Available at: https: //www.engie.com/en/business-case/engie-x-hygreen ( Accessed 24 March 2024). European Commission. ( 2020). A hydrogen strategy for a climate-neutral Europe. https: //ec.europa.eu/energy/sites/ener/files/hydrogen strategy.pdf ( Accessed on 24 March 2024). H2Pro. ( 2021). Our technology. [ Online ] H2Pro. Available at: https: //www.h2pro.co/technology ( Accessed 24 March 2024). Hydrogen Council. ( 2020). Path to Hydrogen Competitiveness: A Cost Perspective. [ Online ] Available at: https: //hydrogencouncil.com/wp-content/uploads/2020/01/Path-to-Hydrogen-Competitiveness Full-Study-1.pdf ( Accessed on 24 March 2024). International Energy Agency ( IEA). ( 2020). Energy Technology Perspectives 2020. [ Online ] Available at: https: //www.iea.org/reports/energy-technology-perspectives-2020 ( Accessed on 24 March 2024). International Renewable Energy Agency. ( 2022). Geopolitics of the Energy Transformation. [ Online ] Available at: https: //www.irena.org/Digital-Report/Geopolitics-of-the-Energy-Transformation ( Accessed on 24 March 2024). Nereim, V. ( 2022). Saudi Arabia to Start Building Green Hydrogen Plant in Neom. [ Online ] Bloomberg. Available at: https: //www.bloomberg.com/news/articles/2022-03-17/saudi-arabia-to-start-building-green-hydrogen-plant-in-neom ( Accessed on 24 March 2024). O'Neill, K. M. ( 2021). MITEI researchers build supply chain model to support hydrogen economy. [ Online ] MIT News. Available at: https: //news.mit.edu/2021/mitei-researchers-build-supply-chain-model-support-hydrogen-economy-0608 ( Accessed on 24 March 2024). Siemens Energy. ( 2020). Hydrogen solutions. [ Online ] Siemens Energy. Available at: https: //www.siemens-energy.com/global/en/home/products-services/product-offerings/hydrogen-solutions.html ( Accessed 24 March 2024). United Nations Environment Programme ( UNEP). ( 2021). UNEP Annual Report 2021. [ Online ] Available at: https: //www.unep.org/annualreport/2021/ ( Accessed on 24 March 2024). Disclaimer: The views expressed here are those of the author expressed in their private capacity and do not necessarily represent the views of AZoM.com Limited T/A AZoNetwork the owner and operator of this website. This disclaimer forms part of the Terms and conditions of use of this website. Rachael Jones, a freelance writer with an MSc in Earth Science and a PGDip in Environmental Management, merges her extensive academic background with years of publishing and editing experience. Focused on digital marketing within the science and technology sectors, Rachael excels in creating compelling narratives that connect intricate scientific ideas with a wider online audience. Jones, Rachael. ( 2024, May 01). Renewable Energy Partnerships: Integrating Green Hydrogen into the Grid. AZoCleantech. Retrieved on May 07, 2024 from https: //www.azocleantech.com/article.aspx? ArticleID=1823. Jones, Rachael. `` Renewable Energy Partnerships: Integrating Green Hydrogen into the Grid ''. AZoCleantech. 07 May 2024. < https: //www.azocleantech.com/article.aspx? ArticleID=1823 >. Jones, Rachael. `` Renewable Energy Partnerships: Integrating Green Hydrogen into the Grid ''. AZoCleantech. https: //www.azocleantech.com/article.aspx? ArticleID=1823. ( accessed May 07, 2024). Jones, Rachael. 2024. Renewable Energy Partnerships: Integrating Green Hydrogen into the Grid. AZoCleantech, viewed 07 May 2024, https: //www.azocleantech.com/article.aspx? ArticleID=1823. This product profile summarizes the MAX-iR FTIR Gas Analyzer from Thermo Fisher Scientific. The FT4 Powder Rheometer is a universal powder flow tester for measuring powder flow properties and powder behavior. The GeoPyc 1365 measured the envelope density of formed pieces without the use of hazardous materials. Laurence Molke, CEO of CycleØ, discusses the company's role in sustainable biomethane production and advancing decarbonization efforts. In this interview, Ieda Gomes Yell discusses the Isle of Man's Innovation Challenge and how it is fostering cleantech, AI, and FinTech solutions for sustainability and net-zero goals. This interview explores the intersection of policy, innovation, and commercialization within the UK's cleantech sector, with a focus on the initiatives and strategies being pursued by Cleantech for UK under Sarah Mackintosh's leadership. Hi, I 'm Azthena, you can trust me to find commercial scientific answers from AZoNetwork.com. A few things you need to know before we start. Please read and accept to continue. Azthena may occasionally provide inaccurate responses. Read the full terms. While we only use edited and approved content for Azthena answers, it may on occasions provide incorrect responses. Please confirm any data provided with the related suppliers or authors. We do not provide medical advice, if you search for medical information you must always consult a medical professional before acting on any information provided. Your questions, but not your email details will be shared with OpenAI and retained for 30 days in accordance with their privacy principles. Please do not ask questions that use sensitive or confidential information.   \n",
              "1  As we move toward a sustainable future, green hydrogen is a significant player in the renewable energy landscape. This article discusses how integrating green hydrogen into the grid through strategic partnerships can significantly advance carbon neutrality and energy security. It explores the innovation, infrastructure, and collaborative efforts essential for this transformation, leading toward a cleaner, more resilient energy system. Image Credit: Deemerwha studio/Shutterstock.com Green hydrogen, produced by water electrolysis using renewable energy sources, is at the forefront of the transition to sustainable energy systems. This process ensures that the production of hydrogen, a versatile energy carrier, does not emit carbon dioxide, aligning with global efforts toward carbon neutrality and bolstering energy security. As nations grapple with the urgent need to decarbonize their economies, green hydrogen has garnered significant attention worldwide from government bodies, industries, and environmental organizations. Various international strategies and agreements recognize its potential to serve as a key enabler of the energy transition, reflecting a collective commitment to sustainable, clean energy solutions as a pathway to mitigating climate change and ensuring a resilient energy future ( International Energy Agency, 2020; United Nations Environment Programme, 2021). The advancement of green hydrogen as a sustainable energy source significantly relies on multifaceted partnerships encompassing government, the private sector, and academia. These collaborative efforts are instrumental in overcoming the technological and economic hurdles associated with green hydrogen production and integration. For instance, the Hydrogen Council, a global initiative, exemplifies how over 80 energy, transport, and industrial companies worldwide have united to foster the hydrogen economy through shared investments and technology exchange ( Hydrogen Council, 2020). Government policies and regulatory frameworks also play a vital role in facilitating these partnerships by providing financial incentives and research funding and establishing clear hydrogen production, storage, and distribution standards. The European Union’ s Hydrogen Strategy, launched in 2020, outlines an ambitious roadmap for investments, infrastructure development, and research. It aims to significantly ramp up green hydrogen production by 2030 ( European Commission, 2020). Integrating green hydrogen into the existing energy grid necessitates significant technological innovations and the development of specialized infrastructure. Recent advancements in electrolyzer technology, crucial for green hydrogen production, have improved efficiency and reduced costs. Innovations in renewable energy capture, particularly from solar and wind sources, further bolster the feasibility of green hydrogen as a cost-effective energy solution ( International Renewable Energy Agency, 2022). However, the volatile nature of hydrogen requires the development of specialized storage and transportation infrastructure to handle and distribute it safely. Retrofitting the current energy grids to accommodate hydrogen energy presents a complex challenge, necessitating solutions for compatibility and safety. Strategies include developing hybrid systems that can manage both hydrogen and traditional energy forms, ensuring a smooth transition toward a hydrogen-based energy system ( Energy Transitions Commission, 2021). One notable example of green hydrogen integration is the project in Neom, Saudi Arabia, which, upon completion, will become the world's largest green hydrogen plant. This ambitious project, a partnership between ACWA Power, Air Products, and NEOM, harnesses solar and wind energy to produce up to 650 tons of green hydrogen daily. The project benefits from substantial financial investment, cutting-edge technology, and strong policy support from the Saudi government, aiming to position the kingdom as a leader in green hydrogen production ( Nereim, 2022). In Europe, the HyGreen Provence Project in France exemplifies regional collaboration for green hydrogen production involving ENGIE, the local government, and various technology providers. Scheduled for completion by 2028, the project aims to generate green hydrogen using solar power, highlighting the role of public-private partnerships in advancing the hydrogen economy. This initiative is expected to significantly contribute to France's energy transition efforts, reducing carbon emissions and creating jobs while providing a scalable model for green hydrogen integration across Europe ( ENGIE, 2021). Integrating green hydrogen into the energy grid faces several significant challenges, spanning technical, economic, and regulatory spheres. Technically, the lower energy efficiency of hydrogen production through electrolysis, compared to the direct use of electricity, poses a challenge, as does the need for safe storage and transportation solutions due to hydrogen's highly flammable nature ( Calabrese et al., 2024). Economically, the high initial costs of electrolyzer installations and the hydrogen storage and distribution infrastructure necessitate substantial and sustained investment. Policy and regulatory hurdles can impede its adoption, including the lack of global hydrogen production and use standards. To address these challenges, ongoing research is dedicated to improving electrolyzer efficiency and developing robust safety protocols. Pilot projects are testing hydrogen's viability in various energy systems. At the same time, international cooperation, as seen in the European Union’ s Hydrogen Strategy, seeks to harmonize regulations and encourage investment in green hydrogen technologies ( European Commission, 2020). Companies and academic institutions worldwide are pioneering green hydrogen technology, driving forward the energy sector's transition to sustainability. Siemens Energy and ITM Power exemplify corporate leadership in this field. They collaborate to enhance electrolyzer technology for more efficient hydrogen production. Their efforts aim to scale up production capacities, reduce costs, and make green hydrogen viable for a broader range of applications ( Siemens Energy, 2020). Within academia, the Massachusetts Institute of Technology ( MIT) is at the forefront of green hydrogen research, developing novel methods to improve electrolysis efficiency and exploring innovative materials for hydrogen storage ( O'Neill, 2021). Then, there are startups like H2Pro that are pushing the boundaries with unique electrolysis technology, which promises higher efficiency and lower costs. This showcases the vital role of emerging companies in this sector ( H2Pro, 2021). Universities and industries often collaborate, bridging the gap between research and practical application. These partnerships facilitate technology transfer and provide workforce training, ensuring the next generation is equipped with the skills needed for a green hydrogen economy. Such collaborative efforts are crucial for accelerating the adoption of green hydrogen technologies and integrating them into our energy systems. The transformative potential of green hydrogen and renewable energy partnerships is a positive indicator for the global energy grid. Collaborative efforts across sectors are paramount in surmounting green hydrogen's challenges, emphasizing the need for increased investment, research, and supportive policies. As we advance, the collective endeavor to integrate green hydrogen into our energy systems is not just a pathway to sustainability but a cornerstone for securing a resilient and sustainable energy future for generations to come. Calabrese M, Portarapillo M, Di Nardo A, Venezia V, Turco M, Luciani G, Di Benedetto A. Hydrogen Safety Challenges: A Comprehensive Review on Production, Storage, Transport, Utilization, and CFD-Based Consequence and Risk Assessment. Energies. 2024; 17 ( 6):1350. https: //doi.org/10.3390/en17061350 Energy Transitions Commission. ( 2021). Making Clean Electrification Possible: 30 Years to Electrify the Global Economy. [ Online ] Available at: https: //www.energy-transitions.org/wp-content/uploads/2021/04/ETC-Global-Power-Report-.pdf ( Accessed on 24 March 2024). ENGIE. ( 2021). ENGIE x HyGreen Provence: Building a Green Hydrogen Ecosystem. [ Online ] ENGIE. Available at: https: //www.engie.com/en/business-case/engie-x-hygreen ( Accessed 24 March 2024). European Commission. ( 2020). A hydrogen strategy for a climate-neutral Europe. https: //ec.europa.eu/energy/sites/ener/files/hydrogen strategy.pdf ( Accessed on 24 March 2024). H2Pro. ( 2021). Our technology. [ Online ] H2Pro. Available at: https: //www.h2pro.co/technology ( Accessed 24 March 2024). Hydrogen Council. ( 2020). Path to Hydrogen Competitiveness: A Cost Perspective. [ Online ] Available at: https: //hydrogencouncil.com/wp-content/uploads/2020/01/Path-to-Hydrogen-Competitiveness Full-Study-1.pdf ( Accessed on 24 March 2024). International Energy Agency ( IEA). ( 2020). Energy Technology Perspectives 2020. [ Online ] Available at: https: //www.iea.org/reports/energy-technology-perspectives-2020 ( Accessed on 24 March 2024). International Renewable Energy Agency. ( 2022). Geopolitics of the Energy Transformation. [ Online ] Available at: https: //www.irena.org/Digital-Report/Geopolitics-of-the-Energy-Transformation ( Accessed on 24 March 2024). Nereim, V. ( 2022). Saudi Arabia to Start Building Green Hydrogen Plant in Neom. [ Online ] Bloomberg. Available at: https: //www.bloomberg.com/news/articles/2022-03-17/saudi-arabia-to-start-building-green-hydrogen-plant-in-neom ( Accessed on 24 March 2024). O'Neill, K. M. ( 2021). MITEI researchers build supply chain model to support hydrogen economy. [ Online ] MIT News. Available at: https: //news.mit.edu/2021/mitei-researchers-build-supply-chain-model-support-hydrogen-economy-0608 ( Accessed on 24 March 2024). Siemens Energy. ( 2020). Hydrogen solutions. [ Online ] Siemens Energy. Available at: https: //www.siemens-energy.com/global/en/home/products-services/product-offerings/hydrogen-solutions.html ( Accessed 24 March 2024). United Nations Environment Programme ( UNEP). ( 2021). UNEP Annual Report 2021. [ Online ] Available at: https: //www.unep.org/annualreport/2021/ ( Accessed on 24 March 2024). Disclaimer: The views expressed here are those of the author expressed in their private capacity and do not necessarily represent the views of AZoM.com Limited T/A AZoNetwork the owner and operator of this website. This disclaimer forms part of the Terms and conditions of use of this website. Rachael Jones, a freelance writer with an MSc in Earth Science and a PGDip in Environmental Management, merges her extensive academic background with years of publishing and editing experience. Focused on digital marketing within the science and technology sectors, Rachael excels in creating compelling narratives that connect intricate scientific ideas with a wider online audience. Jones, Rachael. ( 2024, May 01). Renewable Energy Partnerships: Integrating Green Hydrogen into the Grid. AZoCleantech. Retrieved on May 07, 2024 from https: //www.azocleantech.com/article.aspx? ArticleID=1823. Jones, Rachael. `` Renewable Energy Partnerships: Integrating Green Hydrogen into the Grid ''. AZoCleantech. 07 May 2024. < https: //www.azocleantech.com/article.aspx? ArticleID=1823 >. Jones, Rachael. `` Renewable Energy Partnerships: Integrating Green Hydrogen into the Grid ''. AZoCleantech. https: //www.azocleantech.com/article.aspx? ArticleID=1823. ( accessed May 07, 2024). Jones, Rachael. 2024. Renewable Energy Partnerships: Integrating Green Hydrogen into the Grid. AZoCleantech, viewed 07 May 2024, https: //www.azocleantech.com/article.aspx? ArticleID=1823. This product profile summarizes the MAX-iR FTIR Gas Analyzer from Thermo Fisher Scientific. The FT4 Powder Rheometer is a universal powder flow tester for measuring powder flow properties and powder behavior. The GeoPyc 1365 measured the envelope density of formed pieces without the use of hazardous materials. Laurence Molke, CEO of CycleØ, discusses the company's role in sustainable biomethane production and advancing decarbonization efforts. In this interview, Ieda Gomes Yell discusses the Isle of Man's Innovation Challenge and how it is fostering cleantech, AI, and FinTech solutions for sustainability and net-zero goals. This interview explores the intersection of policy, innovation, and commercialization within the UK's cleantech sector, with a focus on the initiatives and strategies being pursued by Cleantech for UK under Sarah Mackintosh's leadership. Hi, I 'm Azthena, you can trust me to find commercial scientific answers from AZoNetwork.com. A few things you need to know before we start. Please read and accept to continue. Azthena may occasionally provide inaccurate responses. Read the full terms. While we only use edited and approved content for Azthena answers, it may on occasions provide incorrect responses. Please confirm any data provided with the related suppliers or authors. We do not provide medical advice, if you search for medical information you must always consult a medical professional before acting on any information provided. Your questions, but not your email details will be shared with OpenAI and retained for 30 days in accordance with their privacy principles. Please do not ask questions that use sensitive or confidential information.   \n",
              "\n",
              "                                                                                                                                                                                                              answer  \\\n",
              "0                           Green hydrogen is a sustainable energy carrier produced by water electrolysis using renewable energy sources, making it a carbon-neutral alternative to traditional hydrogen production.   \n",
              "1  Key players include companies like Siemens Energy, ITM Power, and H2Pro, as well as academia and governments, such as the European Union, which are collaborating to advance the technology and its applications.   \n",
              "\n",
              "                                                article_url  \n",
              "0  https://www.azocleantech.com/article.aspx?ArticleID=1823  \n",
              "1  https://www.azocleantech.com/article.aspx?ArticleID=1823  "
            ],
            "text/html": [
              "\n",
              "  <div id=\"df-f42a7ed4-3c45-4ad1-a2b9-e8f5f01c520f\" class=\"colab-df-container\">\n",
              "    <div>\n",
              "<style scoped>\n",
              "    .dataframe tbody tr th:only-of-type {\n",
              "        vertical-align: middle;\n",
              "    }\n",
              "\n",
              "    .dataframe tbody tr th {\n",
              "        vertical-align: top;\n",
              "    }\n",
              "\n",
              "    .dataframe thead th {\n",
              "        text-align: right;\n",
              "    }\n",
              "</style>\n",
              "<table border=\"1\" class=\"dataframe\">\n",
              "  <thead>\n",
              "    <tr style=\"text-align: right;\">\n",
              "      <th></th>\n",
              "      <th>question</th>\n",
              "      <th>relevant_text</th>\n",
              "      <th>answer</th>\n",
              "      <th>article_url</th>\n",
              "    </tr>\n",
              "  </thead>\n",
              "  <tbody>\n",
              "    <tr>\n",
              "      <th>0</th>\n",
              "      <td>What is green hydrogen, and how is it produced?</td>\n",
              "      <td>As we move toward a sustainable future, green hydrogen is a significant player in the renewable energy landscape. This article discusses how integrating green hydrogen into the grid through strategic partnerships can significantly advance carbon neutrality and energy security. It explores the innovation, infrastructure, and collaborative efforts essential for this transformation, leading toward a cleaner, more resilient energy system. Image Credit: Deemerwha studio/Shutterstock.com Green hydrogen, produced by water electrolysis using renewable energy sources, is at the forefront of the transition to sustainable energy systems. This process ensures that the production of hydrogen, a versatile energy carrier, does not emit carbon dioxide, aligning with global efforts toward carbon neutrality and bolstering energy security. As nations grapple with the urgent need to decarbonize their economies, green hydrogen has garnered significant attention worldwide from government bodies, industries, and environmental organizations. Various international strategies and agreements recognize its potential to serve as a key enabler of the energy transition, reflecting a collective commitment to sustainable, clean energy solutions as a pathway to mitigating climate change and ensuring a resilient energy future ( International Energy Agency, 2020; United Nations Environment Programme, 2021). The advancement of green hydrogen as a sustainable energy source significantly relies on multifaceted partnerships encompassing government, the private sector, and academia. These collaborative efforts are instrumental in overcoming the technological and economic hurdles associated with green hydrogen production and integration. For instance, the Hydrogen Council, a global initiative, exemplifies how over 80 energy, transport, and industrial companies worldwide have united to foster the hydrogen economy through shared investments and technology exchange ( Hydrogen Council, 2020). Government policies and regulatory frameworks also play a vital role in facilitating these partnerships by providing financial incentives and research funding and establishing clear hydrogen production, storage, and distribution standards. The European Union’ s Hydrogen Strategy, launched in 2020, outlines an ambitious roadmap for investments, infrastructure development, and research. It aims to significantly ramp up green hydrogen production by 2030 ( European Commission, 2020). Integrating green hydrogen into the existing energy grid necessitates significant technological innovations and the development of specialized infrastructure. Recent advancements in electrolyzer technology, crucial for green hydrogen production, have improved efficiency and reduced costs. Innovations in renewable energy capture, particularly from solar and wind sources, further bolster the feasibility of green hydrogen as a cost-effective energy solution ( International Renewable Energy Agency, 2022). However, the volatile nature of hydrogen requires the development of specialized storage and transportation infrastructure to handle and distribute it safely. Retrofitting the current energy grids to accommodate hydrogen energy presents a complex challenge, necessitating solutions for compatibility and safety. Strategies include developing hybrid systems that can manage both hydrogen and traditional energy forms, ensuring a smooth transition toward a hydrogen-based energy system ( Energy Transitions Commission, 2021). One notable example of green hydrogen integration is the project in Neom, Saudi Arabia, which, upon completion, will become the world's largest green hydrogen plant. This ambitious project, a partnership between ACWA Power, Air Products, and NEOM, harnesses solar and wind energy to produce up to 650 tons of green hydrogen daily. The project benefits from substantial financial investment, cutting-edge technology, and strong policy support from the Saudi government, aiming to position the kingdom as a leader in green hydrogen production ( Nereim, 2022). In Europe, the HyGreen Provence Project in France exemplifies regional collaboration for green hydrogen production involving ENGIE, the local government, and various technology providers. Scheduled for completion by 2028, the project aims to generate green hydrogen using solar power, highlighting the role of public-private partnerships in advancing the hydrogen economy. This initiative is expected to significantly contribute to France's energy transition efforts, reducing carbon emissions and creating jobs while providing a scalable model for green hydrogen integration across Europe ( ENGIE, 2021). Integrating green hydrogen into the energy grid faces several significant challenges, spanning technical, economic, and regulatory spheres. Technically, the lower energy efficiency of hydrogen production through electrolysis, compared to the direct use of electricity, poses a challenge, as does the need for safe storage and transportation solutions due to hydrogen's highly flammable nature ( Calabrese et al., 2024). Economically, the high initial costs of electrolyzer installations and the hydrogen storage and distribution infrastructure necessitate substantial and sustained investment. Policy and regulatory hurdles can impede its adoption, including the lack of global hydrogen production and use standards. To address these challenges, ongoing research is dedicated to improving electrolyzer efficiency and developing robust safety protocols. Pilot projects are testing hydrogen's viability in various energy systems. At the same time, international cooperation, as seen in the European Union’ s Hydrogen Strategy, seeks to harmonize regulations and encourage investment in green hydrogen technologies ( European Commission, 2020). Companies and academic institutions worldwide are pioneering green hydrogen technology, driving forward the energy sector's transition to sustainability. Siemens Energy and ITM Power exemplify corporate leadership in this field. They collaborate to enhance electrolyzer technology for more efficient hydrogen production. Their efforts aim to scale up production capacities, reduce costs, and make green hydrogen viable for a broader range of applications ( Siemens Energy, 2020). Within academia, the Massachusetts Institute of Technology ( MIT) is at the forefront of green hydrogen research, developing novel methods to improve electrolysis efficiency and exploring innovative materials for hydrogen storage ( O'Neill, 2021). Then, there are startups like H2Pro that are pushing the boundaries with unique electrolysis technology, which promises higher efficiency and lower costs. This showcases the vital role of emerging companies in this sector ( H2Pro, 2021). Universities and industries often collaborate, bridging the gap between research and practical application. These partnerships facilitate technology transfer and provide workforce training, ensuring the next generation is equipped with the skills needed for a green hydrogen economy. Such collaborative efforts are crucial for accelerating the adoption of green hydrogen technologies and integrating them into our energy systems. The transformative potential of green hydrogen and renewable energy partnerships is a positive indicator for the global energy grid. Collaborative efforts across sectors are paramount in surmounting green hydrogen's challenges, emphasizing the need for increased investment, research, and supportive policies. As we advance, the collective endeavor to integrate green hydrogen into our energy systems is not just a pathway to sustainability but a cornerstone for securing a resilient and sustainable energy future for generations to come. Calabrese M, Portarapillo M, Di Nardo A, Venezia V, Turco M, Luciani G, Di Benedetto A. Hydrogen Safety Challenges: A Comprehensive Review on Production, Storage, Transport, Utilization, and CFD-Based Consequence and Risk Assessment. Energies. 2024; 17 ( 6):1350. https: //doi.org/10.3390/en17061350 Energy Transitions Commission. ( 2021). Making Clean Electrification Possible: 30 Years to Electrify the Global Economy. [ Online ] Available at: https: //www.energy-transitions.org/wp-content/uploads/2021/04/ETC-Global-Power-Report-.pdf ( Accessed on 24 March 2024). ENGIE. ( 2021). ENGIE x HyGreen Provence: Building a Green Hydrogen Ecosystem. [ Online ] ENGIE. Available at: https: //www.engie.com/en/business-case/engie-x-hygreen ( Accessed 24 March 2024). European Commission. ( 2020). A hydrogen strategy for a climate-neutral Europe. https: //ec.europa.eu/energy/sites/ener/files/hydrogen strategy.pdf ( Accessed on 24 March 2024). H2Pro. ( 2021). Our technology. [ Online ] H2Pro. Available at: https: //www.h2pro.co/technology ( Accessed 24 March 2024). Hydrogen Council. ( 2020). Path to Hydrogen Competitiveness: A Cost Perspective. [ Online ] Available at: https: //hydrogencouncil.com/wp-content/uploads/2020/01/Path-to-Hydrogen-Competitiveness Full-Study-1.pdf ( Accessed on 24 March 2024). International Energy Agency ( IEA). ( 2020). Energy Technology Perspectives 2020. [ Online ] Available at: https: //www.iea.org/reports/energy-technology-perspectives-2020 ( Accessed on 24 March 2024). International Renewable Energy Agency. ( 2022). Geopolitics of the Energy Transformation. [ Online ] Available at: https: //www.irena.org/Digital-Report/Geopolitics-of-the-Energy-Transformation ( Accessed on 24 March 2024). Nereim, V. ( 2022). Saudi Arabia to Start Building Green Hydrogen Plant in Neom. [ Online ] Bloomberg. Available at: https: //www.bloomberg.com/news/articles/2022-03-17/saudi-arabia-to-start-building-green-hydrogen-plant-in-neom ( Accessed on 24 March 2024). O'Neill, K. M. ( 2021). MITEI researchers build supply chain model to support hydrogen economy. [ Online ] MIT News. Available at: https: //news.mit.edu/2021/mitei-researchers-build-supply-chain-model-support-hydrogen-economy-0608 ( Accessed on 24 March 2024). Siemens Energy. ( 2020). Hydrogen solutions. [ Online ] Siemens Energy. Available at: https: //www.siemens-energy.com/global/en/home/products-services/product-offerings/hydrogen-solutions.html ( Accessed 24 March 2024). United Nations Environment Programme ( UNEP). ( 2021). UNEP Annual Report 2021. [ Online ] Available at: https: //www.unep.org/annualreport/2021/ ( Accessed on 24 March 2024). Disclaimer: The views expressed here are those of the author expressed in their private capacity and do not necessarily represent the views of AZoM.com Limited T/A AZoNetwork the owner and operator of this website. This disclaimer forms part of the Terms and conditions of use of this website. Rachael Jones, a freelance writer with an MSc in Earth Science and a PGDip in Environmental Management, merges her extensive academic background with years of publishing and editing experience. Focused on digital marketing within the science and technology sectors, Rachael excels in creating compelling narratives that connect intricate scientific ideas with a wider online audience. Jones, Rachael. ( 2024, May 01). Renewable Energy Partnerships: Integrating Green Hydrogen into the Grid. AZoCleantech. Retrieved on May 07, 2024 from https: //www.azocleantech.com/article.aspx? ArticleID=1823. Jones, Rachael. `` Renewable Energy Partnerships: Integrating Green Hydrogen into the Grid ''. AZoCleantech. 07 May 2024. &lt; https: //www.azocleantech.com/article.aspx? ArticleID=1823 &gt;. Jones, Rachael. `` Renewable Energy Partnerships: Integrating Green Hydrogen into the Grid ''. AZoCleantech. https: //www.azocleantech.com/article.aspx? ArticleID=1823. ( accessed May 07, 2024). Jones, Rachael. 2024. Renewable Energy Partnerships: Integrating Green Hydrogen into the Grid. AZoCleantech, viewed 07 May 2024, https: //www.azocleantech.com/article.aspx? ArticleID=1823. This product profile summarizes the MAX-iR FTIR Gas Analyzer from Thermo Fisher Scientific. The FT4 Powder Rheometer is a universal powder flow tester for measuring powder flow properties and powder behavior. The GeoPyc 1365 measured the envelope density of formed pieces without the use of hazardous materials. Laurence Molke, CEO of CycleØ, discusses the company's role in sustainable biomethane production and advancing decarbonization efforts. In this interview, Ieda Gomes Yell discusses the Isle of Man's Innovation Challenge and how it is fostering cleantech, AI, and FinTech solutions for sustainability and net-zero goals. This interview explores the intersection of policy, innovation, and commercialization within the UK's cleantech sector, with a focus on the initiatives and strategies being pursued by Cleantech for UK under Sarah Mackintosh's leadership. Hi, I 'm Azthena, you can trust me to find commercial scientific answers from AZoNetwork.com. A few things you need to know before we start. Please read and accept to continue. Azthena may occasionally provide inaccurate responses. Read the full terms. While we only use edited and approved content for Azthena answers, it may on occasions provide incorrect responses. Please confirm any data provided with the related suppliers or authors. We do not provide medical advice, if you search for medical information you must always consult a medical professional before acting on any information provided. Your questions, but not your email details will be shared with OpenAI and retained for 30 days in accordance with their privacy principles. Please do not ask questions that use sensitive or confidential information.</td>\n",
              "      <td>Green hydrogen is a sustainable energy carrier produced by water electrolysis using renewable energy sources, making it a carbon-neutral alternative to traditional hydrogen production.</td>\n",
              "      <td>https://www.azocleantech.com/article.aspx?ArticleID=1823</td>\n",
              "    </tr>\n",
              "    <tr>\n",
              "      <th>1</th>\n",
              "      <td>Who are some of the key players involved in the development and adoption of green hydrogen?</td>\n",
              "      <td>As we move toward a sustainable future, green hydrogen is a significant player in the renewable energy landscape. This article discusses how integrating green hydrogen into the grid through strategic partnerships can significantly advance carbon neutrality and energy security. It explores the innovation, infrastructure, and collaborative efforts essential for this transformation, leading toward a cleaner, more resilient energy system. Image Credit: Deemerwha studio/Shutterstock.com Green hydrogen, produced by water electrolysis using renewable energy sources, is at the forefront of the transition to sustainable energy systems. This process ensures that the production of hydrogen, a versatile energy carrier, does not emit carbon dioxide, aligning with global efforts toward carbon neutrality and bolstering energy security. As nations grapple with the urgent need to decarbonize their economies, green hydrogen has garnered significant attention worldwide from government bodies, industries, and environmental organizations. Various international strategies and agreements recognize its potential to serve as a key enabler of the energy transition, reflecting a collective commitment to sustainable, clean energy solutions as a pathway to mitigating climate change and ensuring a resilient energy future ( International Energy Agency, 2020; United Nations Environment Programme, 2021). The advancement of green hydrogen as a sustainable energy source significantly relies on multifaceted partnerships encompassing government, the private sector, and academia. These collaborative efforts are instrumental in overcoming the technological and economic hurdles associated with green hydrogen production and integration. For instance, the Hydrogen Council, a global initiative, exemplifies how over 80 energy, transport, and industrial companies worldwide have united to foster the hydrogen economy through shared investments and technology exchange ( Hydrogen Council, 2020). Government policies and regulatory frameworks also play a vital role in facilitating these partnerships by providing financial incentives and research funding and establishing clear hydrogen production, storage, and distribution standards. The European Union’ s Hydrogen Strategy, launched in 2020, outlines an ambitious roadmap for investments, infrastructure development, and research. It aims to significantly ramp up green hydrogen production by 2030 ( European Commission, 2020). Integrating green hydrogen into the existing energy grid necessitates significant technological innovations and the development of specialized infrastructure. Recent advancements in electrolyzer technology, crucial for green hydrogen production, have improved efficiency and reduced costs. Innovations in renewable energy capture, particularly from solar and wind sources, further bolster the feasibility of green hydrogen as a cost-effective energy solution ( International Renewable Energy Agency, 2022). However, the volatile nature of hydrogen requires the development of specialized storage and transportation infrastructure to handle and distribute it safely. Retrofitting the current energy grids to accommodate hydrogen energy presents a complex challenge, necessitating solutions for compatibility and safety. Strategies include developing hybrid systems that can manage both hydrogen and traditional energy forms, ensuring a smooth transition toward a hydrogen-based energy system ( Energy Transitions Commission, 2021). One notable example of green hydrogen integration is the project in Neom, Saudi Arabia, which, upon completion, will become the world's largest green hydrogen plant. This ambitious project, a partnership between ACWA Power, Air Products, and NEOM, harnesses solar and wind energy to produce up to 650 tons of green hydrogen daily. The project benefits from substantial financial investment, cutting-edge technology, and strong policy support from the Saudi government, aiming to position the kingdom as a leader in green hydrogen production ( Nereim, 2022). In Europe, the HyGreen Provence Project in France exemplifies regional collaboration for green hydrogen production involving ENGIE, the local government, and various technology providers. Scheduled for completion by 2028, the project aims to generate green hydrogen using solar power, highlighting the role of public-private partnerships in advancing the hydrogen economy. This initiative is expected to significantly contribute to France's energy transition efforts, reducing carbon emissions and creating jobs while providing a scalable model for green hydrogen integration across Europe ( ENGIE, 2021). Integrating green hydrogen into the energy grid faces several significant challenges, spanning technical, economic, and regulatory spheres. Technically, the lower energy efficiency of hydrogen production through electrolysis, compared to the direct use of electricity, poses a challenge, as does the need for safe storage and transportation solutions due to hydrogen's highly flammable nature ( Calabrese et al., 2024). Economically, the high initial costs of electrolyzer installations and the hydrogen storage and distribution infrastructure necessitate substantial and sustained investment. Policy and regulatory hurdles can impede its adoption, including the lack of global hydrogen production and use standards. To address these challenges, ongoing research is dedicated to improving electrolyzer efficiency and developing robust safety protocols. Pilot projects are testing hydrogen's viability in various energy systems. At the same time, international cooperation, as seen in the European Union’ s Hydrogen Strategy, seeks to harmonize regulations and encourage investment in green hydrogen technologies ( European Commission, 2020). Companies and academic institutions worldwide are pioneering green hydrogen technology, driving forward the energy sector's transition to sustainability. Siemens Energy and ITM Power exemplify corporate leadership in this field. They collaborate to enhance electrolyzer technology for more efficient hydrogen production. Their efforts aim to scale up production capacities, reduce costs, and make green hydrogen viable for a broader range of applications ( Siemens Energy, 2020). Within academia, the Massachusetts Institute of Technology ( MIT) is at the forefront of green hydrogen research, developing novel methods to improve electrolysis efficiency and exploring innovative materials for hydrogen storage ( O'Neill, 2021). Then, there are startups like H2Pro that are pushing the boundaries with unique electrolysis technology, which promises higher efficiency and lower costs. This showcases the vital role of emerging companies in this sector ( H2Pro, 2021). Universities and industries often collaborate, bridging the gap between research and practical application. These partnerships facilitate technology transfer and provide workforce training, ensuring the next generation is equipped with the skills needed for a green hydrogen economy. Such collaborative efforts are crucial for accelerating the adoption of green hydrogen technologies and integrating them into our energy systems. The transformative potential of green hydrogen and renewable energy partnerships is a positive indicator for the global energy grid. Collaborative efforts across sectors are paramount in surmounting green hydrogen's challenges, emphasizing the need for increased investment, research, and supportive policies. As we advance, the collective endeavor to integrate green hydrogen into our energy systems is not just a pathway to sustainability but a cornerstone for securing a resilient and sustainable energy future for generations to come. Calabrese M, Portarapillo M, Di Nardo A, Venezia V, Turco M, Luciani G, Di Benedetto A. Hydrogen Safety Challenges: A Comprehensive Review on Production, Storage, Transport, Utilization, and CFD-Based Consequence and Risk Assessment. Energies. 2024; 17 ( 6):1350. https: //doi.org/10.3390/en17061350 Energy Transitions Commission. ( 2021). Making Clean Electrification Possible: 30 Years to Electrify the Global Economy. [ Online ] Available at: https: //www.energy-transitions.org/wp-content/uploads/2021/04/ETC-Global-Power-Report-.pdf ( Accessed on 24 March 2024). ENGIE. ( 2021). ENGIE x HyGreen Provence: Building a Green Hydrogen Ecosystem. [ Online ] ENGIE. Available at: https: //www.engie.com/en/business-case/engie-x-hygreen ( Accessed 24 March 2024). European Commission. ( 2020). A hydrogen strategy for a climate-neutral Europe. https: //ec.europa.eu/energy/sites/ener/files/hydrogen strategy.pdf ( Accessed on 24 March 2024). H2Pro. ( 2021). Our technology. [ Online ] H2Pro. Available at: https: //www.h2pro.co/technology ( Accessed 24 March 2024). Hydrogen Council. ( 2020). Path to Hydrogen Competitiveness: A Cost Perspective. [ Online ] Available at: https: //hydrogencouncil.com/wp-content/uploads/2020/01/Path-to-Hydrogen-Competitiveness Full-Study-1.pdf ( Accessed on 24 March 2024). International Energy Agency ( IEA). ( 2020). Energy Technology Perspectives 2020. [ Online ] Available at: https: //www.iea.org/reports/energy-technology-perspectives-2020 ( Accessed on 24 March 2024). International Renewable Energy Agency. ( 2022). Geopolitics of the Energy Transformation. [ Online ] Available at: https: //www.irena.org/Digital-Report/Geopolitics-of-the-Energy-Transformation ( Accessed on 24 March 2024). Nereim, V. ( 2022). Saudi Arabia to Start Building Green Hydrogen Plant in Neom. [ Online ] Bloomberg. Available at: https: //www.bloomberg.com/news/articles/2022-03-17/saudi-arabia-to-start-building-green-hydrogen-plant-in-neom ( Accessed on 24 March 2024). O'Neill, K. M. ( 2021). MITEI researchers build supply chain model to support hydrogen economy. [ Online ] MIT News. Available at: https: //news.mit.edu/2021/mitei-researchers-build-supply-chain-model-support-hydrogen-economy-0608 ( Accessed on 24 March 2024). Siemens Energy. ( 2020). Hydrogen solutions. [ Online ] Siemens Energy. Available at: https: //www.siemens-energy.com/global/en/home/products-services/product-offerings/hydrogen-solutions.html ( Accessed 24 March 2024). United Nations Environment Programme ( UNEP). ( 2021). UNEP Annual Report 2021. [ Online ] Available at: https: //www.unep.org/annualreport/2021/ ( Accessed on 24 March 2024). Disclaimer: The views expressed here are those of the author expressed in their private capacity and do not necessarily represent the views of AZoM.com Limited T/A AZoNetwork the owner and operator of this website. This disclaimer forms part of the Terms and conditions of use of this website. Rachael Jones, a freelance writer with an MSc in Earth Science and a PGDip in Environmental Management, merges her extensive academic background with years of publishing and editing experience. Focused on digital marketing within the science and technology sectors, Rachael excels in creating compelling narratives that connect intricate scientific ideas with a wider online audience. Jones, Rachael. ( 2024, May 01). Renewable Energy Partnerships: Integrating Green Hydrogen into the Grid. AZoCleantech. Retrieved on May 07, 2024 from https: //www.azocleantech.com/article.aspx? ArticleID=1823. Jones, Rachael. `` Renewable Energy Partnerships: Integrating Green Hydrogen into the Grid ''. AZoCleantech. 07 May 2024. &lt; https: //www.azocleantech.com/article.aspx? ArticleID=1823 &gt;. Jones, Rachael. `` Renewable Energy Partnerships: Integrating Green Hydrogen into the Grid ''. AZoCleantech. https: //www.azocleantech.com/article.aspx? ArticleID=1823. ( accessed May 07, 2024). Jones, Rachael. 2024. Renewable Energy Partnerships: Integrating Green Hydrogen into the Grid. AZoCleantech, viewed 07 May 2024, https: //www.azocleantech.com/article.aspx? ArticleID=1823. This product profile summarizes the MAX-iR FTIR Gas Analyzer from Thermo Fisher Scientific. The FT4 Powder Rheometer is a universal powder flow tester for measuring powder flow properties and powder behavior. The GeoPyc 1365 measured the envelope density of formed pieces without the use of hazardous materials. Laurence Molke, CEO of CycleØ, discusses the company's role in sustainable biomethane production and advancing decarbonization efforts. In this interview, Ieda Gomes Yell discusses the Isle of Man's Innovation Challenge and how it is fostering cleantech, AI, and FinTech solutions for sustainability and net-zero goals. This interview explores the intersection of policy, innovation, and commercialization within the UK's cleantech sector, with a focus on the initiatives and strategies being pursued by Cleantech for UK under Sarah Mackintosh's leadership. Hi, I 'm Azthena, you can trust me to find commercial scientific answers from AZoNetwork.com. A few things you need to know before we start. Please read and accept to continue. Azthena may occasionally provide inaccurate responses. Read the full terms. While we only use edited and approved content for Azthena answers, it may on occasions provide incorrect responses. Please confirm any data provided with the related suppliers or authors. We do not provide medical advice, if you search for medical information you must always consult a medical professional before acting on any information provided. Your questions, but not your email details will be shared with OpenAI and retained for 30 days in accordance with their privacy principles. Please do not ask questions that use sensitive or confidential information.</td>\n",
              "      <td>Key players include companies like Siemens Energy, ITM Power, and H2Pro, as well as academia and governments, such as the European Union, which are collaborating to advance the technology and its applications.</td>\n",
              "      <td>https://www.azocleantech.com/article.aspx?ArticleID=1823</td>\n",
              "    </tr>\n",
              "  </tbody>\n",
              "</table>\n",
              "</div>\n",
              "    <div class=\"colab-df-buttons\">\n",
              "\n",
              "  <div class=\"colab-df-container\">\n",
              "    <button class=\"colab-df-convert\" onclick=\"convertToInteractive('df-f42a7ed4-3c45-4ad1-a2b9-e8f5f01c520f')\"\n",
              "            title=\"Convert this dataframe to an interactive table.\"\n",
              "            style=\"display:none;\">\n",
              "\n",
              "  <svg xmlns=\"http://www.w3.org/2000/svg\" height=\"24px\" viewBox=\"0 -960 960 960\">\n",
              "    <path d=\"M120-120v-720h720v720H120Zm60-500h600v-160H180v160Zm220 220h160v-160H400v160Zm0 220h160v-160H400v160ZM180-400h160v-160H180v160Zm440 0h160v-160H620v160ZM180-180h160v-160H180v160Zm440 0h160v-160H620v160Z\"/>\n",
              "  </svg>\n",
              "    </button>\n",
              "\n",
              "  <style>\n",
              "    .colab-df-container {\n",
              "      display:flex;\n",
              "      gap: 12px;\n",
              "    }\n",
              "\n",
              "    .colab-df-convert {\n",
              "      background-color: #E8F0FE;\n",
              "      border: none;\n",
              "      border-radius: 50%;\n",
              "      cursor: pointer;\n",
              "      display: none;\n",
              "      fill: #1967D2;\n",
              "      height: 32px;\n",
              "      padding: 0 0 0 0;\n",
              "      width: 32px;\n",
              "    }\n",
              "\n",
              "    .colab-df-convert:hover {\n",
              "      background-color: #E2EBFA;\n",
              "      box-shadow: 0px 1px 2px rgba(60, 64, 67, 0.3), 0px 1px 3px 1px rgba(60, 64, 67, 0.15);\n",
              "      fill: #174EA6;\n",
              "    }\n",
              "\n",
              "    .colab-df-buttons div {\n",
              "      margin-bottom: 4px;\n",
              "    }\n",
              "\n",
              "    [theme=dark] .colab-df-convert {\n",
              "      background-color: #3B4455;\n",
              "      fill: #D2E3FC;\n",
              "    }\n",
              "\n",
              "    [theme=dark] .colab-df-convert:hover {\n",
              "      background-color: #434B5C;\n",
              "      box-shadow: 0px 1px 3px 1px rgba(0, 0, 0, 0.15);\n",
              "      filter: drop-shadow(0px 1px 2px rgba(0, 0, 0, 0.3));\n",
              "      fill: #FFFFFF;\n",
              "    }\n",
              "  </style>\n",
              "\n",
              "    <script>\n",
              "      const buttonEl =\n",
              "        document.querySelector('#df-f42a7ed4-3c45-4ad1-a2b9-e8f5f01c520f button.colab-df-convert');\n",
              "      buttonEl.style.display =\n",
              "        google.colab.kernel.accessAllowed ? 'block' : 'none';\n",
              "\n",
              "      async function convertToInteractive(key) {\n",
              "        const element = document.querySelector('#df-f42a7ed4-3c45-4ad1-a2b9-e8f5f01c520f');\n",
              "        const dataTable =\n",
              "          await google.colab.kernel.invokeFunction('convertToInteractive',\n",
              "                                                    [key], {});\n",
              "        if (!dataTable) return;\n",
              "\n",
              "        const docLinkHtml = 'Like what you see? Visit the ' +\n",
              "          '<a target=\"_blank\" href=https://colab.research.google.com/notebooks/data_table.ipynb>data table notebook</a>'\n",
              "          + ' to learn more about interactive tables.';\n",
              "        element.innerHTML = '';\n",
              "        dataTable['output_type'] = 'display_data';\n",
              "        await google.colab.output.renderOutput(dataTable, element);\n",
              "        const docLink = document.createElement('div');\n",
              "        docLink.innerHTML = docLinkHtml;\n",
              "        element.appendChild(docLink);\n",
              "      }\n",
              "    </script>\n",
              "  </div>\n",
              "\n",
              "\n",
              "<div id=\"df-6745bed1-1130-4048-8af2-7d7fecf94eb2\">\n",
              "  <button class=\"colab-df-quickchart\" onclick=\"quickchart('df-6745bed1-1130-4048-8af2-7d7fecf94eb2')\"\n",
              "            title=\"Suggest charts\"\n",
              "            style=\"display:none;\">\n",
              "\n",
              "<svg xmlns=\"http://www.w3.org/2000/svg\" height=\"24px\"viewBox=\"0 0 24 24\"\n",
              "     width=\"24px\">\n",
              "    <g>\n",
              "        <path d=\"M19 3H5c-1.1 0-2 .9-2 2v14c0 1.1.9 2 2 2h14c1.1 0 2-.9 2-2V5c0-1.1-.9-2-2-2zM9 17H7v-7h2v7zm4 0h-2V7h2v10zm4 0h-2v-4h2v4z\"/>\n",
              "    </g>\n",
              "</svg>\n",
              "  </button>\n",
              "\n",
              "<style>\n",
              "  .colab-df-quickchart {\n",
              "      --bg-color: #E8F0FE;\n",
              "      --fill-color: #1967D2;\n",
              "      --hover-bg-color: #E2EBFA;\n",
              "      --hover-fill-color: #174EA6;\n",
              "      --disabled-fill-color: #AAA;\n",
              "      --disabled-bg-color: #DDD;\n",
              "  }\n",
              "\n",
              "  [theme=dark] .colab-df-quickchart {\n",
              "      --bg-color: #3B4455;\n",
              "      --fill-color: #D2E3FC;\n",
              "      --hover-bg-color: #434B5C;\n",
              "      --hover-fill-color: #FFFFFF;\n",
              "      --disabled-bg-color: #3B4455;\n",
              "      --disabled-fill-color: #666;\n",
              "  }\n",
              "\n",
              "  .colab-df-quickchart {\n",
              "    background-color: var(--bg-color);\n",
              "    border: none;\n",
              "    border-radius: 50%;\n",
              "    cursor: pointer;\n",
              "    display: none;\n",
              "    fill: var(--fill-color);\n",
              "    height: 32px;\n",
              "    padding: 0;\n",
              "    width: 32px;\n",
              "  }\n",
              "\n",
              "  .colab-df-quickchart:hover {\n",
              "    background-color: var(--hover-bg-color);\n",
              "    box-shadow: 0 1px 2px rgba(60, 64, 67, 0.3), 0 1px 3px 1px rgba(60, 64, 67, 0.15);\n",
              "    fill: var(--button-hover-fill-color);\n",
              "  }\n",
              "\n",
              "  .colab-df-quickchart-complete:disabled,\n",
              "  .colab-df-quickchart-complete:disabled:hover {\n",
              "    background-color: var(--disabled-bg-color);\n",
              "    fill: var(--disabled-fill-color);\n",
              "    box-shadow: none;\n",
              "  }\n",
              "\n",
              "  .colab-df-spinner {\n",
              "    border: 2px solid var(--fill-color);\n",
              "    border-color: transparent;\n",
              "    border-bottom-color: var(--fill-color);\n",
              "    animation:\n",
              "      spin 1s steps(1) infinite;\n",
              "  }\n",
              "\n",
              "  @keyframes spin {\n",
              "    0% {\n",
              "      border-color: transparent;\n",
              "      border-bottom-color: var(--fill-color);\n",
              "      border-left-color: var(--fill-color);\n",
              "    }\n",
              "    20% {\n",
              "      border-color: transparent;\n",
              "      border-left-color: var(--fill-color);\n",
              "      border-top-color: var(--fill-color);\n",
              "    }\n",
              "    30% {\n",
              "      border-color: transparent;\n",
              "      border-left-color: var(--fill-color);\n",
              "      border-top-color: var(--fill-color);\n",
              "      border-right-color: var(--fill-color);\n",
              "    }\n",
              "    40% {\n",
              "      border-color: transparent;\n",
              "      border-right-color: var(--fill-color);\n",
              "      border-top-color: var(--fill-color);\n",
              "    }\n",
              "    60% {\n",
              "      border-color: transparent;\n",
              "      border-right-color: var(--fill-color);\n",
              "    }\n",
              "    80% {\n",
              "      border-color: transparent;\n",
              "      border-right-color: var(--fill-color);\n",
              "      border-bottom-color: var(--fill-color);\n",
              "    }\n",
              "    90% {\n",
              "      border-color: transparent;\n",
              "      border-bottom-color: var(--fill-color);\n",
              "    }\n",
              "  }\n",
              "</style>\n",
              "\n",
              "  <script>\n",
              "    async function quickchart(key) {\n",
              "      const quickchartButtonEl =\n",
              "        document.querySelector('#' + key + ' button');\n",
              "      quickchartButtonEl.disabled = true;  // To prevent multiple clicks.\n",
              "      quickchartButtonEl.classList.add('colab-df-spinner');\n",
              "      try {\n",
              "        const charts = await google.colab.kernel.invokeFunction(\n",
              "            'suggestCharts', [key], {});\n",
              "      } catch (error) {\n",
              "        console.error('Error during call to suggestCharts:', error);\n",
              "      }\n",
              "      quickchartButtonEl.classList.remove('colab-df-spinner');\n",
              "      quickchartButtonEl.classList.add('colab-df-quickchart-complete');\n",
              "    }\n",
              "    (() => {\n",
              "      let quickchartButtonEl =\n",
              "        document.querySelector('#df-6745bed1-1130-4048-8af2-7d7fecf94eb2 button');\n",
              "      quickchartButtonEl.style.display =\n",
              "        google.colab.kernel.accessAllowed ? 'block' : 'none';\n",
              "    })();\n",
              "  </script>\n",
              "</div>\n",
              "\n",
              "    </div>\n",
              "  </div>\n"
            ],
            "application/vnd.google.colaboratory.intrinsic+json": {
              "type": "dataframe",
              "variable_name": "combined_qa_df",
              "summary": "{\n  \"name\": \"combined_qa_df\",\n  \"rows\": 746,\n  \"fields\": [\n    {\n      \"column\": \"question\",\n      \"properties\": {\n        \"dtype\": \"string\",\n        \"num_unique_values\": 746,\n        \"samples\": [\n          \"What is the goal of Gov. Phil Murphy's administration regarding clean energy, and how does New Jersey's solar progress align with it?\",\n          \"What is the country's target for solar capacity by the start of the next decade?\",\n          \"What is the potential benefit of using sodium-ion batteries?\"\n        ],\n        \"semantic_type\": \"\",\n        \"description\": \"\"\n      }\n    },\n    {\n      \"column\": \"relevant_text\",\n      \"properties\": {\n        \"dtype\": \"category\",\n        \"num_unique_values\": 49,\n        \"samples\": [\n          \"New Jersey has surpassed 4 GW of installed solar power, enough to provide electricity to over 500,000 New Jersey households annually, reports the New Jersey Board of Public Utilities ( NJBPU). There are now more than 157,000 solar installations statewide, and it is estimated that solar capacity in the state will double in the next four years. This is a critical step on the way to achieving Gov. Phil Murphy\\u2019 s goal of 100% clean energy by 2050. \\u201c I am thrilled New Jersey has reached this significant 4 GW milestone, \\u201d says Joseph L. Fiordaliso, president of New Jersey Board of Public Utilities. \\u201c New Jersey has been a leader in solar and our solar initiatives are a key part of our clean energy future. Through successful programs like Community Solar, we are ensuring equitable access to clean energy for all New Jerseyans. \\u201d New Jersey will continue to build on the 4 GW milestone by implementing a wide variety of solar programs throughout the rest of 2022. Following a successful two-year pilot program, board staff is targeting the third quarter of 2022 to issue the permanent program straw proposal for the Community Solar Energy Program. In year one of the pilot program, the board approved 45 applications representing almost 78 MW in solar energy capacity. In year two of the pilot program, the board approved 105 projects representing 165 MW of planned solar energy capacity; when fully developed, projects in both years have the cumulative capacity to serve approximately 24,000 low to moderate income subscribers. The board continues to advance the development of its Competitive Solar Incentive ( CSI) Program for grid supply and large net-metered solar. Staff has issued a straw proposal and has held three public comment sessions. Board staff anticipates launching this program later in 2022. The board will also be working to develop and implement a dual-use solar pilot program. Staff anticipates issuing a straw proposal later in the year. The board will continue to move forward with its grid modernization proceeding to solicit ideas for potential improvements to enable faster interconnection and higher levels of distributed energy resource ( DER) integration. In June, a draft report was presented at a public meeting with recommendations for interconnection reform, and the Board will continue its work aimed at modernizing the grid in the future. Solar Industry offers industry participants probing, comprehensive assessments of the technology, tools and trends that are driving this dynamic energy sector. From raw materials straight through to end-user applications, we capture and analyze the critical details that help professionals stay current and navigate the solar market. \\u00a9 Copyright Zackin Publications Inc. All Rights Reserved.\",\n          \"We recently produced several exclusive reports on US electric vehicle sales and overall US auto industry sales trends. Via those reports, you can explore the top automakers or auto brands in terms of their own internal EV share or in terms of their share of the overall EV market, or you can explore growth of the US EV market as a whole, or you can explore trends in auto brand sales broadly, or you can look at trends in EV market share, or you can look at model-by-model EV sales growth. There are a lot of fun ways to cut the pie and see what\\u2019 s been going on. One thing that stands out in these reports compared to any others you might find on the internet on any of these topics is that I go back to 2019 to tease out the comparisons and trends over time. However, one thing I\\u2019 ve never really done is narrow down and highlight changes in the EV market compared to changes in the ICEV market. ( To be specific, I\\u2019 m referring to the fully electric, or BEV, market here.) Since I\\u2019 d already collected all of the core data from automakers over the years, plus a little bit of estimating for brands that lag behind the rest in the data they report ( Tesla included), this wasn\\u2019 t a huge challenge \\u2014 it just required creating a few more rows in my Google Sheet and generating a few more charts. However, I had not thought to do it until requested to by \\u201c Cypress \\u201d under a recent article. What a great suggestion! Why didn\\u2019 t I think of that? Well, let\\u2019 s just get to the charts and numbers. First of all, as we can see, no matter which time period you look at from the past 4 years, EV sales growth crushes internal combustion engine vehicle ( ICEV) sales trends. Comparing 2023 and 2022 totals, EVs saw 47% growth while ICEVs ( gas cars) saw 10% growth. Comparing 2023 and 2021 totals, EVs saw 142% growth while ICEVs ( gas cars) saw a 3% drop in sales. Wait, which powertrain is struggling with its sales trends? Dipping back into the big, horrible year of COVID, EV sales were up 356% in 2023 compared to 2020, while ICEV sales were up just slightly, 1%. Going even further back, looking at the pre-COVID numbers of 2019, we can see that EV sales were up 385% in 2023 compared to 2019, while ICEV sales were down 14%. So, of all the ways we\\u2019 ve looked at changes in the EV market and changes in the auto market as a whole, I think these comparisons most clearly highlight that EV sales have been growing strongly year after year, whereas the non-EV market needs to worry about what\\u2019 s happening and plan accordingly. Thanks to Cypress again for the request/idea for this report. You can also look at these numbers in a slightly different way via the two charts below. Zach is tryin ' to help society help itself one word at a time. He spends most of his time here on CleanTechnica as its director, chief editor, and CEO. Zach is recognized globally as an electric vehicle, solar energy, and energy storage expert. He has presented about cleantech at conferences in India, the UAE, Ukraine, Poland, Germany, the Netherlands, the USA, Canada, and Cura\\u00e7ao. Zach has long-term investments in Tesla [ TSLA ], NIO [ NIO ], Xpeng [ XPEV ], Ford [ F ], ChargePoint [ CHPT ], Amazon [ AMZN ], Piedmont Lithium [ PLL ], Lithium Americas [ LAC ], Albemarle Corporation [ ALB ], Nouveau Monde Graphite [ NMGRF ], Talon Metals [ TLOFF ], Arclight Clean Transition Corp [ ACTC ], and Starbucks [ SBUX ]. But he does not offer ( explicitly or implicitly) investment advice of any sort. Zachary Shahan has 7289 posts and counting. See all posts by Zachary Shahan\",\n          \"Mention electric cars, and some people will go off on a tirade about how there is not enough electricity to charge them all, and if they happened to be charging at the same time, the electrical grid will implode as transmission wires melt and transformers self-destruct in a shower of sparks. There is some truth to those concerns \\u2014 tens of millions of electric cars are going to need a lot of electrons to keep their batteries charged. But what most people are blissfully unaware of is that data centers and AI are likely to consume half of all the electricity available from renewable energy resources such as solar and wind farms. The grid is under threat, but it\\u2019 s not from EVs, according to Wired. There is a new wind farm off the coast of Scotland that is supposed to be able to power 1.3 million homes, but Amazon has just announced it has spoken for more than half of that installation\\u2019 s 880 MW output. As the world\\u2019 s biggest companies race to build the infrastructure necessary to enable artificial intelligence, even remote Scottish wind farms are becoming indispensable, Wired says. Which raises this question \\u2014 Is this why the world is building all these renewable energy resources? We were under the impression that electricity would be used to heat and cool our homes and businesses. Do we the people have to foot the bill to build more transmission lines so Mark Zuckerberg and Jeff Bezos can save every keystroke and data point in their insatiable quest to bring digital advertisers into our personal space to sell us more stuff? Inquiring minds want to know. Data center activity is increasing dramatically in Europe. Recently, Microsoft announced it would invest $ 3.2 billion for data centers in Sweden. Earlier this year, it said it would double its data center footprint in Germany, while also pledging a $ 4.3 billion data center investment for AI infrastructure in France. Amazon announced a network of data centers in the state of Brandenburg as part of a $ 8.5 billion investment in Germany, later dedicating another $ 17.1 billion to Spain. Google said it would spend $ 1.1 billion on its data center in Finland to drive AI growth. Does anyone notice how these numbers sound a lot like the money the automotive industry is investing in the transition to electric transportation? As the tech giants rush to build more data centers, behind the scenes there is panic around how to power them with renewable energy. Microsoft, Meta, and Google all plan to be net zero before 2030, while logistics-heavy Amazon has targeted 2040. In pursuit of that aim, the past decade has seen those companies hoover up renewable energy contracts with wind or solar companies. But all these projects rely on electricity grids, which are buckling under increased demand for clean energy. That\\u2019 s forcing the tech giants to think about their energy intensive futures and consider how they might operate their own off-grid power empires, outside the system. \\u201c There is a recognition that as power demand increases, the industry will have to find alternative energy sources, \\u201d says Colm Shorten, senior director of data center strategy at real estate services company JLL. He says that server farms are increasingly looking for \\u201c behind the wire \\u201d power supply, whether that\\u2019 s gas or diesel generators or more innovative technology such as green hydrogen. Oh, joy. Big data wants to build more thermal generation capacity so it can power its servers to absorb an endless stream of ones and zeros. Is this progress? Data centers need power for two primary purposes, Wired says. The first is to power the chips that enable computers to run algorithms or power video games. The second is to cool the servers so they don\\u2019 t overheat. Initiatives such as using liquid to cool the chips instead of air are expected to make modest energy savings, but forecasters like the International Energy Association still expect the demand for power to run data centers to double by 2026, thanks in part to the demands of artificial intelligence. For the past five years, tech companies have been on an increasingly frenzied shopping spree for renewable energy contracts known as power purchase agreements, which can enable data center operators to reserve power from a wind farm or solar site before the projects have even been built. In Denmark, there are solar farms paid for by Meta. In Norway, there are wind farms bankrolled by Google. As early adopters of these types of deals, tech companies have helped fuel Europe\\u2019 s now-thriving PPA market, says Christoph Zipf, spokesperson at WindEurope. This month, Microsoft struck the world\\u2019 s biggest renewable energy deal, signing a $ 10 billion contract for clean power across Europe and the US. Yet renewable energy still needs to run through the electricity grid, which is becoming a bottleneck \\u2014 especially in Europe \\u2014 as a surge of renewable producers try to connect to supply green electricity to a multitude of sectors. \\u201c We\\u2019 re going to run into energy constraints, \\u201d Meta CEO Mark Zuckerberg predicted on a podcast in April. At Davos this year, OpenAI CEO Sam Altman also warned that the status quo was not going to be able to provide AI with the power it needed to advance. \\u201c There\\u2019 s no way to get there without a breakthrough, \\u201d he said at a Bloomberg event. Grid operators are essentially saying the same thing. Ireland\\u2019 s state-owned electricity provider Eirgrid cited grid problems when it imposed an effective moratorium on Dublin data centers two years ago. When the municipality of Amsterdam introduced a similar pause, the Dutch Data Center Association, an industry group, hit back. \\u201c The current grid congestion in North Holland is blocking the growth of the data center sector, \\u201d it said in a statement. In the search for space on the grid, data centers are being pushed into parts of Europe where their arrival is more conspicuous, risking backlash from the smaller communities when they show up. That trend is already visible in Germany, according to Simon Hinterholzer, researcher at Germany\\u2019 s Borderstep Institute for Innovation and Sustainability. \\u201c In the past, the large majority of new data centers were being built in Frankfurt, \\u201d he says. \\u201c This has completely changed in the last two or three years. \\u201d He points to a 300 MW data center being built in the small town of Wustermark, as well as Amazon\\u2019 s latest investment in Brandenburg, the region bordering Berlin where more than 70 wind turbines were installed last year. This unquenchable thirst for renewable energy has led to more calls for data centers to find ways to survive off-grid. \\u201c The size of AI projects are getting bigger and bigger, reaching up to 1 gigawatt of power, which can not be supplied by the traditional power grids, \\u201d says Ricardo Abad, founder of data center Quark, which is working on a new site with an unnamed partner in Spain that will be able to generate its own power through onsite solar and wind power. These types of projects are technically still connected to the grid \\u2014 in case they want to offload excess power \\u2014 but they have the ability to operate independently, he says. The same year Dublin announced restrictions on data centers, Amazon also opened its largest ever onsite solar farm, spanning the roof and car park of its fulfillment center in Seville, Spain. Google\\u2019 s head of data center location strategy in Europe has also expressed interest in onsite renewables for its next generation of server farms. Microsoft and Meta denied running any projects that are entirely off-grid, but in Dublin, Microsoft is building a data center alongside its own backup gas power plant, meaning the site can keep running even if the grid operator kicks it off. The quest for clean electricity to feed the voracious needs of data centers is leading to some hitherto unimaginable ideas. \\u201c In the future, technologies like advanced nuclear reactors, renewable energy sources, and energy storage solutions will be crucial in making this possible, \\u201d says Kilian Wagner, an expert in sustainable digital infrastructures at German digital association Bitkom. OpenAI\\u2019 s Altman is already an investor in Helion Energy, an American nuclear fusion company that has also agreed to provide Microsoft with 50 megawatts of electricity from its first fusion nuclear plant, once operational. In the US, Microsoft has already been experimenting with hydrogen fuel cells, touting them as a form of emission-free power backup. The demand for precious electricity to power data centers so people can play video games and mine cryptocurrencies may be startling to some. When society needs electricity to heat and cool our homes, make green cement and low carbon steel, and charge the batteries in tens of millions of electric cars, diverting resources to what basically are amusements seems completely unnecessary, if not downright silly. The US government has essentially decreed that green hydrogen developers need to supply their own electricity to run their electolyzers. Would a similar policy make sense for data centers? It seems pretty clear ordinary ratepayers are going to be asked to foot the bill to build the transmission infrastructure to operate these gigantic server farms \\u2014 at least until someone invents chips that consume 90% less electricity. It does seem that there ought to be a hierarchy that prioritizes who gets first dibs on renewable energy, and it\\u2019 s hard to imagine that data centers and AI deserve priority in any such allocation strategy. Steve writes about the interface between technology and sustainability from his home in Florida or anywhere else The Force may lead him. He is proud to be `` woke '' and doesn't really give a damn why the glass broke. He believes passionately in what Socrates said 3000 years ago: `` The secret to change is to focus all of your energy not on fighting the old but on building the new. '' You can follow him on Substack and LinkedIn but not on Fakebook or any social media platforms controlled by narcissistic yahoos. Steve Hanley has 5570 posts and counting. See all posts by Steve Hanley\"\n        ],\n        \"semantic_type\": \"\",\n        \"description\": \"\"\n      }\n    },\n    {\n      \"column\": \"answer\",\n      \"properties\": {\n        \"dtype\": \"string\",\n        \"num_unique_values\": 742,\n        \"samples\": [\n          \"The models will provide critical information to the CSP plant developers and operators, enabling them to design and operate their structures more efficiently.\",\n          \"OMPA's power supply comes from a variety of resources, including 151 MW of Oklahoma wind.\",\n          \"The 100 MW solar project will have a capacity of 100 MW.\"\n        ],\n        \"semantic_type\": \"\",\n        \"description\": \"\"\n      }\n    },\n    {\n      \"column\": \"article_url\",\n      \"properties\": {\n        \"dtype\": \"category\",\n        \"num_unique_values\": 49,\n        \"samples\": [\n          \"https://solarindustrymag.com/new-jersey-surpasses-4-gw-of-solar-installations-in-the-state\",\n          \"https://cleantechnica.com/2024/02/14/us-ev-sales-up-385-since-2019-normal-ice-vehicle-sales-down-14/\",\n          \"https://cleantechnica.com/2024/06/04/data-centers-ai-are-sucking-up-huge-amounts-of-renewable-energy/\"\n        ],\n        \"semantic_type\": \"\",\n        \"description\": \"\"\n      }\n    }\n  ]\n}"
            }
          },
          "metadata": {},
          "execution_count": 122
        }
      ]
    },
    {
      "cell_type": "markdown",
      "source": [
        "### Generate the QA Pairs for the Patent Dataset\n",
        "For the patent dataset, we begin by filtering the articles based on keywords relevant to cleantech (using two keyword sets for azocleantech and solarindustrymag). Patents do not come pre-categorized into domains like media articles, so we must generate QA pairs first and then apply a separate categorization process.\n",
        "\n",
        "To extract patents relevant to cleantech topics, we use a deterministic, rule-based approach.\n",
        "\n",
        "- We start by defining two lists of keywords:\n",
        "- Next, we apply these lists to the patent dataset by examining the abstract field of each patent. Using a lambda function with the apply method, we deterministically check if any keyword exists in an abstract. This yields two Boolean masks indicating whether a patent belongs to the azocleantech or solarindustrymag domain, respectively. We then filter the dataset based on these masks.\n",
        "- We decided to use a deterministic, rule-based approach because we can directly see which keywords triggered the classification, allowing us to easily audit and refine our keyword lists if needed.\n",
        "- However, we are aware that this method is rigid, so if an abstract uses synonyms or slightly different phrasing that isn’t in our keyword list, it might not be classified correctly. The approach does not consider context or the possibility of words having multiple meanings. An abstract might mention a keyword in a context that does not pertain to cleantech.\n",
        "\n",
        "By using this deterministic approach, we ensure that our patent dataset is filtered in a consistent and transparent manner. While this method is efficient and straightforward, it does have limitations regarding flexibility and nuance."
      ],
      "metadata": {
        "id": "vhBTxtwm6eUX"
      }
    },
    {
      "cell_type": "code",
      "source": [
        "# patent_df = pd.read_csv(\"/content/drive/MyDrive/SwissText SharedTask/dfs_google_patent.csv\")"
      ],
      "metadata": {
        "id": "zGU76Ad_Rokd"
      },
      "execution_count": 160,
      "outputs": []
    },
    {
      "cell_type": "code",
      "source": [
        "patent_df.head()"
      ],
      "metadata": {
        "id": "LCYMGWLiX0xn"
      },
      "execution_count": null,
      "outputs": []
    },
    {
      "cell_type": "code",
      "source": [
        "patent_df['title'] = patent_df['title'].apply(ast.literal_eval)\n",
        "patent_df['abstract'] = patent_df['abstract'].apply(ast.literal_eval)\n",
        "\n",
        "patent_df['tokens_title'] = patent_df['title_localized'].apply(ast.literal_eval)\n",
        "patent_df['tokens_abstract'] = patent_df['tokens_abstract'].apply(ast.literal_eval)"
      ],
      "metadata": {
        "colab": {
          "base_uri": "https://localhost:8080/",
          "height": 547
        },
        "id": "vaGwQT1qXgbR",
        "outputId": "f59e5704-e597-4234-e8d3-6afab41acf42"
      },
      "execution_count": 163,
      "outputs": [
        {
          "output_type": "error",
          "ename": "KeyError",
          "evalue": "'title'",
          "traceback": [
            "\u001b[0;31m---------------------------------------------------------------------------\u001b[0m",
            "\u001b[0;31mKeyError\u001b[0m                                  Traceback (most recent call last)",
            "\u001b[0;32m/usr/local/lib/python3.11/dist-packages/pandas/core/indexes/base.py\u001b[0m in \u001b[0;36mget_loc\u001b[0;34m(self, key)\u001b[0m\n\u001b[1;32m   3804\u001b[0m         \u001b[0;32mtry\u001b[0m\u001b[0;34m:\u001b[0m\u001b[0;34m\u001b[0m\u001b[0;34m\u001b[0m\u001b[0m\n\u001b[0;32m-> 3805\u001b[0;31m             \u001b[0;32mreturn\u001b[0m \u001b[0mself\u001b[0m\u001b[0;34m.\u001b[0m\u001b[0m_engine\u001b[0m\u001b[0;34m.\u001b[0m\u001b[0mget_loc\u001b[0m\u001b[0;34m(\u001b[0m\u001b[0mcasted_key\u001b[0m\u001b[0;34m)\u001b[0m\u001b[0;34m\u001b[0m\u001b[0;34m\u001b[0m\u001b[0m\n\u001b[0m\u001b[1;32m   3806\u001b[0m         \u001b[0;32mexcept\u001b[0m \u001b[0mKeyError\u001b[0m \u001b[0;32mas\u001b[0m \u001b[0merr\u001b[0m\u001b[0;34m:\u001b[0m\u001b[0;34m\u001b[0m\u001b[0;34m\u001b[0m\u001b[0m\n",
            "\u001b[0;32mindex.pyx\u001b[0m in \u001b[0;36mpandas._libs.index.IndexEngine.get_loc\u001b[0;34m()\u001b[0m\n",
            "\u001b[0;32mindex.pyx\u001b[0m in \u001b[0;36mpandas._libs.index.IndexEngine.get_loc\u001b[0;34m()\u001b[0m\n",
            "\u001b[0;32mpandas/_libs/hashtable_class_helper.pxi\u001b[0m in \u001b[0;36mpandas._libs.hashtable.PyObjectHashTable.get_item\u001b[0;34m()\u001b[0m\n",
            "\u001b[0;32mpandas/_libs/hashtable_class_helper.pxi\u001b[0m in \u001b[0;36mpandas._libs.hashtable.PyObjectHashTable.get_item\u001b[0;34m()\u001b[0m\n",
            "\u001b[0;31mKeyError\u001b[0m: 'title'",
            "\nThe above exception was the direct cause of the following exception:\n",
            "\u001b[0;31mKeyError\u001b[0m                                  Traceback (most recent call last)",
            "\u001b[0;32m<ipython-input-163-8976e23b801e>\u001b[0m in \u001b[0;36m<cell line: 0>\u001b[0;34m()\u001b[0m\n\u001b[0;32m----> 1\u001b[0;31m \u001b[0mpatent_df\u001b[0m\u001b[0;34m[\u001b[0m\u001b[0;34m'title'\u001b[0m\u001b[0;34m]\u001b[0m \u001b[0;34m=\u001b[0m \u001b[0mpatent_df\u001b[0m\u001b[0;34m[\u001b[0m\u001b[0;34m'title'\u001b[0m\u001b[0;34m]\u001b[0m\u001b[0;34m.\u001b[0m\u001b[0mapply\u001b[0m\u001b[0;34m(\u001b[0m\u001b[0mast\u001b[0m\u001b[0;34m.\u001b[0m\u001b[0mliteral_eval\u001b[0m\u001b[0;34m)\u001b[0m\u001b[0;34m\u001b[0m\u001b[0;34m\u001b[0m\u001b[0m\n\u001b[0m\u001b[1;32m      2\u001b[0m \u001b[0mpatent_df\u001b[0m\u001b[0;34m[\u001b[0m\u001b[0;34m'abstract'\u001b[0m\u001b[0;34m]\u001b[0m \u001b[0;34m=\u001b[0m \u001b[0mpatent_df\u001b[0m\u001b[0;34m[\u001b[0m\u001b[0;34m'abstract'\u001b[0m\u001b[0;34m]\u001b[0m\u001b[0;34m.\u001b[0m\u001b[0mapply\u001b[0m\u001b[0;34m(\u001b[0m\u001b[0mast\u001b[0m\u001b[0;34m.\u001b[0m\u001b[0mliteral_eval\u001b[0m\u001b[0;34m)\u001b[0m\u001b[0;34m\u001b[0m\u001b[0;34m\u001b[0m\u001b[0m\n\u001b[1;32m      3\u001b[0m \u001b[0;34m\u001b[0m\u001b[0m\n\u001b[1;32m      4\u001b[0m \u001b[0mpatent_df\u001b[0m\u001b[0;34m[\u001b[0m\u001b[0;34m'tokens_title'\u001b[0m\u001b[0;34m]\u001b[0m \u001b[0;34m=\u001b[0m \u001b[0mpatent_df\u001b[0m\u001b[0;34m[\u001b[0m\u001b[0;34m'title_localized'\u001b[0m\u001b[0;34m]\u001b[0m\u001b[0;34m.\u001b[0m\u001b[0mapply\u001b[0m\u001b[0;34m(\u001b[0m\u001b[0mast\u001b[0m\u001b[0;34m.\u001b[0m\u001b[0mliteral_eval\u001b[0m\u001b[0;34m)\u001b[0m\u001b[0;34m\u001b[0m\u001b[0;34m\u001b[0m\u001b[0m\n\u001b[1;32m      5\u001b[0m \u001b[0mpatent_df\u001b[0m\u001b[0;34m[\u001b[0m\u001b[0;34m'tokens_abstract'\u001b[0m\u001b[0;34m]\u001b[0m \u001b[0;34m=\u001b[0m \u001b[0mpatent_df\u001b[0m\u001b[0;34m[\u001b[0m\u001b[0;34m'tokens_abstract'\u001b[0m\u001b[0;34m]\u001b[0m\u001b[0;34m.\u001b[0m\u001b[0mapply\u001b[0m\u001b[0;34m(\u001b[0m\u001b[0mast\u001b[0m\u001b[0;34m.\u001b[0m\u001b[0mliteral_eval\u001b[0m\u001b[0;34m)\u001b[0m\u001b[0;34m\u001b[0m\u001b[0;34m\u001b[0m\u001b[0m\n",
            "\u001b[0;32m/usr/local/lib/python3.11/dist-packages/pandas/core/frame.py\u001b[0m in \u001b[0;36m__getitem__\u001b[0;34m(self, key)\u001b[0m\n\u001b[1;32m   4100\u001b[0m             \u001b[0;32mif\u001b[0m \u001b[0mself\u001b[0m\u001b[0;34m.\u001b[0m\u001b[0mcolumns\u001b[0m\u001b[0;34m.\u001b[0m\u001b[0mnlevels\u001b[0m \u001b[0;34m>\u001b[0m \u001b[0;36m1\u001b[0m\u001b[0;34m:\u001b[0m\u001b[0;34m\u001b[0m\u001b[0;34m\u001b[0m\u001b[0m\n\u001b[1;32m   4101\u001b[0m                 \u001b[0;32mreturn\u001b[0m \u001b[0mself\u001b[0m\u001b[0;34m.\u001b[0m\u001b[0m_getitem_multilevel\u001b[0m\u001b[0;34m(\u001b[0m\u001b[0mkey\u001b[0m\u001b[0;34m)\u001b[0m\u001b[0;34m\u001b[0m\u001b[0;34m\u001b[0m\u001b[0m\n\u001b[0;32m-> 4102\u001b[0;31m             \u001b[0mindexer\u001b[0m \u001b[0;34m=\u001b[0m \u001b[0mself\u001b[0m\u001b[0;34m.\u001b[0m\u001b[0mcolumns\u001b[0m\u001b[0;34m.\u001b[0m\u001b[0mget_loc\u001b[0m\u001b[0;34m(\u001b[0m\u001b[0mkey\u001b[0m\u001b[0;34m)\u001b[0m\u001b[0;34m\u001b[0m\u001b[0;34m\u001b[0m\u001b[0m\n\u001b[0m\u001b[1;32m   4103\u001b[0m             \u001b[0;32mif\u001b[0m \u001b[0mis_integer\u001b[0m\u001b[0;34m(\u001b[0m\u001b[0mindexer\u001b[0m\u001b[0;34m)\u001b[0m\u001b[0;34m:\u001b[0m\u001b[0;34m\u001b[0m\u001b[0;34m\u001b[0m\u001b[0m\n\u001b[1;32m   4104\u001b[0m                 \u001b[0mindexer\u001b[0m \u001b[0;34m=\u001b[0m \u001b[0;34m[\u001b[0m\u001b[0mindexer\u001b[0m\u001b[0;34m]\u001b[0m\u001b[0;34m\u001b[0m\u001b[0;34m\u001b[0m\u001b[0m\n",
            "\u001b[0;32m/usr/local/lib/python3.11/dist-packages/pandas/core/indexes/base.py\u001b[0m in \u001b[0;36mget_loc\u001b[0;34m(self, key)\u001b[0m\n\u001b[1;32m   3810\u001b[0m             ):\n\u001b[1;32m   3811\u001b[0m                 \u001b[0;32mraise\u001b[0m \u001b[0mInvalidIndexError\u001b[0m\u001b[0;34m(\u001b[0m\u001b[0mkey\u001b[0m\u001b[0;34m)\u001b[0m\u001b[0;34m\u001b[0m\u001b[0;34m\u001b[0m\u001b[0m\n\u001b[0;32m-> 3812\u001b[0;31m             \u001b[0;32mraise\u001b[0m \u001b[0mKeyError\u001b[0m\u001b[0;34m(\u001b[0m\u001b[0mkey\u001b[0m\u001b[0;34m)\u001b[0m \u001b[0;32mfrom\u001b[0m \u001b[0merr\u001b[0m\u001b[0;34m\u001b[0m\u001b[0;34m\u001b[0m\u001b[0m\n\u001b[0m\u001b[1;32m   3813\u001b[0m         \u001b[0;32mexcept\u001b[0m \u001b[0mTypeError\u001b[0m\u001b[0;34m:\u001b[0m\u001b[0;34m\u001b[0m\u001b[0;34m\u001b[0m\u001b[0m\n\u001b[1;32m   3814\u001b[0m             \u001b[0;31m# If we have a listlike key, _check_indexing_error will raise\u001b[0m\u001b[0;34m\u001b[0m\u001b[0;34m\u001b[0m\u001b[0m\n",
            "\u001b[0;31mKeyError\u001b[0m: 'title'"
          ]
        }
      ]
    },
    {
      "cell_type": "code",
      "source": [
        "patent_df['title_land'] = patent_df['title'].apply(lambda x:x[0]['language'])\n",
        "patent_df['abstract_land'] = patent_df['abstract'].apply(lambda x:x[0]['language'])\n",
        "\n",
        "patent_df['title_text'] = patent_df['title'].apply(lambda x:x[0]['text'])\n",
        "patent_df['abstract_text'] = patent_df['abstract'].apply(lambda x:x[0]['text'])\n",
        "\n",
        "patent_df['total'] = patent_df['title_text']+patent_df['abstract_text']"
      ],
      "metadata": {
        "id": "vXMbNXq_YdO0"
      },
      "execution_count": null,
      "outputs": []
    },
    {
      "cell_type": "code",
      "source": [
        "patent_df['w_count'] = patent_df['total'].apply(lambda x:len(x.split()))"
      ],
      "metadata": {
        "id": "wq7FgLl9UC3k"
      },
      "execution_count": 131,
      "outputs": []
    },
    {
      "cell_type": "code",
      "source": [
        "patent_df.head(2)"
      ],
      "metadata": {
        "colab": {
          "base_uri": "https://localhost:8080/",
          "height": 1000
        },
        "id": "XUlOeZ__UFKn",
        "outputId": "1c899ee3-f352-4b27-e480-50fee416646b"
      },
      "execution_count": 134,
      "outputs": [
        {
          "output_type": "execute_result",
          "data": {
            "text/plain": [
              "  publication_number application_number country_code  \\\n",
              "0   US-2022239235-A1  US-202217717397-A           US   \n",
              "1   US-2022239251-A1  US-202217580956-A           US   \n",
              "\n",
              "                                                                                                                                                        title_localized  \\\n",
              "0                                                               [{'text': 'Adaptable DC-AC Inverter Drive System and Operation', 'language': 'en', 'truncated': False}]   \n",
              "1  [{'text': 'System for providing the energy from a single contiguous solar energy structure to at least two different meters', 'language': 'en', 'truncated': False}]   \n",
              "\n",
              "                                                                                                                                                                                                                                                                                                                                                                                                                                                                                                                                                                                                                                                 abstract_localized  \\\n",
              "0                                                                                                                                                                                      [{'text': 'Disclosed is an adaptable DC-AC inverter system and its operation. The system includes multiple DC input sources as input to provide a stable operation under various conditions. DC input sources may be added to the system or removed from the system without impacting the functionality of the system. The disclosed system is suited for solar energy harvesting in grid-connected or off-grid modes of operation.', 'language': 'en', 'truncated': False}]   \n",
              "1  [{'text': 'In accordance with an example embodiment, a solar energy system comprises: a solar energy structure comprising photovoltaic solar panels contiguously covering an area; a first inverter configured to receive power from a first string of photovoltaic solar panels, wherein the first inverter is configured to provide the power received at the first inverter to a first meter; and a second inverter configured to receive power from a second string of photovoltaic solar panels, wherein the second inverter is configured to provide the power received at the second inverter to a second meter.', 'language': 'en', 'truncated': False}]   \n",
              "\n",
              "   publication_date inventor  \\\n",
              "0          20220728       []   \n",
              "1          20220728       []   \n",
              "\n",
              "                                                                                                                                                                                                                                                                                                                                                                                                                                                                                                                                                                                    cpc  \\\n",
              "0  [{'code': 'H02M7/5395', 'inventive': True, 'first': False, 'tree': []}, {'code': 'H02J3/32', 'inventive': False, 'first': False, 'tree': []}, {'code': 'H02M1/32', 'inventive': True, 'first': False, 'tree': []}, {'code': 'H02J1/10', 'inventive': True, 'first': False, 'tree': []}, {'code': 'H02J3/381', 'inventive': True, 'first': False, 'tree': []}, {'code': 'H02M7/493', 'inventive': True, 'first': True, 'tree': []}, {'code': 'H02J2300/24', 'inventive': False, 'first': False, 'tree': []}, {'code': 'H02J2300/30', 'inventive': False, 'first': False, 'tree': []}]   \n",
              "1                                                                                                                                                                                                                                                                                              [{'code': 'H02S40/38', 'inventive': True, 'first': False, 'tree': []}, {'code': 'G01R22/061', 'inventive': True, 'first': False, 'tree': []}, {'code': 'B60L53/51', 'inventive': True, 'first': False, 'tree': []}, {'code': 'H02S40/32', 'inventive': True, 'first': True, 'tree': []}]   \n",
              "\n",
              "                                                                                              tokens_title  \\\n",
              "0                                                   [adaptable, dc-ac, inverter, drive, system, operation]   \n",
              "1  [system, providing, energy, single, contiguous, solar, energy, structure, least, two, different, meter]   \n",
              "\n",
              "                                                                                                                                                                                                                                                                                                                                                                                                                                                                                                                                          tokens_abstract  \\\n",
              "0                                                                                                                                                                                    [disclosed, adaptable, dc-ac, inverter, system, operation, system, includes, multiple, dc, input, source, input, provide, stable, operation, various, condition, dc, input, source, may, added, system, removed, system, without, impacting, functionality, system, disclosed, system, suited, solar, energy, harvesting, grid-connected, off-grid, mode, operation]   \n",
              "1  [accordance, example, embodiment, solar, energy, system, comprises, solar, energy, structure, comprising, photovoltaic, solar, panel, contiguously, covering, area, first, inverter, configured, receive, power, first, string, photovoltaic, solar, panel, wherein, first, inverter, configured, provide, power, received, first, inverter, first, meter, second, inverter, configured, receive, power, second, string, photovoltaic, solar, panel, wherein, second, inverter, configured, provide, power, received, second, inverter, second, meter]   \n",
              "\n",
              "                                                                                                         title_text  \\\n",
              "0                                                               Adaptable DC-AC Inverter Drive System and Operation   \n",
              "1  System for providing the energy from a single contiguous solar energy structure to at least two different meters   \n",
              "\n",
              "  title_land  \\\n",
              "0         en   \n",
              "1         en   \n",
              "\n",
              "                                                                                                                                                                                                                                                                                                                                                                                                                                                                                                                                                                                                  abstract_text  \\\n",
              "0                                                                                                                                                                                      Disclosed is an adaptable DC-AC inverter system and its operation. The system includes multiple DC input sources as input to provide a stable operation under various conditions. DC input sources may be added to the system or removed from the system without impacting the functionality of the system. The disclosed system is suited for solar energy harvesting in grid-connected or off-grid modes of operation.   \n",
              "1  In accordance with an example embodiment, a solar energy system comprises: a solar energy structure comprising photovoltaic solar panels contiguously covering an area; a first inverter configured to receive power from a first string of photovoltaic solar panels, wherein the first inverter is configured to provide the power received at the first inverter to a first meter; and a second inverter configured to receive power from a second string of photovoltaic solar panels, wherein the second inverter is configured to provide the power received at the second inverter to a second meter.   \n",
              "\n",
              "  abstract_land  \\\n",
              "0            en   \n",
              "1            en   \n",
              "\n",
              "                                                                                                                                                                                                                                                                                                                                                                                                                                                                                                                                                                                                                                                                                                                          total  \\\n",
              "0                                                                                                                                                                                                                                                   Adaptable DC-AC Inverter Drive System and OperationDisclosed is an adaptable DC-AC inverter system and its operation. The system includes multiple DC input sources as input to provide a stable operation under various conditions. DC input sources may be added to the system or removed from the system without impacting the functionality of the system. The disclosed system is suited for solar energy harvesting in grid-connected or off-grid modes of operation.   \n",
              "1  System for providing the energy from a single contiguous solar energy structure to at least two different metersIn accordance with an example embodiment, a solar energy system comprises: a solar energy structure comprising photovoltaic solar panels contiguously covering an area; a first inverter configured to receive power from a first string of photovoltaic solar panels, wherein the first inverter is configured to provide the power received at the first inverter to a first meter; and a second inverter configured to receive power from a second string of photovoltaic solar panels, wherein the second inverter is configured to provide the power received at the second inverter to a second meter.   \n",
              "\n",
              "   w_count  \n",
              "0       70  \n",
              "1      109  "
            ],
            "text/html": [
              "\n",
              "  <div id=\"df-e57e9714-cdad-4b7b-89c3-231006374fbd\" class=\"colab-df-container\">\n",
              "    <div>\n",
              "<style scoped>\n",
              "    .dataframe tbody tr th:only-of-type {\n",
              "        vertical-align: middle;\n",
              "    }\n",
              "\n",
              "    .dataframe tbody tr th {\n",
              "        vertical-align: top;\n",
              "    }\n",
              "\n",
              "    .dataframe thead th {\n",
              "        text-align: right;\n",
              "    }\n",
              "</style>\n",
              "<table border=\"1\" class=\"dataframe\">\n",
              "  <thead>\n",
              "    <tr style=\"text-align: right;\">\n",
              "      <th></th>\n",
              "      <th>publication_number</th>\n",
              "      <th>application_number</th>\n",
              "      <th>country_code</th>\n",
              "      <th>title_localized</th>\n",
              "      <th>abstract_localized</th>\n",
              "      <th>publication_date</th>\n",
              "      <th>inventor</th>\n",
              "      <th>cpc</th>\n",
              "      <th>tokens_title</th>\n",
              "      <th>tokens_abstract</th>\n",
              "      <th>title_text</th>\n",
              "      <th>title_land</th>\n",
              "      <th>abstract_text</th>\n",
              "      <th>abstract_land</th>\n",
              "      <th>total</th>\n",
              "      <th>w_count</th>\n",
              "    </tr>\n",
              "  </thead>\n",
              "  <tbody>\n",
              "    <tr>\n",
              "      <th>0</th>\n",
              "      <td>US-2022239235-A1</td>\n",
              "      <td>US-202217717397-A</td>\n",
              "      <td>US</td>\n",
              "      <td>[{'text': 'Adaptable DC-AC Inverter Drive System and Operation', 'language': 'en', 'truncated': False}]</td>\n",
              "      <td>[{'text': 'Disclosed is an adaptable DC-AC inverter system and its operation. The system includes multiple DC input sources as input to provide a stable operation under various conditions. DC input sources may be added to the system or removed from the system without impacting the functionality of the system. The disclosed system is suited for solar energy harvesting in grid-connected or off-grid modes of operation.', 'language': 'en', 'truncated': False}]</td>\n",
              "      <td>20220728</td>\n",
              "      <td>[]</td>\n",
              "      <td>[{'code': 'H02M7/5395', 'inventive': True, 'first': False, 'tree': []}, {'code': 'H02J3/32', 'inventive': False, 'first': False, 'tree': []}, {'code': 'H02M1/32', 'inventive': True, 'first': False, 'tree': []}, {'code': 'H02J1/10', 'inventive': True, 'first': False, 'tree': []}, {'code': 'H02J3/381', 'inventive': True, 'first': False, 'tree': []}, {'code': 'H02M7/493', 'inventive': True, 'first': True, 'tree': []}, {'code': 'H02J2300/24', 'inventive': False, 'first': False, 'tree': []}, {'code': 'H02J2300/30', 'inventive': False, 'first': False, 'tree': []}]</td>\n",
              "      <td>[adaptable, dc-ac, inverter, drive, system, operation]</td>\n",
              "      <td>[disclosed, adaptable, dc-ac, inverter, system, operation, system, includes, multiple, dc, input, source, input, provide, stable, operation, various, condition, dc, input, source, may, added, system, removed, system, without, impacting, functionality, system, disclosed, system, suited, solar, energy, harvesting, grid-connected, off-grid, mode, operation]</td>\n",
              "      <td>Adaptable DC-AC Inverter Drive System and Operation</td>\n",
              "      <td>en</td>\n",
              "      <td>Disclosed is an adaptable DC-AC inverter system and its operation. The system includes multiple DC input sources as input to provide a stable operation under various conditions. DC input sources may be added to the system or removed from the system without impacting the functionality of the system. The disclosed system is suited for solar energy harvesting in grid-connected or off-grid modes of operation.</td>\n",
              "      <td>en</td>\n",
              "      <td>Adaptable DC-AC Inverter Drive System and OperationDisclosed is an adaptable DC-AC inverter system and its operation. The system includes multiple DC input sources as input to provide a stable operation under various conditions. DC input sources may be added to the system or removed from the system without impacting the functionality of the system. The disclosed system is suited for solar energy harvesting in grid-connected or off-grid modes of operation.</td>\n",
              "      <td>70</td>\n",
              "    </tr>\n",
              "    <tr>\n",
              "      <th>1</th>\n",
              "      <td>US-2022239251-A1</td>\n",
              "      <td>US-202217580956-A</td>\n",
              "      <td>US</td>\n",
              "      <td>[{'text': 'System for providing the energy from a single contiguous solar energy structure to at least two different meters', 'language': 'en', 'truncated': False}]</td>\n",
              "      <td>[{'text': 'In accordance with an example embodiment, a solar energy system comprises: a solar energy structure comprising photovoltaic solar panels contiguously covering an area; a first inverter configured to receive power from a first string of photovoltaic solar panels, wherein the first inverter is configured to provide the power received at the first inverter to a first meter; and a second inverter configured to receive power from a second string of photovoltaic solar panels, wherein the second inverter is configured to provide the power received at the second inverter to a second meter.', 'language': 'en', 'truncated': False}]</td>\n",
              "      <td>20220728</td>\n",
              "      <td>[]</td>\n",
              "      <td>[{'code': 'H02S40/38', 'inventive': True, 'first': False, 'tree': []}, {'code': 'G01R22/061', 'inventive': True, 'first': False, 'tree': []}, {'code': 'B60L53/51', 'inventive': True, 'first': False, 'tree': []}, {'code': 'H02S40/32', 'inventive': True, 'first': True, 'tree': []}]</td>\n",
              "      <td>[system, providing, energy, single, contiguous, solar, energy, structure, least, two, different, meter]</td>\n",
              "      <td>[accordance, example, embodiment, solar, energy, system, comprises, solar, energy, structure, comprising, photovoltaic, solar, panel, contiguously, covering, area, first, inverter, configured, receive, power, first, string, photovoltaic, solar, panel, wherein, first, inverter, configured, provide, power, received, first, inverter, first, meter, second, inverter, configured, receive, power, second, string, photovoltaic, solar, panel, wherein, second, inverter, configured, provide, power, received, second, inverter, second, meter]</td>\n",
              "      <td>System for providing the energy from a single contiguous solar energy structure to at least two different meters</td>\n",
              "      <td>en</td>\n",
              "      <td>In accordance with an example embodiment, a solar energy system comprises: a solar energy structure comprising photovoltaic solar panels contiguously covering an area; a first inverter configured to receive power from a first string of photovoltaic solar panels, wherein the first inverter is configured to provide the power received at the first inverter to a first meter; and a second inverter configured to receive power from a second string of photovoltaic solar panels, wherein the second inverter is configured to provide the power received at the second inverter to a second meter.</td>\n",
              "      <td>en</td>\n",
              "      <td>System for providing the energy from a single contiguous solar energy structure to at least two different metersIn accordance with an example embodiment, a solar energy system comprises: a solar energy structure comprising photovoltaic solar panels contiguously covering an area; a first inverter configured to receive power from a first string of photovoltaic solar panels, wherein the first inverter is configured to provide the power received at the first inverter to a first meter; and a second inverter configured to receive power from a second string of photovoltaic solar panels, wherein the second inverter is configured to provide the power received at the second inverter to a second meter.</td>\n",
              "      <td>109</td>\n",
              "    </tr>\n",
              "  </tbody>\n",
              "</table>\n",
              "</div>\n",
              "    <div class=\"colab-df-buttons\">\n",
              "\n",
              "  <div class=\"colab-df-container\">\n",
              "    <button class=\"colab-df-convert\" onclick=\"convertToInteractive('df-e57e9714-cdad-4b7b-89c3-231006374fbd')\"\n",
              "            title=\"Convert this dataframe to an interactive table.\"\n",
              "            style=\"display:none;\">\n",
              "\n",
              "  <svg xmlns=\"http://www.w3.org/2000/svg\" height=\"24px\" viewBox=\"0 -960 960 960\">\n",
              "    <path d=\"M120-120v-720h720v720H120Zm60-500h600v-160H180v160Zm220 220h160v-160H400v160Zm0 220h160v-160H400v160ZM180-400h160v-160H180v160Zm440 0h160v-160H620v160ZM180-180h160v-160H180v160Zm440 0h160v-160H620v160Z\"/>\n",
              "  </svg>\n",
              "    </button>\n",
              "\n",
              "  <style>\n",
              "    .colab-df-container {\n",
              "      display:flex;\n",
              "      gap: 12px;\n",
              "    }\n",
              "\n",
              "    .colab-df-convert {\n",
              "      background-color: #E8F0FE;\n",
              "      border: none;\n",
              "      border-radius: 50%;\n",
              "      cursor: pointer;\n",
              "      display: none;\n",
              "      fill: #1967D2;\n",
              "      height: 32px;\n",
              "      padding: 0 0 0 0;\n",
              "      width: 32px;\n",
              "    }\n",
              "\n",
              "    .colab-df-convert:hover {\n",
              "      background-color: #E2EBFA;\n",
              "      box-shadow: 0px 1px 2px rgba(60, 64, 67, 0.3), 0px 1px 3px 1px rgba(60, 64, 67, 0.15);\n",
              "      fill: #174EA6;\n",
              "    }\n",
              "\n",
              "    .colab-df-buttons div {\n",
              "      margin-bottom: 4px;\n",
              "    }\n",
              "\n",
              "    [theme=dark] .colab-df-convert {\n",
              "      background-color: #3B4455;\n",
              "      fill: #D2E3FC;\n",
              "    }\n",
              "\n",
              "    [theme=dark] .colab-df-convert:hover {\n",
              "      background-color: #434B5C;\n",
              "      box-shadow: 0px 1px 3px 1px rgba(0, 0, 0, 0.15);\n",
              "      filter: drop-shadow(0px 1px 2px rgba(0, 0, 0, 0.3));\n",
              "      fill: #FFFFFF;\n",
              "    }\n",
              "  </style>\n",
              "\n",
              "    <script>\n",
              "      const buttonEl =\n",
              "        document.querySelector('#df-e57e9714-cdad-4b7b-89c3-231006374fbd button.colab-df-convert');\n",
              "      buttonEl.style.display =\n",
              "        google.colab.kernel.accessAllowed ? 'block' : 'none';\n",
              "\n",
              "      async function convertToInteractive(key) {\n",
              "        const element = document.querySelector('#df-e57e9714-cdad-4b7b-89c3-231006374fbd');\n",
              "        const dataTable =\n",
              "          await google.colab.kernel.invokeFunction('convertToInteractive',\n",
              "                                                    [key], {});\n",
              "        if (!dataTable) return;\n",
              "\n",
              "        const docLinkHtml = 'Like what you see? Visit the ' +\n",
              "          '<a target=\"_blank\" href=https://colab.research.google.com/notebooks/data_table.ipynb>data table notebook</a>'\n",
              "          + ' to learn more about interactive tables.';\n",
              "        element.innerHTML = '';\n",
              "        dataTable['output_type'] = 'display_data';\n",
              "        await google.colab.output.renderOutput(dataTable, element);\n",
              "        const docLink = document.createElement('div');\n",
              "        docLink.innerHTML = docLinkHtml;\n",
              "        element.appendChild(docLink);\n",
              "      }\n",
              "    </script>\n",
              "  </div>\n",
              "\n",
              "\n",
              "<div id=\"df-b6855b20-e724-4621-9984-10f774af2535\">\n",
              "  <button class=\"colab-df-quickchart\" onclick=\"quickchart('df-b6855b20-e724-4621-9984-10f774af2535')\"\n",
              "            title=\"Suggest charts\"\n",
              "            style=\"display:none;\">\n",
              "\n",
              "<svg xmlns=\"http://www.w3.org/2000/svg\" height=\"24px\"viewBox=\"0 0 24 24\"\n",
              "     width=\"24px\">\n",
              "    <g>\n",
              "        <path d=\"M19 3H5c-1.1 0-2 .9-2 2v14c0 1.1.9 2 2 2h14c1.1 0 2-.9 2-2V5c0-1.1-.9-2-2-2zM9 17H7v-7h2v7zm4 0h-2V7h2v10zm4 0h-2v-4h2v4z\"/>\n",
              "    </g>\n",
              "</svg>\n",
              "  </button>\n",
              "\n",
              "<style>\n",
              "  .colab-df-quickchart {\n",
              "      --bg-color: #E8F0FE;\n",
              "      --fill-color: #1967D2;\n",
              "      --hover-bg-color: #E2EBFA;\n",
              "      --hover-fill-color: #174EA6;\n",
              "      --disabled-fill-color: #AAA;\n",
              "      --disabled-bg-color: #DDD;\n",
              "  }\n",
              "\n",
              "  [theme=dark] .colab-df-quickchart {\n",
              "      --bg-color: #3B4455;\n",
              "      --fill-color: #D2E3FC;\n",
              "      --hover-bg-color: #434B5C;\n",
              "      --hover-fill-color: #FFFFFF;\n",
              "      --disabled-bg-color: #3B4455;\n",
              "      --disabled-fill-color: #666;\n",
              "  }\n",
              "\n",
              "  .colab-df-quickchart {\n",
              "    background-color: var(--bg-color);\n",
              "    border: none;\n",
              "    border-radius: 50%;\n",
              "    cursor: pointer;\n",
              "    display: none;\n",
              "    fill: var(--fill-color);\n",
              "    height: 32px;\n",
              "    padding: 0;\n",
              "    width: 32px;\n",
              "  }\n",
              "\n",
              "  .colab-df-quickchart:hover {\n",
              "    background-color: var(--hover-bg-color);\n",
              "    box-shadow: 0 1px 2px rgba(60, 64, 67, 0.3), 0 1px 3px 1px rgba(60, 64, 67, 0.15);\n",
              "    fill: var(--button-hover-fill-color);\n",
              "  }\n",
              "\n",
              "  .colab-df-quickchart-complete:disabled,\n",
              "  .colab-df-quickchart-complete:disabled:hover {\n",
              "    background-color: var(--disabled-bg-color);\n",
              "    fill: var(--disabled-fill-color);\n",
              "    box-shadow: none;\n",
              "  }\n",
              "\n",
              "  .colab-df-spinner {\n",
              "    border: 2px solid var(--fill-color);\n",
              "    border-color: transparent;\n",
              "    border-bottom-color: var(--fill-color);\n",
              "    animation:\n",
              "      spin 1s steps(1) infinite;\n",
              "  }\n",
              "\n",
              "  @keyframes spin {\n",
              "    0% {\n",
              "      border-color: transparent;\n",
              "      border-bottom-color: var(--fill-color);\n",
              "      border-left-color: var(--fill-color);\n",
              "    }\n",
              "    20% {\n",
              "      border-color: transparent;\n",
              "      border-left-color: var(--fill-color);\n",
              "      border-top-color: var(--fill-color);\n",
              "    }\n",
              "    30% {\n",
              "      border-color: transparent;\n",
              "      border-left-color: var(--fill-color);\n",
              "      border-top-color: var(--fill-color);\n",
              "      border-right-color: var(--fill-color);\n",
              "    }\n",
              "    40% {\n",
              "      border-color: transparent;\n",
              "      border-right-color: var(--fill-color);\n",
              "      border-top-color: var(--fill-color);\n",
              "    }\n",
              "    60% {\n",
              "      border-color: transparent;\n",
              "      border-right-color: var(--fill-color);\n",
              "    }\n",
              "    80% {\n",
              "      border-color: transparent;\n",
              "      border-right-color: var(--fill-color);\n",
              "      border-bottom-color: var(--fill-color);\n",
              "    }\n",
              "    90% {\n",
              "      border-color: transparent;\n",
              "      border-bottom-color: var(--fill-color);\n",
              "    }\n",
              "  }\n",
              "</style>\n",
              "\n",
              "  <script>\n",
              "    async function quickchart(key) {\n",
              "      const quickchartButtonEl =\n",
              "        document.querySelector('#' + key + ' button');\n",
              "      quickchartButtonEl.disabled = true;  // To prevent multiple clicks.\n",
              "      quickchartButtonEl.classList.add('colab-df-spinner');\n",
              "      try {\n",
              "        const charts = await google.colab.kernel.invokeFunction(\n",
              "            'suggestCharts', [key], {});\n",
              "      } catch (error) {\n",
              "        console.error('Error during call to suggestCharts:', error);\n",
              "      }\n",
              "      quickchartButtonEl.classList.remove('colab-df-spinner');\n",
              "      quickchartButtonEl.classList.add('colab-df-quickchart-complete');\n",
              "    }\n",
              "    (() => {\n",
              "      let quickchartButtonEl =\n",
              "        document.querySelector('#df-b6855b20-e724-4621-9984-10f774af2535 button');\n",
              "      quickchartButtonEl.style.display =\n",
              "        google.colab.kernel.accessAllowed ? 'block' : 'none';\n",
              "    })();\n",
              "  </script>\n",
              "</div>\n",
              "\n",
              "    </div>\n",
              "  </div>\n"
            ],
            "application/vnd.google.colaboratory.intrinsic+json": {
              "type": "dataframe",
              "variable_name": "patent_df",
              "summary": "{\n  \"name\": \"patent_df\",\n  \"rows\": 30000,\n  \"fields\": [\n    {\n      \"column\": \"publication_number\",\n      \"properties\": {\n        \"dtype\": \"category\",\n        \"num_unique_values\": 13412,\n        \"samples\": [\n          \"CN-113735123-A\",\n          \"CN-216142930-U\",\n          \"CN-114169088-A\"\n        ],\n        \"semantic_type\": \"\",\n        \"description\": \"\"\n      }\n    },\n    {\n      \"column\": \"application_number\",\n      \"properties\": {\n        \"dtype\": \"category\",\n        \"num_unique_values\": 13285,\n        \"samples\": [\n          \"CN-202111026634-A\",\n          \"CN-202121971914-U\",\n          \"CN-202121614181-U\"\n        ],\n        \"semantic_type\": \"\",\n        \"description\": \"\"\n      }\n    },\n    {\n      \"column\": \"country_code\",\n      \"properties\": {\n        \"dtype\": \"category\",\n        \"num_unique_values\": 32,\n        \"samples\": [\n          \"TN\",\n          \"NZ\",\n          \"TW\"\n        ],\n        \"semantic_type\": \"\",\n        \"description\": \"\"\n      }\n    },\n    {\n      \"column\": \"title_localized\",\n      \"properties\": {\n        \"dtype\": \"object\",\n        \"semantic_type\": \"\",\n        \"description\": \"\"\n      }\n    },\n    {\n      \"column\": \"abstract_localized\",\n      \"properties\": {\n        \"dtype\": \"object\",\n        \"semantic_type\": \"\",\n        \"description\": \"\"\n      }\n    },\n    {\n      \"column\": \"publication_date\",\n      \"properties\": {\n        \"dtype\": \"number\",\n        \"std\": 3783,\n        \"min\": 20211123,\n        \"max\": 20220728,\n        \"num_unique_values\": 165,\n        \"samples\": [\n          20220101,\n          20220129,\n          20220107\n        ],\n        \"semantic_type\": \"\",\n        \"description\": \"\"\n      }\n    },\n    {\n      \"column\": \"inventor\",\n      \"properties\": {\n        \"dtype\": \"object\",\n        \"semantic_type\": \"\",\n        \"description\": \"\"\n      }\n    },\n    {\n      \"column\": \"cpc\",\n      \"properties\": {\n        \"dtype\": \"object\",\n        \"semantic_type\": \"\",\n        \"description\": \"\"\n      }\n    },\n    {\n      \"column\": \"tokens_title\",\n      \"properties\": {\n        \"dtype\": \"object\",\n        \"semantic_type\": \"\",\n        \"description\": \"\"\n      }\n    },\n    {\n      \"column\": \"tokens_abstract\",\n      \"properties\": {\n        \"dtype\": \"object\",\n        \"semantic_type\": \"\",\n        \"description\": \"\"\n      }\n    },\n    {\n      \"column\": \"title_text\",\n      \"properties\": {\n        \"dtype\": \"category\",\n        \"num_unique_values\": 12818,\n        \"samples\": [\n          \"Automatic circle of transferring of penstock adds strength ring assembly fixture\",\n          \"Mute type energy-saving water-saving non-negative pressure water supply equipment\",\n          \"\\u4e00\\u79cd\\u5177\\u6709\\u9664\\u96ea\\u529f\\u80fd\\u7684\\u592a\\u9633\\u80fd\\u5149\\u4f0f\\u677f\"\n        ],\n        \"semantic_type\": \"\",\n        \"description\": \"\"\n      }\n    },\n    {\n      \"column\": \"title_land\",\n      \"properties\": {\n        \"dtype\": \"category\",\n        \"num_unique_values\": 10,\n        \"samples\": [\n          \"he\",\n          \"de\",\n          \"ko\"\n        ],\n        \"semantic_type\": \"\",\n        \"description\": \"\"\n      }\n    },\n    {\n      \"column\": \"abstract_text\",\n      \"properties\": {\n        \"dtype\": \"category\",\n        \"num_unique_values\": 13297,\n        \"samples\": [\n          \"The invention discloses a preparation method based on a transition metal phosphorus/nitride heterojunction catalyst and efficient electrolytic water hydrogen evolution research, and belongs to the technical field of hydrogen production and new energy through electrolytic water. The key points are as follows: preparing nickel, iron or cobalt single metal or two metal oxide nano-structure (nano-wire, nano-sheet and the like) arrays on foamed nickel, cobalt, iron, copper, carbon cloth and the like by taking cobalt nitrate, nickel, iron and other powder as raw materials and adopting electrodeposition, hydrothermal synthesis or chemical vapor deposition technology; nitriding the nano arrays to obtain a highly conductive nano porous material; the nickel, iron or cobalt-based transition metal phosphide nano structure is grown in situ by taking the nickel, iron or cobalt-based transition metal phosphide nano structure as a growth carrier, and the final heterojunction catalyst is prepared. The unique design greatly exposes the active sites of the metal phosphide, greatly reduces the overpotential of hydrogen evolution reaction, and firstly prepares the non-noble metal hydrogen evolution catalyst with high activity and stable heavy current in an alkaline environment, thereby helping the development of hydrogen energy industry in China.\",\n          \"\\u672c\\u5b9e\\u7528\\u65b0\\u578b\\u516c\\u5f00\\u4e86\\u4e00\\u79cd\\u5efa\\u7b51\\u5de5\\u7a0b\\u5b89\\u5168\\u9632\\u62a4\\u94a2\\u7b4b\\u9632\\u62a4\\u68da\\uff0c\\u5305\\u62ec\\u9876\\u7bb1\\u3001\\u592a\\u9633\\u80fd\\u7535\\u677f\\u548c\\u652f\\u6491\\u6746\\uff0c\\u652f\\u6491\\u6746\\u7684\\u9876\\u90e8\\u56fa\\u5b9a\\u5b89\\u88c5\\u6709\\u9876\\u7bb1\\uff0c\\u652f\\u6491\\u6746\\u4e4b\\u95f4\\u9876\\u7bb1\\u5e95\\u90e8\\u56fa\\u5b9a\\u5b89\\u88c5\\u6709\\u7167\\u660e\\u706f\\uff0c\\u9876\\u7bb1\\u7684\\u9876\\u90e8\\u56fa\\u5b9a\\u5b89\\u88c5\\u6709\\u592a\\u9633\\u80fd\\u7535\\u677f\\uff0c\\u84c4\\u7535\\u6c60\\u7ec4\\u4e24\\u4fa7\\u7684\\u9876\\u7bb1\\u5185\\u90e8\\u56fa\\u5b9a\\u5b89\\u88c5\\u6709\\u7535\\u673a\\uff0c\\u7535\\u673a\\u4e24\\u4fa7\\u7684\\u9876\\u7bb1\\u5185\\u90e8\\u6d3b\\u52a8\\u5b89\\u88c5\\u6709\\u5377\\u6536\\u8f74\\uff0c\\u5377\\u6536\\u8f74\\u7684\\u5916\\u56f4\\u8bbe\\u7f6e\\u6709\\u5377\\u5e18\\uff0c\\u5377\\u5e18\\u7684\\u5e95\\u90e8\\u8d2f\\u7a7f\\u9876\\u7bb1\\u56fa\\u5b9a\\u5b89\\u88c5\\u6709\\u5e95\\u677f\\uff0c\\u652f\\u6491\\u6746\\u5916\\u4fa7\\u7684\\u9876\\u7bb1\\u5e95\\u90e8\\u56fa\\u5b9a\\u5b89\\u88c5\\u6709\\u5bfc\\u6746\\uff0c\\u5bfc\\u6746\\u7684\\u5916\\u56f4\\u6ed1\\u52a8\\u5b89\\u88c5\\u6709\\u6ed1\\u73af\\uff0c\\u6ed1\\u73af\\u7684\\u5e95\\u90e8\\u8bbe\\u7f6e\\u6709\\u9632\\u96e8\\u5e03\\uff0c\\u9632\\u96e8\\u5e03\\u7684\\u5e95\\u90e8\\u8bbe\\u7f6e\\u6709\\u5e95\\u5ea7\\uff0c\\u4e14\\u5e95\\u5ea7\\u7684\\u5185\\u90e8\\u8bbe\\u7f6e\\u6709\\u901a\\u5b54\\u3002\\u672c\\u5b9e\\u7528\\u65b0\\u578b\\u901a\\u8fc7\\u8bbe\\u7f6e\\u6709\\u4e00\\u7cfb\\u5217\\u7684\\u7ed3\\u6784\\u4f7f\\u672c\\u88c5\\u7f6e\\u5728\\u4f7f\\u7528\\u7684\\u8fc7\\u7a0b\\u4e2d\\u80fd\\u591f\\u5728\\u4f7f\\u7528\\u65f6\\u6709\\u6548\\u5730\\u8d77\\u5230\\u9632\\u96e8\\u7684\\u4f5c\\u7528\\uff0c\\u88c5\\u7f6e\\u6574\\u4f53\\u7684\\u7a33\\u5b9a\\u6027\\u5f3a\\u4ee5\\u53ca\\u8282\\u7ea6\\u80fd\\u6e90\\u7b49\\u4f18\\u70b9\\uff0c\\u4f18\\u5316\\u4f7f\\u7528\\u8fc7\\u7a0b\\u3002\",\n          \"The invention discloses an intelligent environment-friendly photovoltaic power generation purification charging tree which comprises a light induction sensor, a solar power generation panel, a tree head, tree trunk branches, an LED lighting lamp group, a purified air outlet, a dirty air inlet, a charging pile box, a tree trunk, an access door a, an access door b, an inner annular air pipe a, an exhaust pipe, an air filter, a transparent window, an air outlet pipe, a fan, a USB socket, a charging circuit, a charging socket, an electrostatic electret melt-blown non-woven fabric layer, an activated carbon filter layer, a synthetic fiber filter cotton layer, an ultraviolet sterilization and disinfection lamp tube, a box body, an inner annular air pipe b, an inverter, a charging and discharging control circuit, a lithium battery group and a support rod; adopt solar energy to provide the electric energy, utilize the fan to carry out air cycle and disinfect through ultraviolet sterilization, by three-layer filtration again, reach air purification&#39;s effect, but also be furnished with the function that intelligent illumination and multiple power charge.\"\n        ],\n        \"semantic_type\": \"\",\n        \"description\": \"\"\n      }\n    },\n    {\n      \"column\": \"abstract_land\",\n      \"properties\": {\n        \"dtype\": \"category\",\n        \"num_unique_values\": 11,\n        \"samples\": [\n          \"fr\",\n          \"en\",\n          \"ar\"\n        ],\n        \"semantic_type\": \"\",\n        \"description\": \"\"\n      }\n    },\n    {\n      \"column\": \"total\",\n      \"properties\": {\n        \"dtype\": \"category\",\n        \"num_unique_values\": 13346,\n        \"samples\": [\n          \"Hanging basket for constructional engineering\\u672c\\u5b9e\\u7528\\u65b0\\u578b\\u516c\\u5f00\\u4e86\\u4e00\\u79cd\\u5efa\\u7b51\\u5de5\\u7a0b\\u7528\\u540a\\u7bee\\uff0c\\u5c5e\\u4e8e\\u5efa\\u7b51\\u5de5\\u7a0b\\u8bbe\\u5907\\u9886\\u57df\\uff0c\\u4e00\\u79cd\\u5efa\\u7b51\\u5de5\\u7a0b\\u7528\\u540a\\u7bee\\uff0c\\u5305\\u62ec\\u540a\\u7bee\\uff0c\\u540a\\u7bee\\u7684\\u67b6\\u4f53\\u4e0a\\u5b89\\u88c5\\u6709\\u914d\\u7535\\u7bb1\\uff0c\\u540a\\u7bee\\u67b6\\u4f53\\u7684\\u4e24\\u4fa7\\u5747\\u8bbe\\u7f6e\\u6709\\u63d0\\u5347\\u673a\\uff0c\\u540a\\u7bee\\u9760\\u8fd1\\u63d0\\u5347\\u673a\\u7684\\u4e00\\u4fa7\\u8bbe\\u7f6e\\u6709\\u5b89\\u5168\\u9501\\uff0c\\u540a\\u7bee\\u7684\\u9876\\u7aef\\u56db\\u5468\\u5747\\u8fde\\u63a5\\u6709\\u652f\\u6491\\u6746\\uff0c\\u652f\\u6491\\u6746\\u7684\\u9876\\u7aef\\u5f00\\u8bbe\\u6709\\u87ba\\u7eb9\\u69fd\\uff0c\\u87ba\\u7eb9\\u69fd\\u7684\\u5185\\u90e8\\u87ba\\u7eb9\\u8fde\\u63a5\\u6709\\u87ba\\u7eb9\\u6746\\uff0c\\u652f\\u6491\\u6746\\u7684\\u9876\\u7aef\\u8bbe\\u7f6e\\u6709\\u906e\\u9633\\u677f\\uff0c\\u87ba\\u7eb9\\u6746\\u8d2f\\u7a7f\\u4e8e\\u906e\\u9633\\u677f\\uff0c\\u87ba\\u7eb9\\u6746\\u7684\\u9876\\u7aef\\u8fde\\u63a5\\u6709\\u7b2c\\u4e00\\u7535\\u673a\\uff0c\\u906e\\u9633\\u677f\\u7684\\u5185\\u90e8\\u5f00\\u8bbe\\u6709\\u51f9\\u69fd\\uff0c\\u87ba\\u7eb9\\u6746\\u7684\\u5916\\u90e8\\u56fa\\u5b9a\\u6709\\u9f7f\\u8f6e\\uff0c\\u9f7f\\u8f6e\\u4f4d\\u4e8e\\u51f9\\u69fd\\u5185\\u90e8\\uff0c\\u9f7f\\u8f6e\\u7684\\u5916\\u90e8\\u556e\\u5408\\u6709\\u9f7f\\u5e26\\uff0c\\u53ef\\u4ee5\\u5b9e\\u73b0\\u5728\\u5bf9\\u5efa\\u7b51\\u5de5\\u7a0b\\u7528\\u540a\\u7bee\\u4f7f\\u7528\\u7684\\u8fc7\\u7a0b\\u4e2d\\uff0c\\u53ef\\u901a\\u8fc7\\u906e\\u9633\\u677f\\u5bf9\\u64cd\\u4f5c\\u8005\\u8fdb\\u884c\\u906e\\u9633\\uff0c\\u540c\\u65f6\\u901a\\u8fc7\\u592a\\u9633\\u80fd\\u677f\\u5438\\u6536\\u592a\\u9633\\u80fd\\u8f6c\\u5316\\u4e3a\\u7535\\u80fd\\uff0c\\u4f7f\\u5f97\\u98ce\\u6247\\u8f6c\\u52a8\\u8fdb\\u884c\\u964d\\u6e29\\u3002\",\n          \"Solar energy illumination green building\\u672c\\u7533\\u8bf7\\u516c\\u5f00\\u4e86\\u4e00\\u79cd\\u592a\\u9633\\u80fd\\u7167\\u660e\\u7eff\\u8272\\u5efa\\u7b51\\uff0c\\u6d89\\u53ca\\u8282\\u80fd\\u5efa\\u7b51\\u6280\\u672f\\u9886\\u57df\\uff0c\\u4e00\\u79cd\\u592a\\u9633\\u80fd\\u7167\\u660e\\u7eff\\u8272\\u5efa\\u7b51\\uff0c\\u5305\\u62ec\\u5efa\\u7b51\\u7269\\uff0c\\u6240\\u8ff0\\u5efa\\u7b51\\u7269\\u9876\\u90e8\\u5b89\\u88c5\\u6709\\u706f\\u5177\\uff0c\\u6240\\u8ff0\\u5efa\\u7b51\\u7269\\u7684\\u5899\\u58c1\\u4e0a\\u5b89\\u88c5\\u6709\\u63a7\\u5236\\u5668\\uff0c\\u6240\\u8ff0\\u5efa\\u7b51\\u7269\\u5ba4\\u5185\\u8bbe\\u6709\\u84c4\\u7535\\u6c60\\uff0c\\u6240\\u8ff0\\u84c4\\u7535\\u6c60\\u4e0e\\u6240\\u8ff0\\u63a7\\u5236\\u5668\\u4e32\\u8054\\u540e\\u4e0e\\u6240\\u8ff0\\u706f\\u5177\\u7535\\u6027\\u8fde\\u63a5\\uff1b\\u672c\\u7533\\u8bf7\\u901a\\u8fc7\\u652f\\u67b6\\u3001\\u5b89\\u88c5\\u677f\\u3001\\u5706\\u677f\\u3001\\u8fde\\u63a5\\u8f74\\u3001\\u6db2\\u538b\\u6c14\\u7f38\\u548c\\u6db2\\u538b\\u6746\\u7b49\\u7ed3\\u6784\\u95f4\\u7684\\u914d\\u5408\\u8bbe\\u7f6e\\uff0c\\u80fd\\u591f\\u5728\\u592a\\u9633\\u5149\\u5728\\u592a\\u9633\\u80fd\\u677f\\u9876\\u90e8\\u79fb\\u52a8\\u65f6\\uff0c\\u901a\\u8fc7\\u6db2\\u538b\\u6c14\\u7f38\\u5e26\\u52a8\\u6db2\\u538b\\u6746\\u4f38\\u7f29\\uff0c\\u63a8\\u52a8\\u592a\\u9633\\u80fd\\u677f\\u73af\\u7ed5\\u652f\\u67b6\\u9876\\u90e8\\u8f6c\\u52a8\\uff0c\\u4f7f\\u592a\\u9633\\u80fd\\u677f\\u59cb\\u7ec8\\u6b63\\u5bf9\\u592a\\u9633\\u5149\\uff0c\\u4ece\\u800c\\u5927\\u5927\\u63d0\\u9ad8\\u4e86\\u592a\\u9633\\u80fd\\u7684\\u5229\\u7528\\u7387\\uff0c\\u6709\\u6548\\u5730\\u89e3\\u51b3\\u4e86\\u73b0\\u6709\\u6280\\u672f\\u4e2d\\u592a\\u9633\\u80fd\\u677f\\u4e00\\u822c\\u56fa\\u5b9a\\u8fde\\u63a5\\u5728\\u5efa\\u7b51\\u7269\\u7684\\u9876\\u90e8\\uff0c\\u65e0\\u6cd5\\u59cb\\u7ec8\\u6b63\\u5bf9\\u592a\\u9633\\u5149\\uff0c\\u5bfc\\u81f4\\u592a\\u9633\\u80fd\\u8f6c\\u5316\\u6548\\u7387\\u4e0d\\u9ad8\\u7684\\u95ee\\u9898\\u3002\",\n          \"\\u4e00\\u79cd\\u87ba\\u82b4\\u6c27\\u6742\\u84bd\\u4e09\\u82b3\\u80fa\\u7c7b\\u7a7a\\u7a74\\u4f20\\u8f93\\u6750\\u6599\\u53ca\\u5176\\u5236\\u5907\\u65b9\\u6cd5\\u548c\\u5e94\\u7528The invention relates to the technical field of perovskite photovoltaics, and discloses a spirofluorene xanthene triarylamine hole transport material, a preparation method and application thereof, wherein the hole transport material has a chemical structural formula as follows: the spirofluorene xanthene triarylamine hole transport material has good hole mobility, stronger capability of inhibiting aggregation among hole molecules and slowing down electron recombination at a battery interface, and higher photo-thermal stability; in addition, the hole transport material is simple in preparation method, high in yield and low in preparation cost, is a hole transport material with excellent performance, is applied to the perovskite solar cell as a hole transport layer, and can obtain a hole transport material with more than one hole transport layerPhotoelectric conversion efficiency of 18%.\"\n        ],\n        \"semantic_type\": \"\",\n        \"description\": \"\"\n      }\n    },\n    {\n      \"column\": \"w_count\",\n      \"properties\": {\n        \"dtype\": \"number\",\n        \"std\": 97,\n        \"min\": 1,\n        \"max\": 403,\n        \"num_unique_values\": 296,\n        \"samples\": [\n          366,\n          201,\n          147\n        ],\n        \"semantic_type\": \"\",\n        \"description\": \"\"\n      }\n    }\n  ]\n}"
            }
          },
          "metadata": {},
          "execution_count": 134
        }
      ]
    },
    {
      "cell_type": "code",
      "source": [
        "plt.figure(figsize=(10, 6))\n",
        "sns.histplot(patent_df['w_count'], kde=True)\n",
        "plt.title('Distribution of Word Counts in Patents')\n",
        "plt.xlabel('Word Count')\n",
        "plt.ylabel('Frequency')\n",
        "plt.show()\n"
      ],
      "metadata": {
        "colab": {
          "base_uri": "https://localhost:8080/",
          "height": 564
        },
        "id": "e-XohLuvUUAN",
        "outputId": "0b4a0480-260f-4707-ef1f-af222ab585dc"
      },
      "execution_count": 135,
      "outputs": [
        {
          "output_type": "display_data",
          "data": {
            "text/plain": [
              "<Figure size 1000x600 with 1 Axes>"
            ],
            "image/png": "[encoded data removed]"
          },
          "metadata": {}
        }
      ]
    },
    {
      "cell_type": "code",
      "source": [
        "display(patent_df[['title_land','abstract_land']].value_counts())\n"
      ],
      "metadata": {
        "colab": {
          "base_uri": "https://localhost:8080/",
          "height": 1000
        },
        "id": "6w5Rx3YiUYIG",
        "outputId": "c01f83c6-0b31-4898-d403-ab91a85d6b9a"
      },
      "execution_count": 136,
      "outputs": [
        {
          "output_type": "display_data",
          "data": {
            "text/plain": [
              "title_land  abstract_land\n",
              "en          en               8297\n",
              "zh          zh               7741\n",
              "en          zh               6624\n",
              "zh          en               6463\n",
              "fr          en                226\n",
              "de          en                128\n",
              "en          fr                126\n",
              "fr          fr                 64\n",
              "de          de                 38\n",
              "en          ko                 34\n",
              "ko          ko                 29\n",
              "de          fr                 28\n",
              "fr          de                 28\n",
              "ru          ru                 26\n",
              "fr          ko                 24\n",
              "en          de                 22\n",
              "ru          en                 20\n",
              "zh          fr                 18\n",
              "en          ru                 14\n",
              "fr          zh                 12\n",
              "ar          ar                  6\n",
              "es          en                  6\n",
              "            fr                  6\n",
              "en          es                  6\n",
              "            ar                  4\n",
              "            hr                  4\n",
              "            pl                  2\n",
              "he          en                  2\n",
              "sr          sr                  2\n",
              "Name: count, dtype: int64"
            ],
            "text/html": [
              "<div>\n",
              "<style scoped>\n",
              "    .dataframe tbody tr th:only-of-type {\n",
              "        vertical-align: middle;\n",
              "    }\n",
              "\n",
              "    .dataframe tbody tr th {\n",
              "        vertical-align: top;\n",
              "    }\n",
              "\n",
              "    .dataframe thead th {\n",
              "        text-align: right;\n",
              "    }\n",
              "</style>\n",
              "<table border=\"1\" class=\"dataframe\">\n",
              "  <thead>\n",
              "    <tr style=\"text-align: right;\">\n",
              "      <th></th>\n",
              "      <th></th>\n",
              "      <th>count</th>\n",
              "    </tr>\n",
              "    <tr>\n",
              "      <th>title_land</th>\n",
              "      <th>abstract_land</th>\n",
              "      <th></th>\n",
              "    </tr>\n",
              "  </thead>\n",
              "  <tbody>\n",
              "    <tr>\n",
              "      <th>en</th>\n",
              "      <th>en</th>\n",
              "      <td>8297</td>\n",
              "    </tr>\n",
              "    <tr>\n",
              "      <th>zh</th>\n",
              "      <th>zh</th>\n",
              "      <td>7741</td>\n",
              "    </tr>\n",
              "    <tr>\n",
              "      <th>en</th>\n",
              "      <th>zh</th>\n",
              "      <td>6624</td>\n",
              "    </tr>\n",
              "    <tr>\n",
              "      <th>zh</th>\n",
              "      <th>en</th>\n",
              "      <td>6463</td>\n",
              "    </tr>\n",
              "    <tr>\n",
              "      <th>fr</th>\n",
              "      <th>en</th>\n",
              "      <td>226</td>\n",
              "    </tr>\n",
              "    <tr>\n",
              "      <th>de</th>\n",
              "      <th>en</th>\n",
              "      <td>128</td>\n",
              "    </tr>\n",
              "    <tr>\n",
              "      <th>en</th>\n",
              "      <th>fr</th>\n",
              "      <td>126</td>\n",
              "    </tr>\n",
              "    <tr>\n",
              "      <th>fr</th>\n",
              "      <th>fr</th>\n",
              "      <td>64</td>\n",
              "    </tr>\n",
              "    <tr>\n",
              "      <th>de</th>\n",
              "      <th>de</th>\n",
              "      <td>38</td>\n",
              "    </tr>\n",
              "    <tr>\n",
              "      <th>en</th>\n",
              "      <th>ko</th>\n",
              "      <td>34</td>\n",
              "    </tr>\n",
              "    <tr>\n",
              "      <th>ko</th>\n",
              "      <th>ko</th>\n",
              "      <td>29</td>\n",
              "    </tr>\n",
              "    <tr>\n",
              "      <th>de</th>\n",
              "      <th>fr</th>\n",
              "      <td>28</td>\n",
              "    </tr>\n",
              "    <tr>\n",
              "      <th>fr</th>\n",
              "      <th>de</th>\n",
              "      <td>28</td>\n",
              "    </tr>\n",
              "    <tr>\n",
              "      <th>ru</th>\n",
              "      <th>ru</th>\n",
              "      <td>26</td>\n",
              "    </tr>\n",
              "    <tr>\n",
              "      <th>fr</th>\n",
              "      <th>ko</th>\n",
              "      <td>24</td>\n",
              "    </tr>\n",
              "    <tr>\n",
              "      <th>en</th>\n",
              "      <th>de</th>\n",
              "      <td>22</td>\n",
              "    </tr>\n",
              "    <tr>\n",
              "      <th>ru</th>\n",
              "      <th>en</th>\n",
              "      <td>20</td>\n",
              "    </tr>\n",
              "    <tr>\n",
              "      <th>zh</th>\n",
              "      <th>fr</th>\n",
              "      <td>18</td>\n",
              "    </tr>\n",
              "    <tr>\n",
              "      <th>en</th>\n",
              "      <th>ru</th>\n",
              "      <td>14</td>\n",
              "    </tr>\n",
              "    <tr>\n",
              "      <th>fr</th>\n",
              "      <th>zh</th>\n",
              "      <td>12</td>\n",
              "    </tr>\n",
              "    <tr>\n",
              "      <th>ar</th>\n",
              "      <th>ar</th>\n",
              "      <td>6</td>\n",
              "    </tr>\n",
              "    <tr>\n",
              "      <th rowspan=\"2\" valign=\"top\">es</th>\n",
              "      <th>en</th>\n",
              "      <td>6</td>\n",
              "    </tr>\n",
              "    <tr>\n",
              "      <th>fr</th>\n",
              "      <td>6</td>\n",
              "    </tr>\n",
              "    <tr>\n",
              "      <th rowspan=\"4\" valign=\"top\">en</th>\n",
              "      <th>es</th>\n",
              "      <td>6</td>\n",
              "    </tr>\n",
              "    <tr>\n",
              "      <th>ar</th>\n",
              "      <td>4</td>\n",
              "    </tr>\n",
              "    <tr>\n",
              "      <th>hr</th>\n",
              "      <td>4</td>\n",
              "    </tr>\n",
              "    <tr>\n",
              "      <th>pl</th>\n",
              "      <td>2</td>\n",
              "    </tr>\n",
              "    <tr>\n",
              "      <th>he</th>\n",
              "      <th>en</th>\n",
              "      <td>2</td>\n",
              "    </tr>\n",
              "    <tr>\n",
              "      <th>sr</th>\n",
              "      <th>sr</th>\n",
              "      <td>2</td>\n",
              "    </tr>\n",
              "  </tbody>\n",
              "</table>\n",
              "</div><br><label><b>dtype:</b> int64</label>"
            ]
          },
          "metadata": {}
        }
      ]
    },
    {
      "cell_type": "code",
      "source": [
        "clean_patent_df = patent_df[(patent_df['title_land'] == 'en')*(patent_df['abstract_land'] == 'en')*(patent_df['w_count']>10)]\n"
      ],
      "metadata": {
        "id": "0smambXkUdtA"
      },
      "execution_count": 137,
      "outputs": []
    },
    {
      "cell_type": "code",
      "source": [
        "len(clean_patent_df)"
      ],
      "metadata": {
        "colab": {
          "base_uri": "https://localhost:8080/"
        },
        "id": "QOwHBtJaUh5r",
        "outputId": "f9f8952c-fcc9-49f7-a428-fff5e92b4917"
      },
      "execution_count": 138,
      "outputs": [
        {
          "output_type": "execute_result",
          "data": {
            "text/plain": [
              "8296"
            ]
          },
          "metadata": {},
          "execution_count": 138
        }
      ]
    },
    {
      "cell_type": "code",
      "source": [
        "# prompt: apply topic modeling on patent_df['total'] LDA\n",
        "# fined topic of each document\n",
        "\n",
        "import gensim\n",
        "from gensim.utils import simple_preprocess\n",
        "from gensim.parsing.preprocessing import STOPWORDS\n",
        "from gensim import corpora\n",
        "\n",
        "# Preprocess the text data\n",
        "def preprocess(text):\n",
        "    result = []\n",
        "    for token in simple_preprocess(text):\n",
        "        if token not in STOPWORDS and len(token) > 3:\n",
        "            result.append(token)\n",
        "    return result\n",
        "\n",
        "clean_patent_df['clean_total'] = clean_patent_df['total'].apply(preprocess)\n",
        "processed_docs = clean_patent_df['clean_total']\n",
        "\n",
        "# Create a dictionary and corpus\n",
        "dictionary = corpora.Dictionary(processed_docs)\n",
        "corpus = [dictionary.doc2bow(doc) for doc in processed_docs]\n",
        "\n",
        "# Apply LDA topic modeling\n",
        "lda_model = gensim.models.LdaMulticore(corpus=corpus, id2word=dictionary, num_topics=10, passes=2, workers=4)\n",
        "\n",
        "# Print the top words for each topic\n",
        "for idx, topic in lda_model.print_topics(-1):\n",
        "    print(f\"Topic: {idx} \\nWords: {topic}\\n\")\n",
        "\n",
        "# Find the dominant topic for each document\n",
        "for index, row in clean_patent_df.iterrows():\n",
        "    bow = dictionary.doc2bow(row['clean_total'])\n",
        "    dominant_topic = max(lda_model[bow], key=lambda item: item[1])\n",
        "    # print(f\"Document {index}: Dominant Topic - {dominant_topic}\")\n"
      ],
      "metadata": {
        "colab": {
          "base_uri": "https://localhost:8080/",
          "height": 269
        },
        "id": "6b35Mq2LUvfG",
        "outputId": "e2f5cd5f-a8cc-4051-ff91-4823827a6806"
      },
      "execution_count": 148,
      "outputs": [
        {
          "output_type": "error",
          "ename": "ValueError",
          "evalue": "numpy.dtype size changed, may indicate binary incompatibility. Expected 96 from C header, got 88 from PyObject",
          "traceback": [
            "\u001b[0;31m---------------------------------------------------------------------------\u001b[0m",
            "\u001b[0;31mValueError\u001b[0m                                Traceback (most recent call last)",
            "\u001b[0;32m<ipython-input-148-20247364acb5>\u001b[0m in \u001b[0;36m<cell line: 0>\u001b[0;34m()\u001b[0m\n\u001b[1;32m      2\u001b[0m \u001b[0;31m# fined topic of each document\u001b[0m\u001b[0;34m\u001b[0m\u001b[0;34m\u001b[0m\u001b[0m\n\u001b[1;32m      3\u001b[0m \u001b[0;34m\u001b[0m\u001b[0m\n\u001b[0;32m----> 4\u001b[0;31m \u001b[0;32mimport\u001b[0m \u001b[0mgensim\u001b[0m\u001b[0;34m\u001b[0m\u001b[0;34m\u001b[0m\u001b[0m\n\u001b[0m\u001b[1;32m      5\u001b[0m \u001b[0;32mfrom\u001b[0m \u001b[0mgensim\u001b[0m\u001b[0;34m.\u001b[0m\u001b[0mutils\u001b[0m \u001b[0;32mimport\u001b[0m \u001b[0msimple_preprocess\u001b[0m\u001b[0;34m\u001b[0m\u001b[0;34m\u001b[0m\u001b[0m\n\u001b[1;32m      6\u001b[0m \u001b[0;32mfrom\u001b[0m \u001b[0mgensim\u001b[0m\u001b[0;34m.\u001b[0m\u001b[0mparsing\u001b[0m\u001b[0;34m.\u001b[0m\u001b[0mpreprocessing\u001b[0m \u001b[0;32mimport\u001b[0m \u001b[0mSTOPWORDS\u001b[0m\u001b[0;34m\u001b[0m\u001b[0;34m\u001b[0m\u001b[0m\n",
            "\u001b[0;32m/usr/local/lib/python3.11/dist-packages/gensim/__init__.py\u001b[0m in \u001b[0;36m<module>\u001b[0;34m\u001b[0m\n\u001b[1;32m      9\u001b[0m \u001b[0;32mimport\u001b[0m \u001b[0mlogging\u001b[0m\u001b[0;34m\u001b[0m\u001b[0;34m\u001b[0m\u001b[0m\n\u001b[1;32m     10\u001b[0m \u001b[0;34m\u001b[0m\u001b[0m\n\u001b[0;32m---> 11\u001b[0;31m \u001b[0;32mfrom\u001b[0m \u001b[0mgensim\u001b[0m \u001b[0;32mimport\u001b[0m \u001b[0mparsing\u001b[0m\u001b[0;34m,\u001b[0m \u001b[0mcorpora\u001b[0m\u001b[0;34m,\u001b[0m \u001b[0mmatutils\u001b[0m\u001b[0;34m,\u001b[0m \u001b[0minterfaces\u001b[0m\u001b[0;34m,\u001b[0m \u001b[0mmodels\u001b[0m\u001b[0;34m,\u001b[0m \u001b[0msimilarities\u001b[0m\u001b[0;34m,\u001b[0m \u001b[0mutils\u001b[0m  \u001b[0;31m# noqa:F401\u001b[0m\u001b[0;34m\u001b[0m\u001b[0;34m\u001b[0m\u001b[0m\n\u001b[0m\u001b[1;32m     12\u001b[0m \u001b[0;34m\u001b[0m\u001b[0m\n\u001b[1;32m     13\u001b[0m \u001b[0;34m\u001b[0m\u001b[0m\n",
            "\u001b[0;32m/usr/local/lib/python3.11/dist-packages/gensim/corpora/__init__.py\u001b[0m in \u001b[0;36m<module>\u001b[0;34m\u001b[0m\n\u001b[1;32m      4\u001b[0m \u001b[0;34m\u001b[0m\u001b[0m\n\u001b[1;32m      5\u001b[0m \u001b[0;31m# bring corpus classes directly into package namespace, to save some typing\u001b[0m\u001b[0;34m\u001b[0m\u001b[0;34m\u001b[0m\u001b[0m\n\u001b[0;32m----> 6\u001b[0;31m \u001b[0;32mfrom\u001b[0m \u001b[0;34m.\u001b[0m\u001b[0mindexedcorpus\u001b[0m \u001b[0;32mimport\u001b[0m \u001b[0mIndexedCorpus\u001b[0m  \u001b[0;31m# noqa:F401 must appear before the other classes\u001b[0m\u001b[0;34m\u001b[0m\u001b[0;34m\u001b[0m\u001b[0m\n\u001b[0m\u001b[1;32m      7\u001b[0m \u001b[0;34m\u001b[0m\u001b[0m\n\u001b[1;32m      8\u001b[0m \u001b[0;32mfrom\u001b[0m \u001b[0;34m.\u001b[0m\u001b[0mmmcorpus\u001b[0m \u001b[0;32mimport\u001b[0m \u001b[0mMmCorpus\u001b[0m  \u001b[0;31m# noqa:F401\u001b[0m\u001b[0;34m\u001b[0m\u001b[0;34m\u001b[0m\u001b[0m\n",
            "\u001b[0;32m/usr/local/lib/python3.11/dist-packages/gensim/corpora/indexedcorpus.py\u001b[0m in \u001b[0;36m<module>\u001b[0;34m\u001b[0m\n\u001b[1;32m     12\u001b[0m \u001b[0;32mimport\u001b[0m \u001b[0mnumpy\u001b[0m\u001b[0;34m\u001b[0m\u001b[0;34m\u001b[0m\u001b[0m\n\u001b[1;32m     13\u001b[0m \u001b[0;34m\u001b[0m\u001b[0m\n\u001b[0;32m---> 14\u001b[0;31m \u001b[0;32mfrom\u001b[0m \u001b[0mgensim\u001b[0m \u001b[0;32mimport\u001b[0m \u001b[0minterfaces\u001b[0m\u001b[0;34m,\u001b[0m \u001b[0mutils\u001b[0m\u001b[0;34m\u001b[0m\u001b[0;34m\u001b[0m\u001b[0m\n\u001b[0m\u001b[1;32m     15\u001b[0m \u001b[0;34m\u001b[0m\u001b[0m\n\u001b[1;32m     16\u001b[0m \u001b[0mlogger\u001b[0m \u001b[0;34m=\u001b[0m \u001b[0mlogging\u001b[0m\u001b[0;34m.\u001b[0m\u001b[0mgetLogger\u001b[0m\u001b[0;34m(\u001b[0m\u001b[0m__name__\u001b[0m\u001b[0;34m)\u001b[0m\u001b[0;34m\u001b[0m\u001b[0;34m\u001b[0m\u001b[0m\n",
            "\u001b[0;32m/usr/local/lib/python3.11/dist-packages/gensim/interfaces.py\u001b[0m in \u001b[0;36m<module>\u001b[0;34m\u001b[0m\n\u001b[1;32m     17\u001b[0m \u001b[0;32mimport\u001b[0m \u001b[0mlogging\u001b[0m\u001b[0;34m\u001b[0m\u001b[0;34m\u001b[0m\u001b[0m\n\u001b[1;32m     18\u001b[0m \u001b[0;34m\u001b[0m\u001b[0m\n\u001b[0;32m---> 19\u001b[0;31m \u001b[0;32mfrom\u001b[0m \u001b[0mgensim\u001b[0m \u001b[0;32mimport\u001b[0m \u001b[0mutils\u001b[0m\u001b[0;34m,\u001b[0m \u001b[0mmatutils\u001b[0m\u001b[0;34m\u001b[0m\u001b[0;34m\u001b[0m\u001b[0m\n\u001b[0m\u001b[1;32m     20\u001b[0m \u001b[0;34m\u001b[0m\u001b[0m\n\u001b[1;32m     21\u001b[0m \u001b[0;34m\u001b[0m\u001b[0m\n",
            "\u001b[0;32m/usr/local/lib/python3.11/dist-packages/gensim/matutils.py\u001b[0m in \u001b[0;36m<module>\u001b[0;34m\u001b[0m\n\u001b[1;32m   1032\u001b[0m \u001b[0;32mtry\u001b[0m\u001b[0;34m:\u001b[0m\u001b[0;34m\u001b[0m\u001b[0;34m\u001b[0m\u001b[0m\n\u001b[1;32m   1033\u001b[0m     \u001b[0;31m# try to load fast, cythonized code if possible\u001b[0m\u001b[0;34m\u001b[0m\u001b[0;34m\u001b[0m\u001b[0m\n\u001b[0;32m-> 1034\u001b[0;31m     \u001b[0;32mfrom\u001b[0m \u001b[0mgensim\u001b[0m\u001b[0;34m.\u001b[0m\u001b[0m_matutils\u001b[0m \u001b[0;32mimport\u001b[0m \u001b[0mlogsumexp\u001b[0m\u001b[0;34m,\u001b[0m \u001b[0mmean_absolute_difference\u001b[0m\u001b[0;34m,\u001b[0m \u001b[0mdirichlet_expectation\u001b[0m\u001b[0;34m\u001b[0m\u001b[0;34m\u001b[0m\u001b[0m\n\u001b[0m\u001b[1;32m   1035\u001b[0m \u001b[0;34m\u001b[0m\u001b[0m\n\u001b[1;32m   1036\u001b[0m \u001b[0;32mexcept\u001b[0m \u001b[0mImportError\u001b[0m\u001b[0;34m:\u001b[0m\u001b[0;34m\u001b[0m\u001b[0;34m\u001b[0m\u001b[0m\n",
            "\u001b[0;32m/usr/local/lib/python3.11/dist-packages/gensim/_matutils.pyx\u001b[0m in \u001b[0;36minit gensim._matutils\u001b[0;34m()\u001b[0m\n",
            "\u001b[0;31mValueError\u001b[0m: numpy.dtype size changed, may indicate binary incompatibility. Expected 96 from C header, got 88 from PyObject"
          ]
        }
      ]
    },
    {
      "cell_type": "code",
      "source": [
        "def get_top_words_and_docs(lda_model, corpus, dictionary, num_topics=10, top_words=10, top_docs=5):\n",
        "    topic_results = []\n",
        "    for topic_idx in range(num_topics):\n",
        "        # Get top words for the topic\n",
        "        top_words_for_topic = [word for word, prob in lda_model.show_topic(topic_idx, top_words)]\n",
        "\n",
        "        # Get the documents with the highest probability for this topic\n",
        "        topic_document_probs = []  # List to store document probabilities for this topic\n",
        "        for doc_idx, doc_bow in enumerate(corpus):\n",
        "          for topic_prob_idx, topic_prob in lda_model[doc_bow]:\n",
        "            if topic_prob_idx == topic_idx:\n",
        "              topic_document_probs.append((doc_idx, topic_prob))\n",
        "              break  # Move on to next document\n",
        "\n",
        "        topic_document_probs.sort(key = lambda x: x[1], reverse=True)  # Sort in descending order based on probability\n",
        "\n",
        "        top_docs_for_topic = [doc_idx for doc_idx, _ in topic_document_probs[:top_docs]]\n",
        "\n",
        "\n",
        "        topic_results.append({\n",
        "            'topic_id': topic_idx,\n",
        "            'top_words': top_words_for_topic,\n",
        "            'top_documents': top_docs_for_topic\n",
        "        })\n",
        "    return topic_results\n",
        "\n",
        "\n",
        "topic_results = get_top_words_and_docs(lda_model, corpus, dictionary)\n",
        "document_indices = []\n",
        "for topic in topic_results:\n",
        "  print(f\"Topic {topic['topic_id']}:\")\n",
        "  print(\"Top Words:\", topic['top_words'])\n",
        "  print(\"Top Documents:\", topic['top_documents'])\n",
        "  document_indices.extend(topic['top_documents'])\n",
        "  print(\"-\"*20)\n"
      ],
      "metadata": {
        "id": "jwqq3LCAVFSO"
      },
      "execution_count": null,
      "outputs": []
    },
    {
      "cell_type": "code",
      "source": [
        "patent_df_selected_abstracts = clean_patent_df.iloc[document_indices]\n",
        "patent_df_selected_abstracts"
      ],
      "metadata": {
        "id": "zc_Nc9i-VGMY"
      },
      "execution_count": null,
      "outputs": []
    },
    {
      "cell_type": "code",
      "source": [
        "patent_df_selected_abstracts.to_csv('patent_df_selected_abstracts.csv',index=False)"
      ],
      "metadata": {
        "id": "ZvmAod7xVJAk"
      },
      "execution_count": null,
      "outputs": []
    },
    {
      "cell_type": "code",
      "source": [
        "def generate_qa_pairs(df, target_qa_pairs=43):\n",
        "    qa_pairs = []\n",
        "    for _ in range(target_qa_pairs):\n",
        "      for _, row in tqdm(df.iterrows()):\n",
        "          abstract = row['total']\n",
        "          prompt = f\"\"\"\n",
        "          You are a helpful assistant. Extract exactly 3 useful and meaningful question and answer pairs from the following text:\n",
        "\n",
        "\n",
        "          {abstract}\n",
        "\n",
        "\n",
        "          Return your answer in this JSON format:\n",
        "        [\n",
        "          {{\n",
        "            \"question\": \"Your first question?\",\n",
        "            \"answer\": \"The answer to the first question.\"\n",
        "          }},\n",
        "          {{\n",
        "            \"question\": \"Your second question?\",\n",
        "            \"answer\": \"The answer to the second question.\"\n",
        "          }},\n",
        "          {{\n",
        "            \"question\": \"Your third question?\",\n",
        "            \"answer\": \"The answer to the third question.\"\n",
        "          }}\n",
        "        ]\n",
        "          \"\"\"\n",
        "          # try:\n",
        "          response = client.chat.completions.create(\n",
        "            model=\"meta-llama/llama-3.2-3b-instruct\",\n",
        "            messages=[{\"role\": \"user\", \"content\": prompt}]\n",
        "          )\n",
        "\n",
        "          response_text = response.choices[0].message.content\n",
        "          json_block = extract_json_from_text(response_text)\n",
        "          if not json_block:\n",
        "              print(\"❌ Could not find JSON in response:\")\n",
        "              print(response_text)\n",
        "              continue\n",
        "\n",
        "          try:\n",
        "              qa_list = json.loads(json_block)\n",
        "              for qa in qa_list:\n",
        "                  qa_pairs.append({\n",
        "                      \"question\": qa[\"question\"],\n",
        "                      \"answer\": qa[\"answer\"],\n",
        "                      \"relevant_text\": abstract,\n",
        "                      \"title\": row[\"title\"],\n",
        "                      \"publication_date\": row[\"publication_date\"],\n",
        "                      \"inventor\": row[\"inventor\"]\n",
        "                  })\n",
        "          except json.JSONDecodeError:\n",
        "              print(\"❌ JSON parsing failed. Here's what the model returned:\")\n",
        "              print(json_block)\n",
        "              continue\n",
        "    return pd.DataFrame(qa_pairs)"
      ],
      "metadata": {
        "id": "OH2XPJzvVzkv"
      },
      "execution_count": null,
      "outputs": []
    },
    {
      "cell_type": "code",
      "source": [
        "patent_df_related = pd.read_csv('patent_df_selected_abstracts.csv')"
      ],
      "metadata": {
        "id": "FsHVyIqhV2EG"
      },
      "execution_count": null,
      "outputs": []
    },
    {
      "cell_type": "code",
      "source": [
        "patents_qa_df = generate_qa_pairs(patent_df_related, target_qa_pairs=4)"
      ],
      "metadata": {
        "id": "Vsm-v7LjV6JZ"
      },
      "execution_count": null,
      "outputs": []
    },
    {
      "cell_type": "code",
      "source": [
        "patents_qa_df"
      ],
      "metadata": {
        "id": "v_kkJKsgV83G"
      },
      "execution_count": null,
      "outputs": []
    },
    {
      "cell_type": "code",
      "source": [
        "patents_qa_df.to_csv('patents_qa_df_510.csv', index=False)"
      ],
      "metadata": {
        "id": "PbDPlMskWPLC"
      },
      "execution_count": null,
      "outputs": []
    },
    {
      "cell_type": "markdown",
      "source": [
        "## 4. QA Pair Classification"
      ],
      "metadata": {
        "id": "vvkwQ0aQ-ZYh"
      }
    },
    {
      "cell_type": "markdown",
      "source": [
        "After generating our QA pairs, our next step is to classify each question into a category. This categorization is essential to ensure that our QA pairs cover diverse aspects of cleantech, such as factual details, comparative market analysis, analytical explanations, government or corporate initiatives, and sustainability or technological innovations.\n",
        "\n",
        "For each generated QA pair, we want to automatically determine the most suitable category based on the question's content. We experimented with two methods:\n",
        "\n",
        "  -  A Rule-Based Approach:\n",
        "\n",
        "        This method involves defining a dictionary of categories along with associated keywords. For each question, we count the occurrences of each keyword corresponding to every category. The category with the highest score is assigned to the question.\n",
        "        It is easily interpretable since we can trace the category decision to keyword matches. However, it is limited flexibility if questions use synonyms or varied phrasing that is not in the keyword list.\n",
        "\n",
        "  - BERT Sentence Approach:\n",
        "    In this approach, we use a SentenceTransformer model to encode each generated question into an embedding vector. We then compare these embeddings to precomputed embeddings of category prototype texts (i.e., descriptions of what each category should capture) using cosine similarity. The category with the highest similarity score is assigned to the question.\n",
        "    In this approach, Tthe quality of classification heavily depends on the choice of the prototype texts and the underlying model.\n",
        "    We have evaluated both methods and found that the BERT sentence approach outperformed the rule-based method. For patent questions, we even experimented with replacing the  [all-MiniLM-L6-v2](https://huggingface.co/sentence-transformers/all-MiniLM-L6-v2) model with the [AI-Growth-Lab/PatentSBERTa](https://github.com/AI-Growth-Lab/PatentSBERTa) model, which gave even better results in capturing nuanced technical details.\n",
        "\n"
      ],
      "metadata": {
        "id": "eCIFvn5whmyR"
      }
    },
    {
      "cell_type": "markdown",
      "source": [
        "### The rule based approach"
      ],
      "metadata": {
        "id": "NcooxFr9BOry"
      }
    },
    {
      "cell_type": "code",
      "source": [
        "\n",
        "# solarindustry_qa_df, azocleantech_qa_df, solarindustry_patents_qa_df, azocleantech_patents_qa_df\n",
        "\n",
        "def classify_question_rule_based(question, categories):\n",
        "    question_lower = question.lower()\n",
        "    scores = {cat: 0 for cat in categories}\n",
        "    for cat, keywords in categories.items():\n",
        "        for kw in keywords:\n",
        "            if kw in question_lower:\n",
        "                scores[cat] += 1\n",
        "    return max(scores, key=scores.get)\n",
        "\n",
        "categories = {\n",
        "    \"Factual Questions\": [\"what\", \"when\", \"where\", \"who\", \"which\", \"fact\"],\n",
        "    \"Comparative & Market Analysis Questions\": [\"compare\", \"contrast\", \"market\", \"trend\", \"analysis\"],\n",
        "    \"Analytical & Explanatory Questions\": [\"why\", \"how\", \"explain\", \"impact\"],\n",
        "    \"Government & Corporate Initiatives\": [\"government\", \"policy\", \"corporate\", \"initiative\", \"regulation\"],\n",
        "    \"Sustainability & Technological Innovation Questions\": [\"sustainable\", \"innovation\", \"technology\", \"renewable\", \"eco-friendly\"]\n",
        "}\n",
        "\n",
        "def stack_and_categorize(dfs, categories):\n",
        "    df_combined = pd.concat(dfs, ignore_index=True)\n",
        "    df_combined['category'] = df_combined['question'].apply(lambda q: classify_question_rule_based(q, categories))\n",
        "    return df_combined\n",
        "\n",
        "\n"
      ],
      "metadata": {
        "id": "dA7QVlLL-LX6"
      },
      "execution_count": null,
      "outputs": []
    },
    {
      "cell_type": "code",
      "source": [
        "\n",
        "dfs = [solarindustrymag_qa_df, solarindustrymag_qa_df, solarindustry_patents_qa_df, azocleantech_patents_qa_df]\n",
        "\n",
        "df_categorized_rule_based = stack_and_categorize(dfs, categories)\n",
        "\n",
        "print(df_categorized_rule_based.head())"
      ],
      "metadata": {
        "id": "2OlLAAKP-4IS"
      },
      "execution_count": null,
      "outputs": []
    },
    {
      "cell_type": "markdown",
      "source": [
        "### The Sentence transformer approach"
      ],
      "metadata": {
        "id": "jsLU3OVVBUIR"
      }
    },
    {
      "cell_type": "markdown",
      "source": [
        "#### The all-MiniLM-L6-v2 approach"
      ],
      "metadata": {
        "id": "z2m8IZR-Bc8t"
      }
    },
    {
      "cell_type": "code",
      "source": [
        "from sentence_transformers import SentenceTransformer, util\n",
        "import torch\n",
        "\n",
        "prototypes = {\n",
        "    \"Factual Questions\": \"Questions that ask for specific facts or details.\",\n",
        "    \"Comparative & Market Analysis Questions\": \"Questions that compare options or analyze market trends.\",\n",
        "    \"Analytical & Explanatory Questions\": \"Questions that require detailed analysis or explanation.\",\n",
        "    \"Government & Corporate Initiatives\": \"Questions related to government policies or corporate initiatives.\",\n",
        "    \"Sustainability & Technological Innovation Questions\": \"Questions focusing on sustainability and innovative technology.\"\n",
        "}\n",
        "\n",
        "model = SentenceTransformer('all-MiniLM-L6-v2')\n",
        "\n",
        "prototype_texts = list(prototypes.values())\n",
        "prototype_labels = list(prototypes.keys())\n",
        "prototype_embeddings = model.encode(prototype_texts, convert_to_tensor=True)\n",
        "\n",
        "def classify_question_embedding(question: str) -> str:\n",
        "    \"\"\"\n",
        "    Classify a question into one of the five categories using cosine similarity\n",
        "    between its embedding and the precomputed prototype embeddings.\n",
        "    \"\"\"\n",
        "    question_embedding = model.encode(question, convert_to_tensor=True)\n",
        "    cosine_scores = util.cos_sim(question_embedding, prototype_embeddings)\n",
        "    best_idx = torch.argmax(cosine_scores).item()\n",
        "    return prototype_labels[best_idx]\n",
        "\n",
        "def stack_and_categorize(dfs: list) -> pd.DataFrame:\n",
        "    \"\"\"\n",
        "    Stack multiple DataFrames and add a new 'category' column by classifying each question.\n",
        "    \"\"\"\n",
        "    df_combined = pd.concat(dfs, ignore_index=True)\n",
        "    df_combined['category'] = df_combined['question'].apply(lambda q: classify_question_embedding(q))\n",
        "    return df_combined\n",
        "\n",
        "\n",
        "\n",
        "dfs = [\n",
        "    solarindustrymag_qa_df,\n",
        "    solarindustrymag_qa_df,\n",
        "    solarindustry_patents_qa_df,\n",
        "    azocleantech_patents_qa_df\n",
        "]\n",
        "\n",
        "df_categorized_sentence_bert = stack_and_categorize(dfs)\n"
      ],
      "metadata": {
        "id": "cyQHUEOX-4GJ"
      },
      "execution_count": null,
      "outputs": []
    },
    {
      "cell_type": "code",
      "source": [
        "df_categorized_sentence_bert"
      ],
      "metadata": {
        "id": "A_4YCWdh_kD2"
      },
      "execution_count": null,
      "outputs": []
    },
    {
      "cell_type": "markdown",
      "source": [
        "#### The AI-Growth-Lab/PatentSBERTa approach"
      ],
      "metadata": {
        "id": "-pBltQFkBh5l"
      }
    },
    {
      "cell_type": "code",
      "source": [
        "\n",
        "model = SentenceTransformer('AI-Growth-Lab/PatentSBERTa')\n",
        "\n",
        "prototype_texts = list(prototypes.values())\n",
        "prototype_labels = list(prototypes.keys())\n",
        "prototype_embeddings = model.encode(prototype_texts, convert_to_tensor=True)\n",
        "\n",
        "\n",
        "df_categorized_patent_sentence_bert = stack_and_categorize(dfs)\n",
        "\n"
      ],
      "metadata": {
        "id": "cDHyvvswDLJ0"
      },
      "execution_count": null,
      "outputs": []
    },
    {
      "cell_type": "markdown",
      "source": [
        "### Visualizing and Comparing Classification Approaches\n",
        "\n",
        "After classifying our QA pairs, we plotted the number of questions in each category to evaluate how well each approach captured the variety of question types.\n",
        "\n",
        "  1. Rule-Based Approach\n",
        "  The rule-based approach appears biased toward Factual Questions because it heavily relies on keyword matching. When questions do not contain the keywords associated with the other categories, they are often labeled as factual by default.\n",
        "\n",
        "  2. BERT Sentence Approach\n",
        "  The BERT based semantic classification captures more nuance and distributes questions more evenly across multiple categories. It identifies many questions about sustainability and technological innovation highlighting how semantic embeddings can detect relevant context even if explicit keywords are missing.\n",
        "\n",
        "  3. Patent-Specific BERT Model (PatentSBERTa)\n",
        "  Because PatentSBERTa is fine-tuned for patent text, it performs even better at placing technical questions into the correct categories. This is especially important for recognizing subtle phrases and context in patent abstracts.\n",
        "\n",
        "\n",
        "We decided to go with the Bert approach for classifying all QA pairs, ensuring more nuanced and reliable coverage of the different cleantech question types."
      ],
      "metadata": {
        "id": "x9wRyYT1FMRx"
      }
    },
    {
      "cell_type": "code",
      "source": [
        "import matplotlib.pyplot as plt\n",
        "import seaborn as sns"
      ],
      "metadata": {
        "id": "rvnp1XoYAk_j"
      },
      "execution_count": null,
      "outputs": []
    },
    {
      "cell_type": "code",
      "source": [
        "categories_rule_based = df_categorized_rule_based['category'].value_counts()\n"
      ],
      "metadata": {
        "id": "Qy8Yd1_yAQxs"
      },
      "execution_count": null,
      "outputs": []
    },
    {
      "cell_type": "code",
      "source": [
        "barplot = sns.barplot(\n",
        "    x=categories_rule_based.values,\n",
        "    y=categories_rule_based.index,\n",
        "    hue=categories_rule_based.index\n",
        ")\n",
        "\n",
        "barplot.set_title('Question Count by Categories')\n",
        "barplot.set_xlabel('Question Count')\n",
        "barplot.set_ylabel('Category')\n",
        "\n",
        "plt.show()"
      ],
      "metadata": {
        "id": "Lhvnc02HAQvP"
      },
      "execution_count": null,
      "outputs": []
    },
    {
      "cell_type": "code",
      "source": [
        "categories_sentence_bert = df_categorized_sentence_bert['category'].value_counts()\n",
        "\n",
        "barplot = sns.barplot(\n",
        "    x=categories_sentence_bert.values,\n",
        "    y=categories_sentence_bert.index,\n",
        "    hue=categories_sentence_bert.index\n",
        ")\n",
        "\n",
        "barplot.set_title('Question Count by Categories')\n",
        "barplot.set_xlabel('Question Count')\n",
        "barplot.set_ylabel('Category')\n",
        "\n",
        "plt.show()"
      ],
      "metadata": {
        "id": "W8jR21kHAQsd"
      },
      "execution_count": null,
      "outputs": []
    },
    {
      "cell_type": "code",
      "source": [
        "categories_patent_bert = df_categorized_patent_sentence_bert['category'].value_counts()\n",
        "\n",
        "barplot = sns.barplot(\n",
        "    x=categories_patent_bert.values,\n",
        "    y=categories_patent_bert.index,\n",
        "    hue=categories_patent_bert.index\n",
        ")\n",
        "\n",
        "barplot.set_title('Question Count by Categories')\n",
        "barplot.set_xlabel('Question Count')\n",
        "barplot.set_ylabel('Category')\n",
        "\n",
        "plt.show()"
      ],
      "metadata": {
        "id": "PCspcjqpEoOF"
      },
      "execution_count": null,
      "outputs": []
    },
    {
      "cell_type": "markdown",
      "source": [
        "## The QAs pairs are divided in these questions categories:\n",
        "\n",
        "- Factual Questions\n",
        "\n",
        "- Comparative & Market Analysis Questions\n",
        "\n",
        "- Analytical & Explanatory Questions\n",
        "\n",
        "- Government & Corporate Initiatives\n",
        "\n",
        "- Sustainability & Technological Innovation Questions\n",
        "\n"
      ],
      "metadata": {
        "id": "b9emaVDkYBOG"
      }
    },
    {
      "cell_type": "markdown",
      "source": [
        "### Factual Questions"
      ],
      "metadata": {
        "id": "5OuFA2f9YPYW"
      }
    },
    {
      "cell_type": "markdown",
      "source": [
        "Factual Questions: Ask for concrete details or definitions (e.g., “What is…”)."
      ],
      "metadata": {
        "id": "niEwds-Y7lWR"
      }
    },
    {
      "cell_type": "code",
      "source": [
        "factual_questions = df_categorized_sentence_bert[df_categorized_sentence_bert['category'] == 'Factual Questions']['question'].tolist()\n",
        "factual_df = df_categorized_sentence_bert[df_categorized_sentence_bert['category'] == 'Factual Questions']\n"
      ],
      "metadata": {
        "id": "Ulklv_ix7m4J"
      },
      "execution_count": null,
      "outputs": []
    },
    {
      "cell_type": "code",
      "source": [
        "show_questions(\"Factual Questions\", factual_questions)\n"
      ],
      "metadata": {
        "id": "Y0viLYIZLIAq"
      },
      "execution_count": null,
      "outputs": []
    },
    {
      "cell_type": "code",
      "source": [
        "plot_character_distribution(factual_df)\n",
        "plot_word_distribution(factual_df)\n",
        "plot_gpt4_token_distribution(factual_df)\n",
        "plot_non_stopword_token_distribution(factual_df)"
      ],
      "metadata": {
        "id": "dy-FdFF5NX1p"
      },
      "execution_count": null,
      "outputs": []
    },
    {
      "cell_type": "markdown",
      "source": [
        "### Comparative & Market Analysis Questions"
      ],
      "metadata": {
        "id": "tiVRRNCYYSzg"
      }
    },
    {
      "cell_type": "markdown",
      "source": [
        "Involve comparing cleantech technologies or approaches (e.g., “What are the differences between…”)."
      ],
      "metadata": {
        "id": "s93NfU6T7qiA"
      }
    },
    {
      "cell_type": "code",
      "source": [
        "Comparative_Market_Analysis_Questions = df_categorized_sentence_bert[df_categorized_sentence_bert['category'] == 'Comparative & Market Analysis Questions']['question'].tolist()\n",
        "Comparative_Market_Analysis_df = df_categorized_sentence_bert[df_categorized_sentence_bert['category'] == 'Comparative & Market Analysis Questions']\n"
      ],
      "metadata": {
        "id": "fniugFMg7rhR"
      },
      "execution_count": null,
      "outputs": []
    },
    {
      "cell_type": "code",
      "source": [
        "show_questions(\"Comparative & Market Analysis Questions\", Comparative_Market_Analysis_Questions)\n"
      ],
      "metadata": {
        "id": "Pm09nbO9FWmi"
      },
      "execution_count": null,
      "outputs": []
    },
    {
      "cell_type": "code",
      "source": [
        "plot_character_distribution(Comparative_Market_Analysis_df)\n",
        "plot_word_distribution(Comparative_Market_Analysis_df)\n",
        "plot_gpt4_token_distribution(Comparative_Market_Analysis_df)\n",
        "plot_non_stopword_token_distribution(Comparative_Market_Analysis_df)"
      ],
      "metadata": {
        "id": "9OCJLuSpNd8R"
      },
      "execution_count": null,
      "outputs": []
    },
    {
      "cell_type": "markdown",
      "source": [
        "### Analytical & Explanatory Questions"
      ],
      "metadata": {
        "id": "f4TwYtXeYjls"
      }
    },
    {
      "cell_type": "markdown",
      "source": [
        "equire reasoning or explanation (e.g., “How does…”)."
      ],
      "metadata": {
        "id": "RofBe6jP8Kc_"
      }
    },
    {
      "cell_type": "code",
      "source": [
        "Analytical_Explanatory_Questions = df_categorized_sentence_bert[df_categorized_sentence_bert['category'] == 'Analytical & Explanatory Questions']['question'].tolist()\n",
        "Analytical_Explanatory_Questions_df = df_categorized_sentence_bert[df_categorized_sentence_bert['category'] == 'Analytical & Explanatory Questions']"
      ],
      "metadata": {
        "id": "R50i7Ce98L3i"
      },
      "execution_count": null,
      "outputs": []
    },
    {
      "cell_type": "code",
      "source": [
        "show_questions(\"Analytical & Explanatory Questions\", Analytical_Explanatory_Questions)\n"
      ],
      "metadata": {
        "id": "SAJJRd-Z8L1R"
      },
      "execution_count": null,
      "outputs": []
    },
    {
      "cell_type": "code",
      "source": [
        "plot_character_distribution(Analytical_Explanatory_Questions_df)\n",
        "plot_word_distribution(Analytical_Explanatory_Questions_df)\n",
        "plot_gpt4_token_distribution(Analytical_Explanatory_Questions_df)\n",
        "plot_non_stopword_token_distribution(Analytical_Explanatory_Questions_df)"
      ],
      "metadata": {
        "id": "AHsSuyay8Luf"
      },
      "execution_count": null,
      "outputs": []
    },
    {
      "cell_type": "markdown",
      "source": [
        "\n",
        "\n",
        "### Government & Corporate Initiatives"
      ],
      "metadata": {
        "id": "LZSVFibBYmy9"
      }
    },
    {
      "cell_type": "markdown",
      "source": [],
      "metadata": {
        "id": "TkVYPAsq8MlA"
      }
    },
    {
      "cell_type": "code",
      "source": [
        "Government_Corporate_Initiatives = df_categorized_sentence_bert[df_categorized_sentence_bert['category'] == 'Government & Corporate Initiatives']['question'].tolist()\n",
        "Government_Corporate_Initiatives_df = df_categorized_sentence_bert[df_categorized_sentence_bert['category'] == 'Government & Corporate Initiatives']"
      ],
      "metadata": {
        "id": "8kBJzWt98NaD"
      },
      "execution_count": null,
      "outputs": []
    },
    {
      "cell_type": "code",
      "source": [
        "show_questions(\"Government & Corporate Initiatives\", Government_Corporate_Initiatives)\n"
      ],
      "metadata": {
        "id": "D1e6VMPb8NTQ"
      },
      "execution_count": null,
      "outputs": []
    },
    {
      "cell_type": "code",
      "source": [
        "plot_character_distribution(Government_Corporate_Initiatives_df)\n",
        "plot_word_distribution(Government_Corporate_Initiatives_df)\n",
        "plot_gpt4_token_distribution(Government_Corporate_Initiatives_df)\n",
        "plot_non_stopword_token_distribution(Government_Corporate_Initiatives_df)"
      ],
      "metadata": {
        "id": "AoUg6CnrNwmB"
      },
      "execution_count": null,
      "outputs": []
    },
    {
      "cell_type": "markdown",
      "source": [
        "### Sustainability & Technological Innovation Questions"
      ],
      "metadata": {
        "id": "q1mk4EZGYmww"
      }
    },
    {
      "cell_type": "code",
      "source": [
        "Sustainability_Technological_Innovation_Questions = df_categorized_sentence_bert[df_categorized_sentence_bert['category'] == 'Sustainability & Technological Innovation Questions']['question'].tolist()\n",
        "Sustainability_Technological_Innovation_Questions_df = df_categorized_sentence_bert[df_categorized_sentence_bert['category'] == 'Sustainability & Technological Innovation Questions']"
      ],
      "metadata": {
        "id": "Xplx_dbgYsgH"
      },
      "execution_count": null,
      "outputs": []
    },
    {
      "cell_type": "code",
      "source": [
        "show_questions(\"Sustainability & Technological Innovation Questions\", Sustainability_Technological_Innovation_Questions)\n"
      ],
      "metadata": {
        "id": "tfNzv3CtZ8-V"
      },
      "execution_count": null,
      "outputs": []
    },
    {
      "cell_type": "code",
      "source": [
        "plot_character_distribution(Sustainability_Technological_Innovation_Questions_df)\n",
        "plot_word_distribution(Sustainability_Technological_Innovation_Questions_df)\n",
        "plot_gpt4_token_distribution(Sustainability_Technological_Innovation_Questions_df)\n",
        "plot_non_stopword_token_distribution(Sustainability_Technological_Innovation_Questions_df)"
      ],
      "metadata": {
        "id": "wVgvwoNBezsk"
      },
      "execution_count": null,
      "outputs": []
    },
    {
      "cell_type": "code",
      "source": [],
      "metadata": {
        "id": "bR_RioFvZOmE"
      },
      "execution_count": null,
      "outputs": []
    },
    {
      "cell_type": "markdown",
      "source": [
        "## 5. Setup critique agents"
      ],
      "metadata": {
        "id": "2kOdjs3kidL0"
      }
    },
    {
      "cell_type": "markdown",
      "source": [
        "The questions generated by our LLM may exhibit various flaws. For instance, some questions might lack sufficient context to be answered accurately, and others may depend too much on the original document context, making them unclear when viewed in isolation.\n",
        "\n",
        "To address this, we build critique agents—automated evaluators that rate each QA pair on three key criteria:\n",
        "\n",
        "  - Groundedness:\n",
        "  Can the question be answered unambiguously given the provided context?\n",
        "\n",
        "  - Relevance:\n",
        "  Is the question useful to machine learning developers building NLP applications?\n",
        "  (For example, a question like “What is the date when transformers 4.29.1 was released?” is not very relevant.)\n",
        "\n",
        "  - Standalone Clarity:\n",
        "  Does the question make sense on its own without requiring additional context?\n",
        "  (A question that refers implicitly to a specific setting without clarification would score poorly here.)\n",
        "\n",
        "These criteria are inspired by the evaluation methods described in this [paper](https://arxiv.org/abs/2312.10003). To obtain a reliable judgment, we prompt the LLM with instructions that ask for not only a numerical score (on a scale from 1 to 5) but also a detailed rationale for that score. Providing the rationale helps verify the scoring process and gives the model additional tokens to “think” about the answer before summarizing it.\n",
        "\n",
        "Below is the code that sets up the critique agents and applies them to our generated QA pairs."
      ],
      "metadata": {
        "id": "gPTNfnpjln1o"
      }
    },
    {
      "cell_type": "code",
      "source": [
        "media_qa = pd.read_csv(\"/content/drive/MyDrive/SwissText SharedTask/merged_media_qa_pairs.csv\")\n",
        "patent_qa = pd.read_csv(\"/content/drive/MyDrive/SwissText SharedTask/patent_dataset_qa_pairs.csv\")"
      ],
      "metadata": {
        "id": "VAZ2HRgTZO6t"
      },
      "execution_count": null,
      "outputs": []
    },
    {
      "cell_type": "markdown",
      "source": [
        "### Merge the 2 datasets and categorize the questions"
      ],
      "metadata": {
        "id": "nZxkP5wnHxI4"
      }
    },
    {
      "cell_type": "code",
      "source": [
        "\n",
        "dfs = [\n",
        "    media_qa,\n",
        "    patent_qa\n",
        "]\n",
        "\n",
        "df_categorized_sentence_bert = stack_and_categorize(dfs)\n"
      ],
      "metadata": {
        "id": "OUqNnPeTc4Uk"
      },
      "execution_count": null,
      "outputs": []
    },
    {
      "cell_type": "code",
      "source": [
        "df_categorized_sentence_bert.to_csv('QA_pairs_categorized.csv')"
      ],
      "metadata": {
        "id": "iUJF2aBmfUTn"
      },
      "execution_count": null,
      "outputs": []
    },
    {
      "cell_type": "code",
      "source": [
        "# convert the df to langchain document\n",
        "outputs = [LangchainDocument(page_content=row['relevant_text'], metadata =\n",
        " {'question':row['question'],'answer':row['answer'], 'category':row['category'], 'title':row['title'],'url':row['article_url']})\n",
        " for idx, row in df_categorized_sentence_bert.iterrows()]\n"
      ],
      "metadata": {
        "id": "K5w7hZslegKx"
      },
      "execution_count": null,
      "outputs": []
    },
    {
      "cell_type": "code",
      "source": [
        "outputs = []\n",
        "for idx, row in df_categorized_sentence_bert.iterrows():\n",
        "    outputs.append({\n",
        "        \"context\": row['relevant_text'],\n",
        "        \"question\": row['question'],\n",
        "        \"answer\": row['answer'],\n",
        "        \"source_doc\": row['article_url'],\n",
        "        \"category\": row[\"category\"]\n",
        "    })\n"
      ],
      "metadata": {
        "id": "N__Lns9ZyF09"
      },
      "execution_count": null,
      "outputs": []
    },
    {
      "cell_type": "code",
      "source": [
        "len(outputs)"
      ],
      "metadata": {
        "id": "QR-JDD6PfMU2"
      },
      "execution_count": null,
      "outputs": []
    },
    {
      "cell_type": "code",
      "source": [
        "def remove_dublicates(outputs):\n",
        "  seen_content = {}\n",
        "  unique_outputs = []\n",
        "  for doc in outputs:\n",
        "      content_question_pair = (doc['context'], doc['question'])\n",
        "      # content_question_pair = (doc.page_content, doc.metadata['question'])\n",
        "      if content_question_pair not in seen_content:\n",
        "                seen_content[content_question_pair] = True\n",
        "                unique_outputs.append(doc)\n",
        "\n",
        "  return unique_outputs\n",
        "\n",
        "outputs = remove_dublicates(outputs)"
      ],
      "metadata": {
        "id": "3JPjK2cAeZLr"
      },
      "execution_count": null,
      "outputs": []
    },
    {
      "cell_type": "code",
      "source": [
        "len(outputs)"
      ],
      "metadata": {
        "id": "YFnkjkasfOq9"
      },
      "execution_count": null,
      "outputs": []
    },
    {
      "cell_type": "markdown",
      "source": [
        "### Critique promts for evaluation"
      ],
      "metadata": {
        "id": "sA0Kby95H5nE"
      }
    },
    {
      "cell_type": "code",
      "source": [
        "question_groundedness_critique_prompt = \"\"\"\n",
        "You will be given a context and a question.\n",
        "Your task is to provide a 'total rating' scoring how well one can answer the given question unambiguously with the given context.\n",
        "Give your answer on a scale of 1 to 5, where 1 means that the question is not answerable at all given the context, and 5 means that the question is clearly and unambiguously answerable with the context.\n",
        "\n",
        "Provide your answer as follows:\n",
        "\n",
        "Answer:::\n",
        "Evaluation: (your rationale for the rating, as a text)\n",
        "Total rating: (your rating, as a number between 1 and 5)\n",
        "\n",
        "You MUST provide values for 'Evaluation:' and 'Total rating:' in your answer.\n",
        "\n",
        "Now here are the question and context.\n",
        "\n",
        "Question: {question}\\n\n",
        "Context: {context}\\n\n",
        "Answer::: \"\"\"\n",
        "\n",
        "question_relevance_critique_prompt = \"\"\"\n",
        "You will be given a question.\n",
        "Your task is to provide a 'total rating' representing how useful this question can be to machine learning developers building NLP applications with the Hugging Face ecosystem.\n",
        "Give your answer on a scale of 1 to 5, where 1 means that the question is not useful at all, and 5 means that the question is extremely useful.\n",
        "\n",
        "Provide your answer as follows:\n",
        "\n",
        "Answer:::\n",
        "Evaluation: (your rationale for the rating, as a text)\n",
        "Total rating: (your rating, as a number between 1 and 5)\n",
        "\n",
        "You MUST provide values for 'Evaluation:' and 'Total rating:' in your answer.\n",
        "\n",
        "Now here is the question.\n",
        "\n",
        "Question: {question}\\n\n",
        "Answer::: \"\"\"\n",
        "\n",
        "question_standalone_critique_prompt = \"\"\"\n",
        "You will be given a question.\n",
        "Your task is to provide a 'total rating' representing how context-independent this question is.\n",
        "Give your answer on a scale of 1 to 5, where 1 means that the question depends on additional information to be understood, and 5 means that the question makes sense by itself.\n",
        "For instance, if the question refers to a particular setting, like 'in the context' or 'in the document', the rating must be 1.\n",
        "The questions can contain obscure technical nouns or acronyms like Gradio, Hub, Hugging Face or Space and still be a 5: it must simply be clear to an operator with access to documentation what the question is about.\n",
        "\n",
        "For instance, \"What is the name of the checkpoint from which the ViT model is imported?\" should receive a 1, since there is an implicit mention of a context, thus the question is not independent from the context.\n",
        "\n",
        "Provide your answer as follows:\n",
        "\n",
        "Answer:::\n",
        "Evaluation: (your rationale for the rating, as a text)\n",
        "Total rating: (your rating, as a number between 1 and 5)\n",
        "\n",
        "You MUST provide values for 'Evaluation:' and 'Total rating:' in your answer.\n",
        "\n",
        "Now here is the question.\n",
        "\n",
        "Question: {question}\\n\n",
        "Answer::: \"\"\""
      ],
      "metadata": {
        "id": "R10cxlceeR1H"
      },
      "execution_count": null,
      "outputs": []
    },
    {
      "cell_type": "code",
      "source": [
        "import re\n",
        "\n",
        "# Pattern to capture evaluation text and score:\n",
        "pattern = re.compile(\n",
        "    r\"Evaluation:\\s*(.*?)\\s*Total rating:\\s*(\\d+)\",\n",
        "    re.DOTALL,\n",
        ")\n"
      ],
      "metadata": {
        "id": "8xhI-XF_bdGV"
      },
      "execution_count": null,
      "outputs": []
    },
    {
      "cell_type": "code",
      "source": [
        "from openai import OpenAI\n",
        "\n",
        "client = OpenAI(\n",
        "  base_url=\"https://openrouter.ai/api/v1\",\n",
        "  api_key=\"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\",\n",
        ")\n",
        "\n",
        "def call_llm(client: OpenAI, prompt: str):\n",
        "    completion = client.chat.completions.create(\n",
        "    extra_body={},\n",
        "    model=\"meta-llama/llama-3.2-3b-instruct\",\n",
        "      # model=\"meta-llama/llama-3.2-3b-instruct:free\",\n",
        "    messages=[\n",
        "      {\n",
        "        \"role\": \"user\",\n",
        "        \"content\": prompt\n",
        "      }\n",
        "    ]\n",
        "  )\n",
        "    if not completion.choices:\n",
        "      print(completion)\n",
        "      return None\n",
        "    return completion.choices[0].message.content\n",
        "\n",
        "# result = call_llm(client, \"This is a  context\")\n",
        "# print(result)\n"
      ],
      "metadata": {
        "id": "GwngHRT6fX1a"
      },
      "execution_count": null,
      "outputs": []
    },
    {
      "cell_type": "code",
      "source": [
        "def create_eval(outputs):\n",
        "    tests = []\n",
        "    for i in range(0, len(outputs), 100):\n",
        "      for output in tqdm(outputs[i:i+100]):\n",
        "        eval_result = {\n",
        "            \"context\": output[\"context\"],\n",
        "            \"question\": output[\"question\"],\n",
        "            \"answer\": output[\"answer\"],\n",
        "            \"source_doc\": output[\"source_doc\"],\n",
        "            \"category\": output[\"category\"],\n",
        "        }\n",
        "\n",
        "        evaluations = {\n",
        "            \"groundedness\": call_llm(\n",
        "                client,\n",
        "                question_groundedness_critique_prompt.format(\n",
        "                    context=output[\"context\"], question=output[\"question\"]\n",
        "                ),\n",
        "            ),\n",
        "            \"relevance\": call_llm(\n",
        "                client,\n",
        "                question_relevance_critique_prompt.format(question=output[\"question\"]),\n",
        "            ),\n",
        "            \"standalone\": call_llm(\n",
        "                client,\n",
        "                question_standalone_critique_prompt.format(question=output[\"question\"]),\n",
        "            ),\n",
        "        }\n",
        "\n",
        "        for criterion, evaluation in evaluations.items():\n",
        "            match = pattern.search(evaluation)\n",
        "            if match:\n",
        "                eval_text = match.group(1).strip()\n",
        "                score = int(match.group(2).strip())\n",
        "                eval_result[f\"{criterion}_score\"] = score\n",
        "                eval_result[f\"{criterion}_eval\"] = eval_text\n",
        "            else:\n",
        "                print(f\"{criterion} evaluation did not match:\")\n",
        "                print(evaluation)\n",
        "                continue\n",
        "\n",
        "        tests.append(eval_result)\n",
        "\n",
        "    return pd.DataFrame.from_dict(tests)\n"
      ],
      "metadata": {
        "id": "7gaI3tacfadW"
      },
      "execution_count": null,
      "outputs": []
    },
    {
      "cell_type": "code",
      "source": [
        "results = []"
      ],
      "metadata": {
        "id": "UrQdFvbiMmMC"
      },
      "execution_count": null,
      "outputs": []
    },
    {
      "cell_type": "code",
      "source": [
        "print(\"Generating critique for each QA couple...\")\n",
        "for i in range(0, len(outputs), 100):\n",
        "  for output in tqdm(outputs[i:i+100]):\n",
        "    eval_result = {\n",
        "        \"context\": output[\"context\"],\n",
        "        \"question\": output[\"question\"],\n",
        "        \"answer\": output[\"answer\"],\n",
        "        \"source_doc\": output[\"source_doc\"],\n",
        "        \"category\": output[\"category\"],\n",
        "    }\n",
        "\n",
        "    evaluations = {\n",
        "        \"groundedness\": call_llm(\n",
        "            client,\n",
        "            question_groundedness_critique_prompt.format(\n",
        "                context=output[\"context\"], question=output[\"question\"]\n",
        "            ),\n",
        "        ),\n",
        "        \"relevance\": call_llm(\n",
        "            client,\n",
        "            question_relevance_critique_prompt.format(question=output[\"question\"]),\n",
        "        ),\n",
        "        \"standalone\": call_llm(\n",
        "            client,\n",
        "            question_standalone_critique_prompt.format(question=output[\"question\"]),\n",
        "        ),\n",
        "    }\n",
        "\n",
        "    for criterion, evaluation in evaluations.items():\n",
        "        match = pattern.search(evaluation)\n",
        "        if match:\n",
        "            eval_text = match.group(1).strip()\n",
        "            score = int(match.group(2).strip())\n",
        "            eval_result[f\"{criterion}_score\"] = score\n",
        "            eval_result[f\"{criterion}_eval\"] = eval_text\n",
        "        else:\n",
        "            print(f\"{criterion} evaluation did not match:\")\n",
        "            print(evaluation)\n",
        "            continue\n",
        "\n",
        "    results.append(eval_result)\n",
        "\n",
        "generated_questions = pd.DataFrame.from_dict(results)\n",
        "generated_questions.to_csv('QA_cleaned')\n"
      ],
      "metadata": {
        "id": "vdboWGGYfa3X"
      },
      "execution_count": null,
      "outputs": []
    },
    {
      "cell_type": "code",
      "source": [
        "generated_questions.to_csv('QA_cleaned.csv')\n"
      ],
      "metadata": {
        "id": "Yxl2xqksoWbm"
      },
      "execution_count": null,
      "outputs": []
    },
    {
      "cell_type": "code",
      "source": [
        "len(generated_questions)"
      ],
      "metadata": {
        "id": "PottnFVcoefu"
      },
      "execution_count": null,
      "outputs": []
    },
    {
      "cell_type": "markdown",
      "source": [
        "## 6. Filtering & Quality Control"
      ],
      "metadata": {
        "id": "-91CO5JLilm1"
      }
    },
    {
      "cell_type": "markdown",
      "source": [
        "After running our QA pairs through the LLM-based critique agents, we now have scores for each question on three key criteria: groundedness, relevance, and standalone clarity. In this step, we filter out the QA pairs that score below our threshold in any of these criteria. The following code displays the evaluation metrics before filtering and then retains only those questions that score at least 3 on each criterion.\n",
        "\n",
        "In our evaluation, we began with a total of 694 QA pairs. After applying our filtering criteria—removing any pair that scored below 3 in groundedness, relevance, or standalone clarity—only 86 QA pairs remained. This significant reduction indicates that many generated QA pairs did not meet our quality standards. Such a high attrition rate may be due to the limitations of the generation process, where some questions might be ambiguous, not contextually grounded, or overly dependent on the source text. It could also reflect the sensitivity of our evaluation prompts and the complexity of the cleantech domain, particularly in technical patent contexts.\n",
        "\n",
        "Although retaining only 86 out of 694 QA pairs might seem drastic, this rigorous filtering ensures that our final dataset contains only high-quality, reliable questions. By using only the top-performing QA pairs, we significantly reduce noise in our dataset, thereby establishing a robust foundation for subsequent stages of our RAG system. Ultimately, while the filtering process discards a large portion of the initially generated pairs, it enhances the overall quality, making our downstream tasks more efficient and effective."
      ],
      "metadata": {
        "id": "6MXXVV9AfpK5"
      }
    },
    {
      "cell_type": "code",
      "source": [
        "# generated_questions = pd.read_csv(\"/content/drive/MyDrive/SwissText SharedTask/QA_cleaned.csv\")"
      ],
      "metadata": {
        "id": "ubTIej-Yx7tr"
      },
      "execution_count": null,
      "outputs": []
    },
    {
      "cell_type": "code",
      "source": [
        "import pandas as pd\n",
        "\n",
        "pd.set_option(\"display.max_colwidth\", None)\n",
        "\n",
        "def eval_qa_pairs(generated_questions):\n",
        "\n",
        "  print(\"Evaluation dataset before filtering:\")\n",
        "  display(\n",
        "      generated_questions[\n",
        "          [\n",
        "              \"question\",\n",
        "              \"answer\",\n",
        "              \"groundedness_score\",\n",
        "              'groundedness_eval',\n",
        "              \"relevance_score\",\n",
        "              \"relevance_eval\",\n",
        "              \"standalone_score\",\n",
        "              \"standalone_eval\",\n",
        "          ]\n",
        "      ]\n",
        "  )\n",
        "  generated_questions_cleaned = generated_questions.loc[\n",
        "      (generated_questions[\"groundedness_score\"] >= 3)\n",
        "      & (generated_questions[\"relevance_score\"] >= 3)\n",
        "      & (generated_questions[\"standalone_score\"] >= 3)\n",
        "  ]\n",
        "  print(\"============================================\")\n",
        "  print(\"Final evaluation dataset:\")\n",
        "  display(\n",
        "      generated_questions_cleaned[\n",
        "          [\n",
        "              \"question\",\n",
        "              \"answer\",\n",
        "              \"groundedness_score\",\n",
        "              \"relevance_score\",\n",
        "              \"standalone_score\",\n",
        "          ]\n",
        "      ]\n",
        "  )\n",
        "\n",
        "  return generated_questions_cleaned\n",
        "\n"
      ],
      "metadata": {
        "id": "dXnyvoBQfpkR"
      },
      "execution_count": null,
      "outputs": []
    },
    {
      "cell_type": "code",
      "source": [
        "len(generated_questions)"
      ],
      "metadata": {
        "id": "bvpWzDxiSsDq"
      },
      "execution_count": null,
      "outputs": []
    },
    {
      "cell_type": "code",
      "source": [
        "generated_questions_cleaned = eval_qa_pairs(generated_questions)"
      ],
      "metadata": {
        "id": "ktQYSPboxeKj"
      },
      "execution_count": null,
      "outputs": []
    },
    {
      "cell_type": "code",
      "source": [
        "len(generated_questions_cleaned)"
      ],
      "metadata": {
        "id": "QPyZEyNCaZV2"
      },
      "execution_count": null,
      "outputs": []
    },
    {
      "cell_type": "code",
      "source": [
        "# generated_questions_cleaned.to_csv(\"/content/drive/MyDrive/SwissText SharedTask/generated_questions_cleaned.csv\")"
      ],
      "metadata": {
        "id": "9DmNrSOFpMkv"
      },
      "execution_count": null,
      "outputs": []
    },
    {
      "cell_type": "code",
      "source": [
        "# generated_questions_cleaned  = pd.read_csv(\"/content/drive/MyDrive/SwissText SharedTask/generated_questions_cleaned.csv\")"
      ],
      "metadata": {
        "id": "q1oBSsvOJRAN"
      },
      "execution_count": null,
      "outputs": []
    },
    {
      "cell_type": "markdown",
      "source": [
        "From the set of five questions below, we observe several key characteristics that demonstrate the quality and diversity of the generated QA pairs. Overall, these examples illustrate that our process successfully produced questions that are contextually grounded, relevant, and thought-provoking:\n",
        "\n",
        "  - The questions address both technical and real-world concerns—for example, one question explores the potential for recycling electric car batteries and its broader environmental and economic benefits, while another discusses the impact of global warming on wildlife. This shows that our QA pairs capture a range of topics within the cleantech domain.\n",
        "\n",
        "  - They integrate multiple aspects of the domain. Questions connect technological aspects (like recycling challenges and grid stability with V2X technology) with behavioral or market trends (such as the influence of owning an electric vehicle on solar panel installations). This blend of technical and contextual elements makes the QA pairs more comprehensive.\n",
        "\n",
        "  - The questions are formulated to invite detailed and informative answers. By asking about challenges and potential solutions in one case or the broader implications of a technology in another, these questions encourage responses that are both analytical and forward-looking.\n",
        "\n",
        "  - In general, the generated questions are clear and self-contained, meaning they can stand alone without needing extensive external context. This quality is crucial for ensuring that the QA pairs are useful in downstream tasks, like feeding into a retrieval-augmented generation system.\n",
        "\n",
        "In summary, the diversity and clarity of these questions from technical specifics to broader market and environmental implications demonstrate that our QA pair generation method is effective at producing high-quality, varied, and contextually rich questions across different aspects of cleantech innovation.\n",
        "\n",
        "  \n",
        "\n",
        "These questions collectively show that our approach results in a robust QA dataset that captures various dimensions of the cleantech field.\n"
      ],
      "metadata": {
        "id": "fkh3aW-yKXOk"
      }
    },
    {
      "cell_type": "code",
      "source": [
        "\n",
        "generated_questions_cleaned['question'].head()"
      ],
      "metadata": {
        "id": "MRR_lLgIJWqn"
      },
      "execution_count": null,
      "outputs": []
    },
    {
      "cell_type": "markdown",
      "source": [
        "## 7. Evaluation Distributions"
      ],
      "metadata": {
        "id": "Py1SdzMeip5l"
      }
    },
    {
      "cell_type": "code",
      "source": [],
      "metadata": {
        "id": "k49mi_sBitrM"
      },
      "execution_count": null,
      "outputs": []
    },
    {
      "cell_type": "code",
      "source": [
        "def plot_evaluation_distribution(df, score_field, title):\n",
        "    plt.figure(figsize=(8, 4))\n",
        "    sns.histplot(df[score_field], bins=5, kde=False)\n",
        "    plt.title(title)\n",
        "    plt.xlabel(\"Score\")\n",
        "    plt.ylabel(\"Frequency\")\n",
        "    plt.xticks(range(1, 7))\n",
        "    plt.show()\n",
        "\n",
        "plot_evaluation_distribution(generated_questions_cleaned, \"groundedness_score\", \"Distribution of Groundedness Scores\")\n",
        "plot_evaluation_distribution(generated_questions_cleaned, \"relevance_score\", \"Distribution of Relevance Scores\")\n",
        "plot_evaluation_distribution(generated_questions_cleaned, \"standalone_score\", \"Distribution of Standalone Scores\")\n"
      ],
      "metadata": {
        "id": "IxegULExiqy0"
      },
      "execution_count": null,
      "outputs": []
    },
    {
      "cell_type": "code",
      "source": [],
      "metadata": {
        "id": "OwwI6zPnGZoZ"
      },
      "execution_count": null,
      "outputs": []
    },
    {
      "cell_type": "markdown",
      "source": [
        "### Evaluation of the Human Evaluation Dataset Analysis\n",
        "\n",
        "In addition to our generated QA pairs, we evalutate the human evaluation dataset(cleantech_rag_evaluation_data_2024-09-20.csv). This dataset is a small, high-quality evaluation set designed to benchmark the retrieval step in the RAG system. The human evaluators have already curated these 28 examples for quality.\n",
        "\n",
        "We pass this dataset through our classification and evaluation pipeline to see how well our automated QA evaluation compares. After running the examples through the pipeline (which includes our LLM-based critique agents and filtering logic), we found that only 2 out of the 28 examples were classified as good.\n",
        "\n",
        "This outcome highlights a few key insights:\n",
        "\n",
        "  - High Standards for Quality:\n",
        "  Our pipeline uses strict evaluation metrics for groundedness, relevance, and standalone clarity. The fact that only 2 examples met our threshold indicates that these metrics are effective at distinguishing high quality QA pairs from those that are ambiguous, irrelevant, or overly context dependent.\n",
        "\n",
        "  - Differences in Human vs. Automated Judgment:\n",
        "  Although the human evaluation dataset is curated for quality, our automated critique agents may apply slightly different standards. This gap can arise due to the inherent differences between human judgment and the deterministic nature of our LLM-based scoring.\n",
        "\n",
        "  - Potential Areas for Improvement:\n",
        "  The low pass rate (2/28) suggests that even the high-quality human-curated examples can sometimes fall short of our strict automatic evaluation criteria. This may be due to subtle issues in the questions or context that our models pick up on. It also indicates that our QA generation and evaluation techniques could be further fine-tuned to align better with human judgments.\n",
        "\n",
        "  - Implications for the Retrieval Step:\n",
        "  Since this evaluation dataset is specifically for assessing the Retrieval component of our RAG system, maintaining a high-quality benchmark is crucial. Even though our automated pipeline filters aggressively, ensuring that the retrieval component consistently returns the top-quality examples is a key factor in the overall system performance.\n",
        "\n",
        "In summary, processing the human evaluation dataset demonstrates the robustness of our filtering and quality control process, while also revealing areas where our automated system might differ from human expectations. This insight is valuable for tuning both our QA generation methods and our evaluation criteria to create an optimal RAG system.\n"
      ],
      "metadata": {
        "id": "DnA-_r6tLpSp"
      }
    },
    {
      "cell_type": "code",
      "source": [
        "human_eval"
      ],
      "metadata": {
        "id": "4TsioiXgM8a-"
      },
      "execution_count": null,
      "outputs": []
    },
    {
      "cell_type": "code",
      "source": [
        "# human_eval = pd.read_csv(\"/content/drive/MyDrive/SwissText SharedTask/human_eval_csv.csv\")"
      ],
      "metadata": {
        "id": "8w-bKiwFj7El"
      },
      "execution_count": null,
      "outputs": []
    },
    {
      "cell_type": "code",
      "source": [
        "\n",
        "dfs = [human_eval]\n",
        "\n",
        "human_eval_categorized_sentence_bert = stack_and_categorize(dfs)"
      ],
      "metadata": {
        "id": "5Frt1ddlZDWU"
      },
      "execution_count": null,
      "outputs": []
    },
    {
      "cell_type": "code",
      "source": [
        "human_eval_categorized_sentence_bert"
      ],
      "metadata": {
        "id": "ftdX81SZZekJ"
      },
      "execution_count": null,
      "outputs": []
    },
    {
      "cell_type": "code",
      "source": [
        "outputs = []\n",
        "for idx, row in human_eval_categorized_sentence_bert.iterrows():\n",
        "    outputs.append({\n",
        "        \"context\": row['relevant_text'],\n",
        "        \"question\": row['question'],\n",
        "        \"answer\": row['answer'],\n",
        "        \"source_doc\": row['article_url'],\n",
        "        \"category\": row[\"category\"]\n",
        "    })\n"
      ],
      "metadata": {
        "id": "PwgSIIM6Wwbm"
      },
      "execution_count": null,
      "outputs": []
    },
    {
      "cell_type": "code",
      "source": [
        "results = create_eval(outputs)"
      ],
      "metadata": {
        "id": "xY4BnQ2CZuYv"
      },
      "execution_count": null,
      "outputs": []
    },
    {
      "cell_type": "code",
      "source": [
        "evaluated_results = eval_qa_pairs(results)"
      ],
      "metadata": {
        "id": "c1XoteJ9ZzQA"
      },
      "execution_count": null,
      "outputs": []
    },
    {
      "cell_type": "code",
      "source": [
        "len(evaluated_results)"
      ],
      "metadata": {
        "id": "NnZVrZrJaPlG"
      },
      "execution_count": null,
      "outputs": []
    },
    {
      "cell_type": "markdown",
      "source": [
        "## 8. Conclusion & Next Steps\n",
        "\n",
        "In this notebook, we explored the process of creating and analyzing QA pairs from 50–100 carefully selected paragraphs from the Cleantech Media and Google Patent datasets. By generating, classifying, and rigorously evaluating these QA pairs using LLMs, we built a high-quality dataset that serves as a robust foundation for our RAG pipeline.\n",
        "\n",
        "Next Steps:\n",
        "\n",
        "  - Integrate the filtered QA dataset into the implemeted RAG system.\n",
        "\n",
        "  - Experiment with different LLM prompts and filtering thresholds to refine your QA pair quality.\n",
        "\n",
        "  - Use the insights gained from the evaluation visualizations to further tune your retrieval and generation processes."
      ],
      "metadata": {
        "id": "OBPqiSz0VqtU"
      }
    },
    {
      "cell_type": "code",
      "source": [],
      "metadata": {
        "id": "2WCujuMpWbmC"
      },
      "execution_count": null,
      "outputs": []
    },
    {
      "cell_type": "code",
      "source": [],
      "metadata": {
        "id": "ZiBhNVZdWbjk"
      },
      "execution_count": null,
      "outputs": []
    },
    {
      "cell_type": "code",
      "source": [],
      "metadata": {
        "id": "3pAaS0UFVq_2"
      },
      "execution_count": null,
      "outputs": []
    },
    {
      "cell_type": "code",
      "source": [
        "articles_df.columns"
      ],
      "metadata": {
        "id": "lRsIIU6xVrKc"
      },
      "execution_count": null,
      "outputs": []
    },
    {
      "cell_type": "code",
      "source": [
        "patent_df.columns"
      ],
      "metadata": {
        "id": "dARMTavjaWUg"
      },
      "execution_count": null,
      "outputs": []
    },
    {
      "cell_type": "code",
      "source": [
        "len(articles_df)"
      ],
      "metadata": {
        "id": "VTIDKGtVdKCa"
      },
      "execution_count": null,
      "outputs": []
    },
    {
      "cell_type": "code",
      "source": [
        "from openai import OpenAI\n",
        "\n",
        "client = OpenAI(\n",
        "  base_url=\"https://openrouter.ai/api/v1\",\n",
        "  api_key=\"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\",\n",
        ")\n",
        "\n",
        "def generate_qa_pairs(df, target_qa_pairs=43):\n",
        "\n",
        "    client = OpenAI(\n",
        "    base_url=\"https://openrouter.ai/api/v1\",\n",
        "    api_key=\"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\",\n",
        "    )\n",
        "\n",
        "    qa_pairs = []\n",
        "    # for _ in range(target_qa_pairs):\n",
        "    for _, row in df.iterrows():\n",
        "        abstract = row['content']\n",
        "        prompt = f\"\"\"\n",
        "                Based on the following reference text, generate a relevant question and its corresponding answer.\n",
        "                The generated question must meet all the following quality criteria:\n",
        "\n",
        "                1. Groundedness: The question must be clearly answerable using only the information provided in the reference text.\n",
        "                2. Relevance: The question must be useful and interesting for machine learning practitioners, especially for those building NLP applications. Avoid overly trivial or time-sensitive questions.\n",
        "                3. Stand-alone: The question must be self-contained and understandable without additional context or reference to the document it came from. It should make sense to anyone with general domain knowledge.\n",
        "\n",
        "                Please ensure the question is phrased in a way that clearly adheres to these criteria. Use the following guidelines as a reference:\n",
        "                - If the question refers only to details provided in the text, it is considered grounded.\n",
        "                - If the question can be useful in practical scenarios (such as in the Hugging Face ecosystem), it is considered relevant.\n",
        "                - If the question is understandable without needing extra context (e.g., it does not include phrases like \"in the document\" or \"as mentioned above\"), it is considered stand-alone.\n",
        "\n",
        "                Now, here is the reference text:\n",
        "\n",
        "                {abstract}\n",
        "\n",
        "                Provide your output in the following format:\n",
        "\n",
        "                Question: <generated question>\n",
        "                Answer: <generated answer>\n",
        "                \"\"\"\n",
        "\n",
        "        completion = client.chat.completions.create(\n",
        "            extra_body={},\n",
        "            model=\"meta-llama/llama-3.2-3b-instruct:free\",\n",
        "            messages=[\n",
        "                {\n",
        "                    \"role\": \"user\",\n",
        "                    \"content\": prompt\n",
        "                }\n",
        "            ]\n",
        "        )\n",
        "\n",
        "\n",
        "      # if completion.choices:\n",
        "        try:\n",
        "          qa_text = completion.choices[0].message.content.split(\"**\")\n",
        "          if len(qa_text) >= 2 :\n",
        "            question = qa_text[0]\n",
        "            answer = qa_text[1]\n",
        "            qa_pairs.append({\n",
        "                \"question\": question,\n",
        "                \"relevant_text\": abstract,\n",
        "                \"answer\": answer,\n",
        "                \"url\": row.get('url','None'),\n",
        "            })\n",
        "          else: continue\n",
        "        except Exception as e:\n",
        "          print(completion)\n",
        "\n",
        "    return pd.DataFrame(qa_pairs)\n"
      ],
      "metadata": {
        "id": "D5aulUZPaZGr"
      },
      "execution_count": null,
      "outputs": []
    },
    {
      "cell_type": "code",
      "source": [
        "random_articles_df_sample = articles_df.sample(n=200, random_state=42)\n",
        "random_patent_df_sample = patent_df.sample(n=200, random_state=42)"
      ],
      "metadata": {
        "id": "5VmjMnpgc2yF"
      },
      "execution_count": null,
      "outputs": []
    },
    {
      "cell_type": "code",
      "source": [
        "articles_qa_sample = generate_qa_pairs(random_articles_df_sample, target_qa_pairs=43)"
      ],
      "metadata": {
        "id": "1nrUdcjQdQgL"
      },
      "execution_count": null,
      "outputs": []
    },
    {
      "cell_type": "code",
      "source": [
        "len(articles_qa_sample)"
      ],
      "metadata": {
        "id": "n3dQJS8ej29-"
      },
      "execution_count": null,
      "outputs": []
    },
    {
      "cell_type": "code",
      "source": [
        "random_articles_df_sample.iloc[43]['content']"
      ],
      "metadata": {
        "id": "EY-0yOWke0j1"
      },
      "execution_count": null,
      "outputs": []
    },
    {
      "cell_type": "code",
      "source": [
        "abstract = random_articles_df_sample.iloc[43]['content']\n",
        "qa_pairs = []\n",
        "\n",
        "client = OpenAI(\n",
        "  base_url=\"https://openrouter.ai/api/v1\",\n",
        "  api_key=\"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\",\n",
        ")\n",
        "\n",
        "prompt = f\"\"\"\n",
        "        Based on the following reference text, generate a relevant question and its corresponding answer.\n",
        "        The generated question must meet all the following quality criteria:\n",
        "\n",
        "        1. Groundedness: The question must be clearly answerable using only the information provided in the reference text.\n",
        "        2. Relevance: The question must be useful and interesting for machine learning practitioners, especially for those building NLP applications. Avoid overly trivial or time-sensitive questions.\n",
        "        3. Stand-alone: The question must be self-contained and understandable without additional context or reference to the document it came from. It should make sense to anyone with general domain knowledge.\n",
        "\n",
        "        Please ensure the question is phrased in a way that clearly adheres to these criteria. Use the following guidelines as a reference:\n",
        "        - If the question refers only to details provided in the text, it is considered grounded.\n",
        "        - If the question can be useful in practical scenarios (such as in the Hugging Face ecosystem), it is considered relevant.\n",
        "        - If the question is understandable without needing extra context (e.g., it does not include phrases like \"in the document\" or \"as mentioned above\"), it is considered stand-alone.\n",
        "\n",
        "        Now, here is the reference text:\n",
        "\n",
        "        {abstract}\n",
        "\n",
        "        Provide your output in the following format:\n",
        "\n",
        "        Question: <generated question>\n",
        "        Answer: <generated answer>\n",
        "        \"\"\"\n",
        "\n",
        "completion = client.chat.completions.create(\n",
        "    extra_body={},\n",
        "    model=\"meta-llama/llama-3.2-3b-instruct:free\",\n",
        "    messages=[\n",
        "        {\n",
        "            \"role\": \"user\",\n",
        "            \"content\": prompt\n",
        "        }\n",
        "    ]\n",
        ")\n",
        "\n",
        "\n",
        "# if completion.choices:\n",
        "print(completion)\n",
        "qa_text = completion.choices[0].message.content.split(\"\\n\")\n",
        "print()\n",
        "print(qa_text)\n",
        "print(len(qa_text))\n",
        "\n",
        "\n",
        "if len(qa_text) >= 2 :\n",
        "  question = qa_text[0]\n",
        "  answer = qa_text[1]\n",
        "  qa_pairs.append({\n",
        "      \"question\": question,\n",
        "      \"relevant_text\": abstract,\n",
        "      \"answer\": answer,\n",
        "      \"url\": row.get('url','None'),\n",
        "  })\n",
        "else:\n",
        "  print(qa_text)\n"
      ],
      "metadata": {
        "id": "2P9OnRBudYR6"
      },
      "execution_count": null,
      "outputs": []
    },
    {
      "cell_type": "code",
      "source": [
        "qa_pairs[0]['answer']"
      ],
      "metadata": {
        "id": "Zau971VMfHxr"
      },
      "execution_count": null,
      "outputs": []
    },
    {
      "cell_type": "code",
      "source": [
        "from google.colab import drive\n",
        "drive.mount('/content/drive')\n"
      ],
      "metadata": {
        "id": "cnZGtY89mmfS"
      },
      "execution_count": null,
      "outputs": []
    },
    {
      "cell_type": "code",
      "source": [
        "!jupyter nbconvert --to html --template pj /content/drive/MyDrive/Colab Notebooks/QA_Pairs.ipynb\n"
      ],
      "metadata": {
        "id": "-v_-bm7wQNH4"
      },
      "execution_count": null,
      "outputs": []
    },
    {
      "cell_type": "code",
      "source": [],
      "metadata": {
        "id": "O7IR7dN4lveR"
      },
      "execution_count": null,
      "outputs": []
    }
  ]
}